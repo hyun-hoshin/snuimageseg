{
 "cells": [
  {
   "cell_type": "markdown",
   "metadata": {
    "id": "96ohkCyqZNaM"
   },
   "source": [
    "#  MONAI Bootcamp\n",
    "## Getting Started with MONAI\n",
    "\n",
    "![monai logo](https://github.com/Project-MONAI/MONAIBootcamp2021/raw/2f28b64f814a03703667c8ea18cc84f53d6795e4/day1/monai.png)\n",
    "\n",
    "Welcome to the MONAI bootcamp! This notebook will introduce you to an end-to-end workin in MONAI using both a standard PyTorch loop and using Ignite, followed by a hands-on implementing your own segmentation using everything you've learned so far.\n",
    "\n",
    "#### Required Packages \n",
    "\n",
    "Execute the following cell to install MONAI the first time a colab notebook is run:"
   ]
  },
  {
   "cell_type": "code",
   "execution_count": null,
   "metadata": {
    "colab": {
     "base_uri": "https://localhost:8080/"
    },
    "id": "1aLtpMbJVNCH",
    "outputId": "a0e88869-2f92-4f3b-d5b9-34db0cdfdbed"
   },
   "outputs": [],
   "source": [
    "#!pip install -qU \"monai[ignite, nibabel, torchvision, tqdm]==0.8.1\""
   ]
  },
  {
   "cell_type": "markdown",
   "metadata": {
    "id": "p7pcbsphZh8G"
   },
   "source": [
    "### Check GPU Support\n",
    "\n",
    " Running\n",
    "\n",
    "`!nvidia-smi`\n",
    "\n",
    "in a cell will verify this has worked and show you what kind of hardware you have access to."
   ]
  },
  {
   "cell_type": "code",
   "execution_count": null,
   "metadata": {
    "colab": {
     "base_uri": "https://localhost:8080/"
    },
    "id": "ZVD7911EVcWI",
    "outputId": "d121896f-b2c4-4ed6-f806-a433b097199b"
   },
   "outputs": [],
   "source": [
    "!nvidia-smi"
   ]
  },
  {
   "cell_type": "markdown",
   "metadata": {
    "id": "TnPczYfDXV3K"
   },
   "source": [
    "# Getting Started with MONAI\n",
    "\n",
    "MONAI is a PyTorch-based, open-source framework for deep learning in healthcare imaging, part of PyTorch Ecosystem.\n",
    "\n",
    "Its ambitions are:\n",
    "\n",
    "developing a community of academic, industrial and clinical researchers collaborating on a common foundation;\n",
    "creating state-of-the-art, end-to-end training workflows for healthcare imaging;\n",
    "providing researchers with the optimized and standardized way to create and evaluate deep learning models.\n",
    "MONAI aims at supporting deep learning in medical image analysis at multiple granularities. This figure shows a typical example of the end-to-end workflow in medical deep learning area:\n",
    "\n",
    "![monai pipeline](https://github.com/Project-MONAI/MONAIBootcamp2021/raw/2f28b64f814a03703667c8ea18cc84f53d6795e4/day1/end_to_end.png)\n",
    "\n",
    "\n",
    "# What's the Need?\n",
    "Biomedical applications have specific requirements\n",
    "Image modalities (MR, CT, US, etc.) require specific data processing\n",
    "Data formats (DICOM, NIfTI, etc.) are specific to medical applications and require special support\n",
    "Certain network architectures are designed for, or are highly suitable for, biomedical applications\n",
    "Data transforms specific to biomedical applications, and to image modalities, are very useful when pre-processing data, augmenting data during training, and post-processing\n",
    "Reproducible science requires reproducible experiments which in turn rely on software accessible to other scientists, even if just as a common baseline\n",
    "A community-driven library to provide solutions to these requirements reduces duplication/re-implementation\n",
    "Baseline implementations of common networks, and implementations of networks specific to certain papers, provides a basis for comparison between other's networks and results\n",
    "How Does MONAI Address This Need?\n",
    "MONAI provides a framework of deep learning facilities and infrastructure to meet these needs in a flexible Pytorch-compatible way:\n",
    "\n",
    "Data loading and handling library for biomedical file types\n",
    "Large set of data transforms to process, regularize, and augment image date before, during, and after training\n",
    "Library of general-purpose network, metric, and loss function definitions implementing common architectures\n",
    "Set of ready-made components for training and inference to utilize computing infrastructure efficiently\n",
    "MONAI contributes to reproducibilty by making the training and distribution of experiments easier:\n",
    "\n",
    "Common underlying framework betweeen different users' implementations aids in comparison and interoperability\n",
    "Users can pick and choose components and existing networks then contribute new code to make their results available to others\n",
    "Reference implementations of networks from papers provides baselines for replication studies and comparisons\n",
    "\n",
    "# MONAI architecture\n",
    "\n",
    "The design principle of MONAI is to provide flexible and light APIs for users with varying expertise. All the core components are independent modules, which can be easily integrated into any existing PyTorch programs. Users can leverage the workflows in MONAI to quickly set up a robust training or evaluation program for research experiments. Rich examples and demos are provided to demonstrate the key features. Researchers contribute implementations based on the state-of-the-art for the latest research challenges, including COVID-19 image analysis, Model Parallel, etc.\n",
    "\n",
    "\n",
    "![monai architecture](https://github.com/Project-MONAI/MONAIBootcamp2021/raw/2f28b64f814a03703667c8ea18cc84f53d6795e4/day1/arch_modules_v0.4.png)\n",
    "\n",
    "# MONAI Design Philosophy\n",
    "\n",
    "Key principles:\n",
    "\n",
    "- MONAI looks like PyTorch, uses/extends PyTorch types and adheres to it's general design philosophy\n",
    "- MONAI is additive on top of PyTorch, providing extensions or wrappers\n",
    "- MONAI is opt-in and incremental, no need to rewrite entire models to integrate existing code\n",
    "- MONAI is collaborative, providing adapters and loosely coupled components to ease integration with third party code\n",
    "- MONAI is PyTorch ecosystem friendly, and part of the official ecosystem!\n",
    "\n",
    "# MONAI Transforms\n",
    "To help you understand more about MONAI transforms, this guide will help you answer five key questions:\n",
    "\n",
    " 1. What transforms are available to help create a data pipeline for training?\n",
    " 2. What are array transforms?\n",
    " 3. What is required to write a custom transform?\n",
    " 4. What are dictionary transforms?\n",
    " 5. How do I create a basic MONAI dataset with transforms?\n",
    "\n",
    "Let's get started by importing our dependecies. We're going to load everything that we'll need for the remainder of the notebook here. You'll see a lot of import statements, but we'll make sure to go over each of them throughout the rest of the notebook."
   ]
  },
  {
   "cell_type": "code",
   "execution_count": 1,
   "metadata": {
    "colab": {
     "base_uri": "https://localhost:8080/"
    },
    "id": "Vn6Onix9XyxR",
    "outputId": "e12ac284-bf7f-426a-bcc8-0abc497cc0b3"
   },
   "outputs": [
    {
     "name": "stdout",
     "output_type": "stream",
     "text": [
      "MONAI version: 0.9.1\n",
      "Numpy version: 1.22.0\n",
      "Pytorch version: 1.11.0a0+bfe5ad2\n",
      "MONAI flags: HAS_EXT = False, USE_COMPILED = False, USE_META_DICT = False\n",
      "MONAI rev id: 356d2d2f41b473f588899d705bbc682308cee52c\n",
      "MONAI __file__: /opt/conda/lib/python3.8/site-packages/monai/__init__.py\n",
      "\n",
      "Optional dependencies:\n",
      "Pytorch Ignite version: 0.4.9\n",
      "Nibabel version: 4.0.1\n",
      "scikit-image version: 0.19.3\n",
      "Pillow version: 9.2.0\n",
      "Tensorboard version: 2.10.0\n",
      "gdown version: 4.5.1\n",
      "TorchVision version: 0.12.0a0\n",
      "tqdm version: 4.62.3\n",
      "lmdb version: 1.3.0\n",
      "psutil version: 5.9.0\n",
      "pandas version: 1.3.5\n",
      "einops version: 0.4.1\n",
      "transformers version: 4.21.3\n",
      "mlflow version: NOT INSTALLED or UNKNOWN VERSION.\n",
      "pynrrd version: 0.4.3\n",
      "\n",
      "For details about installing the optional dependencies, please visit:\n",
      "    https://docs.monai.io/en/latest/installation.html#installing-the-recommended-dependencies\n",
      "\n"
     ]
    }
   ],
   "source": [
    "import tempfile\n",
    "import nibabel as nib\n",
    "import numpy as np\n",
    "import matplotlib.pyplot as plt\n",
    "from typing import Optional, Any, Mapping, Hashable\n",
    "\n",
    "import monai\n",
    "from monai.config import print_config\n",
    "from monai.utils import first\n",
    "from monai.config import KeysCollection\n",
    "from monai.data import Dataset, ArrayDataset, create_test_image_3d, DataLoader\n",
    "from monai.transforms import (\n",
    "    Transform,\n",
    "    MapTransform,\n",
    "    Randomizable,\n",
    "    AddChannel,\n",
    "    AddChanneld,\n",
    "    Compose,\n",
    "    LoadImage,\n",
    "    LoadImaged,\n",
    "    Lambda,\n",
    "    Lambdad,\n",
    "    RandSpatialCrop,\n",
    "    RandSpatialCropd,\n",
    "    ToTensor,\n",
    "    ToTensord,\n",
    "    Orientation, \n",
    "    Rotate\n",
    ")\n",
    "print_config()"
   ]
  },
  {
   "cell_type": "markdown",
   "metadata": {
    "id": "HLsN8dlfX94a"
   },
   "source": [
    "\n",
    "# 1. What transforms are available to help create a data pipeline for training?\n",
    "\n",
    "## Medical image data I/O, processing and augmentation\n",
    "\n",
    "Medical images require highly specialized methods for I/O, preprocessing, and augmentation. Medical images are often in specialized formats with rich meta-information, and the data volumes are often high-dimensional. These require carefully designed manipulation procedures. The medical imaging focus of MONAI is enabled by powerful and flexible image transformations that facilitate user-friendly, reproducible, optimized medical data pre-processing pipelines.\n",
    "\n",
    "![seg](https://github.com/Project-MONAI/MONAIBootcamp2021/raw/2f28b64f814a03703667c8ea18cc84f53d6795e4/day1/medical_transforms.png)\n",
    "\n",
    "## Transforms support both Dictionary and Array format data\n",
    "\n",
    "The widely used computer vision packages (such as torchvision) focus on spatially 2D array image processing. MONAI provides more domain-specific transformations for both spatially 2D and 3D and retains the flexible transformation “compose” feature.\n",
    "\n",
    "As medical image preprocessing often requires additional fine-grained system parameters, MONAI provides transforms for input data encapsulated in python dictionaries. Users can specify the keys corresponding to the expected data fields and system parameters to compose complex transformations.\n",
    "\n",
    "There is a rich set of transforms in six categories: Crop & Pad, Intensity, IO, Post-processing, Spatial, and Utilities. For more details, please visit all the transforms in MONAI.\n",
    "\n",
    "## Medical specific transforms\n",
    "\n",
    "MONAI aims at providing a comprehensive medical image specific transformations. These currently include, for example:\n",
    "\n",
    " - LoadImage: Load medical specific formats file from provided path\n",
    " - Spacing: Resample input image into the specified pixdim\n",
    " - Orientation: Change the image’s orientation into the specified axcodes\n",
    " - RandGaussianNoise: Perturb image intensities by adding statistical noises\n",
    " - NormalizeIntensity: Intensity Normalization based on mean and standard deviation\n",
    " - Affine: Transform image based on the affine parameters\n",
    " - Rand2DElastic: Random elastic deformation and affine in 2D\n",
    " - Rand3DElastic: Random elastic deformation and affine in 3D\n",
    "\n",
    "We'll create a temporary directory and populate it with a few example Nifti file-format images containing a random assortment of spheres. We're also creating a matching segmentation pair that will be used later in the notebook."
   ]
  },
  {
   "cell_type": "code",
   "execution_count": 2,
   "metadata": {
    "id": "Hwl23rM4YTsj"
   },
   "outputs": [],
   "source": [
    "%%time\n",
    "\n",
    "fn_keys = (\"img\", \"seg\")  # filename keys for image and seg files\n",
    "\n",
    "root_dir = tempfile.mkdtemp()\n",
    "filenames = []\n",
    "\n",
    "for i in range(5):\n",
    "    im, seg = create_test_image_3d(256, 256, 256, num_objs=25, rad_max=50)\n",
    "\n",
    "    im_filename = f\"{root_dir}/im{i}.nii.gz\"\n",
    "    seg_filename = f\"{root_dir}/seg{i}.nii.gz\"\n",
    "    filenames.append({\"img\": im_filename, \"seg\": seg_filename})\n",
    "\n",
    "    n = nib.Nifti1Image(im, np.eye(4))\n",
    "    nib.save(n, im_filename)\n",
    "\n",
    "    n = nib.Nifti1Image(seg, np.eye(4))\n",
    "    nib.save(n, seg_filename)"
   ]
  },
  {
   "cell_type": "code",
   "execution_count": 7,
   "metadata": {
    "id": "Hwl23rM4YTsj"
   },
   "outputs": [
    {
     "name": "stdout",
     "output_type": "stream",
     "text": [
      "[{'img': '/tmp/tmpmns8ihjg/im0.nii.gz', 'seg': '/tmp/tmpmns8ihjg/seg0.nii.gz'}, {'img': '/tmp/tmpmns8ihjg/im1.nii.gz', 'seg': '/tmp/tmpmns8ihjg/seg1.nii.gz'}, {'img': '/tmp/tmpmns8ihjg/im2.nii.gz', 'seg': '/tmp/tmpmns8ihjg/seg2.nii.gz'}, {'img': '/tmp/tmpmns8ihjg/im3.nii.gz', 'seg': '/tmp/tmpmns8ihjg/seg3.nii.gz'}, {'img': '/tmp/tmpmns8ihjg/im4.nii.gz', 'seg': '/tmp/tmpmns8ihjg/seg4.nii.gz'}]\n"
     ]
    }
   ],
   "source": [
    "print(filenames)"
   ]
  },
  {
   "cell_type": "markdown",
   "metadata": {
    "id": "gk0vi85vYSZv"
   },
   "source": [
    "## 2. What are array transforms?\n",
    "\n",
    "Transforms in MONAI are callable objects accepting inputs from initial data in a dataset or previous transforms. We can create and call these directly without any infrastructure or system setup as components in MONAI are designed to be as decoupled as possible. For example we can load one of our Nifti files directly by creating the transform and calling it.\n",
    "\n",
    "Transforms are composed with Compose to create a sequence of operations. Compose itself being a transform we can also call it directly. The type of img here is numpy.ndarray so to convert to a Pytorch tensor as part of a training data pipeline we'd have ToTensor as the last transform in our sequence:"
   ]
  },
  {
   "cell_type": "code",
   "execution_count": 3,
   "metadata": {
    "colab": {
     "base_uri": "https://localhost:8080/"
    },
    "id": "ny9hsGAQYY6P",
    "outputId": "44697e44-25dc-4bfe-fae1-634d9415290b"
   },
   "outputs": [
    {
     "name": "stdout",
     "output_type": "stream",
     "text": [
      "<class 'torch.Tensor'> torch.Size([1, 256, 256, 256]) -1\n"
     ]
    }
   ],
   "source": [
    "trans = Compose([LoadImage(image_only=True), AddChannel(), ToTensor()])\n",
    "img = trans(filenames[0][\"img\"])\n",
    "print(type(img), img.shape, img.get_device())\n"
   ]
  },
  {
   "cell_type": "markdown",
   "metadata": {
    "id": "Z9U7JgypYZDv"
   },
   "source": [
    "## 3. How do I create a custom transform?\n",
    "\n",
    "We can define our own custom transform operation in a number of ways. If a simple callable is used as an operator, Lambda can be used to wrap it as a transform. We define in this example a transform to sum the image in the 1st (width) dimension to produce a 2D image:"
   ]
  },
  {
   "cell_type": "code",
   "execution_count": 4,
   "metadata": {
    "colab": {
     "base_uri": "https://localhost:8080/",
     "height": 286
    },
    "id": "5fsL7CwPYcva",
    "outputId": "081011a7-f0e4-4f6a-b75e-e6b234d7f24a"
   },
   "outputs": [
    {
     "data": {
      "text/plain": [
       "<matplotlib.image.AxesImage at 0x7f29fd28bb20>"
      ]
     },
     "execution_count": 4,
     "metadata": {},
     "output_type": "execute_result"
    },
    {
     "data": {
      "image/png": "[encoded data removed]",
      "text/plain": [
       "<Figure size 432x288 with 1 Axes>"
      ]
     },
     "metadata": {
      "needs_background": "light"
     },
     "output_type": "display_data"
    }
   ],
   "source": [
    "def sum_width(img):\n",
    "    return img.sum(1)\n",
    "\n",
    "trans = Compose([LoadImage(image_only=True), AddChannel(), Lambda(sum_width)])\n",
    "img = trans(filenames[0][\"img\"])\n",
    "plt.imshow(img[0])"
   ]
  },
  {
   "cell_type": "markdown",
   "metadata": {
    "id": "Ivh-PSTLYfnc"
   },
   "source": [
    "Creating a subclass of Transform is the second method, and this has the advantage of being able to define attributes with the instantiated objects. Let's define a class to sum in a chosen dimension, and use it to sum in the 2nd (height) dimension:"
   ]
  },
  {
   "cell_type": "code",
   "execution_count": 5,
   "metadata": {
    "colab": {
     "base_uri": "https://localhost:8080/",
     "height": 286
    },
    "id": "Xqitlet2Yg3j",
    "outputId": "7485e734-30aa-4c5e-933f-0c33816de64e"
   },
   "outputs": [
    {
     "data": {
      "text/plain": [
       "<matplotlib.image.AxesImage at 0x7f29fd122100>"
      ]
     },
     "execution_count": 5,
     "metadata": {},
     "output_type": "execute_result"
    },
    {
     "data": {
      "image/png": "[encoded data removed]",
      "text/plain": [
       "<Figure size 432x288 with 1 Axes>"
      ]
     },
     "metadata": {
      "needs_background": "light"
     },
     "output_type": "display_data"
    }
   ],
   "source": [
    "class SumDimension(Transform):\n",
    "    def __init__(self, dim=1):\n",
    "        self.dim = dim\n",
    "\n",
    "    def __call__(self, inputs):\n",
    "        return inputs.sum(self.dim)\n",
    "\n",
    "trans = Compose([LoadImage(image_only=True), AddChannel(), SumDimension(2)])\n",
    "img = trans(filenames[0][\"img\"])\n",
    "plt.imshow(img[0])"
   ]
  },
  {
   "cell_type": "markdown",
   "metadata": {
    "id": "kt54UcP4Yi8K"
   },
   "source": [
    "All of these example transforms so far have been deterministic, to define transforms which perform some stochastic operation on input data we want to also inherit from `Randomizable`. This class is used to randomize variables but also distinguish from deterministic transforms. We'll see why this is important later in caching data loaders.\n",
    "\n",
    "In this class we have a `numpy.random.RandomState` object to provide stochastic values. This can be replaced using `Randomizable.set_random_state()` to control the randomization process. The `randomize()` method is responsible for determining if the random operation is to be performed based on the `prob` probability member, then creates the random noise array if so. This functionality is in this method so that it can be called by `Compose` or other external controllers.\n",
    "\n",
    "For now lets define a simple transform to add noise.\n",
    "\n",
    "<b>Run this cell a few times to see the random transform being applied 50% of the time.</b>"
   ]
  },
  {
   "cell_type": "code",
   "execution_count": 6,
   "metadata": {
    "colab": {
     "base_uri": "https://localhost:8080/",
     "height": 286
    },
    "id": "wWNf7ixMYwKP",
    "outputId": "d63674b8-a47f-46a4-f86e-4190c7f30c6d"
   },
   "outputs": [
    {
     "data": {
      "text/plain": [
       "<matplotlib.image.AxesImage at 0x7f29fd093c10>"
      ]
     },
     "execution_count": 6,
     "metadata": {},
     "output_type": "execute_result"
    },
    {
     "data": {
      "image/png": "[encoded data removed]",
      "text/plain": [
       "<Figure size 432x288 with 1 Axes>"
      ]
     },
     "metadata": {
      "needs_background": "light"
     },
     "output_type": "display_data"
    }
   ],
   "source": [
    "class RandAdditiveNoise(Randomizable, Transform):\n",
    "    def __init__(self, prob: float = 0.5, max_add: float = 1.0) -> None:\n",
    "        self.prob = np.clip(prob, 0.0, 1.0)\n",
    "        self.max_add = max_add\n",
    "        self._noise = 0\n",
    "\n",
    "    def randomize(self, data: np.ndarray) -> None:\n",
    "        self._noise = 0\n",
    "\n",
    "        if self.R.random() < self.prob:\n",
    "            noise_array = self.R.rand(*data.shape[1:])[None]\n",
    "            self._noise = (noise_array * self.max_add).astype(data.dtype)\n",
    "\n",
    "    def add_noise(self, img: np.ndarray) -> np.ndarray:\n",
    "        return img + self._noise\n",
    "\n",
    "    def __call__(self, img: np.ndarray) -> np.ndarray:\n",
    "        self.randomize(img)\n",
    "        return self.add_noise(img)\n",
    "\n",
    "trans = Compose([LoadImage(image_only=True), AddChannel(), RandAdditiveNoise()])\n",
    "img = trans(filenames[0][\"img\"])\n",
    "plt.imshow(img[0, 128])"
   ]
  },
  {
   "cell_type": "markdown",
   "metadata": {
    "id": "hkyLXyGgY0-c"
   },
   "source": [
    "## 4. What are dictionary transforms?\n",
    "\n",
    "So far we have seen transforms which are applied to individual Numpy arrays, however for most training schemes a pipeline with multiple values is needed. To address this MONAI includes transforms for operating on dictionaries of arrays, one for each equivalent array transform. These can be applied to named values in an input dictionary while leaving unnamed values untouched, for example adding noise to an image while leaving the associated label image untouched.\n",
    "\n",
    "Earlier in the notebook we imported the dictionary equivalent transforms which have a d appended to their names, we'll use those transforms in this section. The `keys` argument in `LoadNiftid` is used to state which keys contain paths to Nifti files, all other values in the input dictionary will be retained. With this set we can look at the keys returned when calling the transform:"
   ]
  },
  {
   "cell_type": "code",
   "execution_count": 8,
   "metadata": {
    "colab": {
     "base_uri": "https://localhost:8080/"
    },
    "id": "Oe4-deuBY3_s",
    "outputId": "63334a80-246f-47c0-b7d1-7b7a477de196"
   },
   "outputs": [
    {
     "name": "stdout",
     "output_type": "stream",
     "text": [
      "['img', 'seg', 'img_meta_dict', 'seg_meta_dict']\n"
     ]
    }
   ],
   "source": [
    "trans = LoadImaged(keys=fn_keys)\n",
    "data = trans(filenames[0])\n",
    "print(list(data.keys()))"
   ]
  },
  {
   "cell_type": "markdown",
   "metadata": {
    "id": "ROolxTGMY5dQ"
   },
   "source": [
    "`Lambdad` applies the given callable to each array named by `keys` separately. We can use this to define transforms operating on different named values in the dictionary at different points in the sequence:"
   ]
  },
  {
   "cell_type": "code",
   "execution_count": 11,
   "metadata": {
    "colab": {
     "base_uri": "https://localhost:8080/",
     "height": 237
    },
    "id": "BxkYtbBMZBQx",
    "outputId": "14f435b6-1648-4902-e405-85164d5bf6fb"
   },
   "outputs": [],
   "source": [
    "def sum_width(img):\n",
    "    return img.sum(1)\n",
    "\n",
    "def max_width(img):\n",
    "    return img.max(1)\n",
    "\n",
    "trans = Compose([LoadImaged(fn_keys), AddChanneld(fn_keys), Lambdad((\"img\",), sum_width), \n",
    "                 Lambdad((\"seg\",), max_width)])\n",
    "\n",
    "imgd = trans(filenames[0])\n",
    "img = imgd[\"img\"]\n",
    "seg = imgd[\"seg\"]"
   ]
  },
  {
   "cell_type": "code",
   "execution_count": 16,
   "metadata": {
    "colab": {
     "base_uri": "https://localhost:8080/",
     "height": 237
    },
    "id": "BxkYtbBMZBQx",
    "outputId": "14f435b6-1648-4902-e405-85164d5bf6fb"
   },
   "outputs": [
    {
     "name": "stdout",
     "output_type": "stream",
     "text": [
      "tensor([[0., 0., 0.,  ..., 0., 0., 0.],\n",
      "        [0., 0., 0.,  ..., 0., 0., 0.],\n",
      "        [0., 0., 0.,  ..., 0., 0., 0.],\n",
      "        ...,\n",
      "        [0., 0., 0.,  ..., 0., 0., 0.],\n",
      "        [0., 0., 0.,  ..., 0., 0., 0.],\n",
      "        [0., 0., 0.,  ..., 0., 0., 0.]])\n",
      "Metadata\n",
      "\tsizeof_hdr: 348\n",
      "\textents: 0\n",
      "\tsession_error: 0\n",
      "\tdim_info: 0\n",
      "\tdim: [  3 256 256 256   1   1   1   1]\n",
      "\tintent_p1: 0.0\n",
      "\tintent_p2: 0.0\n",
      "\tintent_p3: 0.0\n",
      "\tintent_code: 0\n",
      "\tdatatype: 16\n",
      "\tbitpix: 32\n",
      "\tslice_start: 0\n",
      "\tpixdim: [1. 1. 1. 1. 1. 1. 1. 1.]\n",
      "\tvox_offset: 0.0\n",
      "\tscl_slope: nan\n",
      "\tscl_inter: nan\n",
      "\tslice_end: 0\n",
      "\tslice_code: 0\n",
      "\txyzt_units: 0\n",
      "\tcal_max: 0.0\n",
      "\tcal_min: 0.0\n",
      "\tslice_duration: 0.0\n",
      "\ttoffset: 0.0\n",
      "\tglmax: 0\n",
      "\tglmin: 0\n",
      "\tqform_code: 0\n",
      "\tsform_code: 2\n",
      "\tquatern_b: 0.0\n",
      "\tquatern_c: 0.0\n",
      "\tquatern_d: 0.0\n",
      "\tqoffset_x: 0.0\n",
      "\tqoffset_y: 0.0\n",
      "\tqoffset_z: 0.0\n",
      "\tsrow_x: [1. 0. 0. 0.]\n",
      "\tsrow_y: [0. 1. 0. 0.]\n",
      "\tsrow_z: [0. 0. 1. 0.]\n",
      "\taffine: tensor([[1., 0., 0., 0.],\n",
      "        [0., 1., 0., 0.],\n",
      "        [0., 0., 1., 0.],\n",
      "        [0., 0., 0., 1.]], dtype=torch.float64)\n",
      "\toriginal_affine: [[1. 0. 0. 0.]\n",
      " [0. 1. 0. 0.]\n",
      " [0. 0. 1. 0.]\n",
      " [0. 0. 0. 1.]]\n",
      "\tas_closest_canonical: False\n",
      "\tspatial_shape: [256 256 256]\n",
      "\toriginal_channel_dim: no_channel\n",
      "\tfilename_or_obj: /tmp/tmpmns8ihjg/im0.nii.gz\n",
      "\n",
      "Applied operations\n",
      "[{class: 'Lambda', id: 139818248196208, orig_size: (256, 256)}]\n",
      "Is batch?: False tensor([[[0., 0., 0.,  ..., 0., 0., 0.],\n",
      "         [0., 0., 0.,  ..., 0., 0., 0.],\n",
      "         [0., 0., 0.,  ..., 0., 0., 0.],\n",
      "         ...,\n",
      "         [0., 0., 0.,  ..., 0., 0., 0.],\n",
      "         [0., 0., 0.,  ..., 0., 0., 0.],\n",
      "         [0., 0., 0.,  ..., 0., 0., 0.]]])\n",
      "Metadata\n",
      "\tsizeof_hdr: 348\n",
      "\textents: 0\n",
      "\tsession_error: 0\n",
      "\tdim_info: 0\n",
      "\tdim: [  3 256 256 256   1   1   1   1]\n",
      "\tintent_p1: 0.0\n",
      "\tintent_p2: 0.0\n",
      "\tintent_p3: 0.0\n",
      "\tintent_code: 0\n",
      "\tdatatype: 8\n",
      "\tbitpix: 32\n",
      "\tslice_start: 0\n",
      "\tpixdim: [1. 1. 1. 1. 1. 1. 1. 1.]\n",
      "\tvox_offset: 0.0\n",
      "\tscl_slope: nan\n",
      "\tscl_inter: nan\n",
      "\tslice_end: 0\n",
      "\tslice_code: 0\n",
      "\txyzt_units: 0\n",
      "\tcal_max: 0.0\n",
      "\tcal_min: 0.0\n",
      "\tslice_duration: 0.0\n",
      "\ttoffset: 0.0\n",
      "\tglmax: 0\n",
      "\tglmin: 0\n",
      "\tqform_code: 0\n",
      "\tsform_code: 2\n",
      "\tquatern_b: 0.0\n",
      "\tquatern_c: 0.0\n",
      "\tquatern_d: 0.0\n",
      "\tqoffset_x: 0.0\n",
      "\tqoffset_y: 0.0\n",
      "\tqoffset_z: 0.0\n",
      "\tsrow_x: [1. 0. 0. 0.]\n",
      "\tsrow_y: [0. 1. 0. 0.]\n",
      "\tsrow_z: [0. 0. 1. 0.]\n",
      "\taffine: tensor([[1., 0., 0., 0.],\n",
      "        [0., 1., 0., 0.],\n",
      "        [0., 0., 1., 0.],\n",
      "        [0., 0., 0., 1.]], dtype=torch.float64)\n",
      "\toriginal_affine: [[1. 0. 0. 0.]\n",
      " [0. 1. 0. 0.]\n",
      " [0. 0. 1. 0.]\n",
      " [0. 0. 0. 1.]]\n",
      "\tas_closest_canonical: False\n",
      "\tspatial_shape: [256 256 256]\n",
      "\toriginal_channel_dim: no_channel\n",
      "\tfilename_or_obj: /tmp/tmpmns8ihjg/seg0.nii.gz\n",
      "\n",
      "Applied operations\n",
      "[]\n",
      "Is batch?: False\n"
     ]
    },
    {
     "data": {
      "text/plain": [
       "<matplotlib.image.AxesImage at 0x7f29f8e7f0d0>"
      ]
     },
     "execution_count": 16,
     "metadata": {},
     "output_type": "execute_result"
    },
    {
     "data": {
      "image/png": "[encoded data removed]",
      "text/plain": [
       "<Figure size 432x288 with 1 Axes>"
      ]
     },
     "metadata": {
      "needs_background": "light"
     },
     "output_type": "display_data"
    }
   ],
   "source": [
    "print(img[0]*5, seg[0])\n",
    "\n",
    "plt.imshow(img[0] * 5 / img.max())"
   ]
  },
  {
   "cell_type": "markdown",
   "metadata": {
    "id": "_aM3F4fMZEMG"
   },
   "source": [
    "The above applies one operation to one member of the dictionary and different operation to another. A reasonable re-implementation of this in one transform would require retaining the names of which members to apply which transform to and applying the operations in one method. Adapting array-based transforms to operate over dictionaries is relatively straight-forward.\n",
    "\n",
    "<b>Run this cell a few times to see the random transform being applied 50% of the time.</b>"
   ]
  },
  {
   "cell_type": "code",
   "execution_count": 17,
   "metadata": {
    "colab": {
     "base_uri": "https://localhost:8080/",
     "height": 237
    },
    "id": "uGyqW-QEZGAL",
    "outputId": "90bc64be-9f29-45a7-a83a-aa94f9e9d5db"
   },
   "outputs": [
    {
     "data": {
      "text/plain": [
       "<matplotlib.image.AxesImage at 0x7f29f8dee790>"
      ]
     },
     "execution_count": 17,
     "metadata": {},
     "output_type": "execute_result"
    },
    {
     "data": {
      "image/png": "[encoded data removed]",
      "text/plain": [
       "<Figure size 432x288 with 1 Axes>"
      ]
     },
     "metadata": {
      "needs_background": "light"
     },
     "output_type": "display_data"
    }
   ],
   "source": [
    "class RandAdditiveNoised(Randomizable, MapTransform):\n",
    "    def __init__(\n",
    "        self, keys: KeysCollection, prob: float = 0.5, max_add: float = 1.0\n",
    "    ) -> None:\n",
    "        super(Randomizable, self).__init__(keys)\n",
    "        self.transform = RandAdditiveNoise(prob, max_add)\n",
    "\n",
    "    def set_random_state(\n",
    "        self, seed: Optional[int] = None, state: Optional[np.random.RandomState] = None\n",
    "    ) -> \"RandAdditiveNoised\":\n",
    "        self.transform.set_random_state(seed, state)\n",
    "        super().set_random_state(seed, state)\n",
    "        return self\n",
    "\n",
    "    def randomize(self, data: Optional[Any] = None) -> None:\n",
    "        self.transform.randomize(data)\n",
    "\n",
    "    def __call__(\n",
    "        self, data: Mapping[Hashable, np.ndarray]\n",
    "    ) -> Mapping[Hashable, np.ndarray]:\n",
    "        self.randomize(data[monai.utils.first(self.keys)])\n",
    "\n",
    "        d = dict(data)\n",
    "        for key in self.keys:\n",
    "            d[key] = self.transform.add_noise(d[key])\n",
    "        return d\n",
    "\n",
    "trans = Compose([LoadImaged(fn_keys), AddChanneld(fn_keys), RandAdditiveNoised((\"img\",))])\n",
    "img = trans(filenames[0])\n",
    "\n",
    "# We're adding random noise to the image, not the segmentation\n",
    "plt.imshow(np.hstack([img[\"img\"][0, 50], img[\"seg\"][0, 50]])) "
   ]
  },
  {
   "cell_type": "markdown",
   "metadata": {
    "id": "hv6DfUxiZJqI"
   },
   "source": [
    "Method overrides are provided to delegate behaviour to an internal `RandAdditiveNoise` instance:\n",
    "\n",
    " - `set_random_state` sets the state of the delegate and the current object\n",
    " - `randomize` delegates the randomization to the `RandAdditiveNoise` instance\n",
    " - `__call__` causes the delegate to randomize then applies the transform to each named member of the dictionary. The delegate transform is randomized only once, this ensures the same random field is added to each named member of the dictionary, a slightly different implementation adding a per-key random field would be needed if this were the desired behaviour.\n",
    "\n",
    " ## 5. How do I create a basic MONAI dataset with transforms?\n",
    " \n",
    "Now that we've taken a look at transform, let's take a look at datasets. With a data source and transforms defined we can now create a dataset object. The base class for MONAI is `Dataset`, created here to load the image Nifti files only.\n",
    "\n",
    "`Dataset` inherits from the Pytorch class of that name and adds only the ability to apply the given transform to selected items. If you're familiar with the class from Pytorch this will work the same way."
   ]
  },
  {
   "cell_type": "code",
   "execution_count": 18,
   "metadata": {
    "colab": {
     "base_uri": "https://localhost:8080/"
    },
    "id": "mDaZuVLWZbaA",
    "outputId": "27cd5056-eac2-44ce-ca7d-f673ebdc246f"
   },
   "outputs": [
    {
     "name": "stdout",
     "output_type": "stream",
     "text": [
      "torch.Size([1, 256, 256, 256]) -1\n"
     ]
    }
   ],
   "source": [
    "images = [fn[\"img\"] for fn in filenames]\n",
    "\n",
    "transform = Compose([LoadImage(image_only=True), AddChannel(), ToTensor()])\n",
    "ds = Dataset(images, transform)\n",
    "img_tensor = ds[0]\n",
    "print(img_tensor.shape, img_tensor.get_device())"
   ]
  },
  {
   "cell_type": "code",
   "execution_count": 19,
   "metadata": {},
   "outputs": [
    {
     "data": {
      "text/plain": [
       "5"
      ]
     },
     "execution_count": 19,
     "metadata": {},
     "output_type": "execute_result"
    }
   ],
   "source": [
    "len(ds)"
   ]
  },
  {
   "cell_type": "markdown",
   "metadata": {
    "id": "As3vFVltZc4Y"
   },
   "source": [
    "MONAI provides the `ArrayDataset` for supervised training applications specifically. It can accept data arrays for images separate from those for segmentations or labels with their own separate transforms. Here we will again separate out the image and segmentation filenames to demonstrate this usage:"
   ]
  },
  {
   "cell_type": "code",
   "execution_count": 20,
   "metadata": {
    "colab": {
     "base_uri": "https://localhost:8080/",
     "height": 237
    },
    "id": "72Pt6mTvZgFn",
    "outputId": "6ebf92b6-2b38-4189-b16d-cbe3a5ebc913"
   },
   "outputs": [
    {
     "data": {
      "text/plain": [
       "<matplotlib.image.AxesImage at 0x7f29f8d5f5b0>"
      ]
     },
     "execution_count": 20,
     "metadata": {},
     "output_type": "execute_result"
    },
    {
     "data": {
      "image/png": "[encoded data removed]",
      "text/plain": [
       "<Figure size 432x288 with 1 Axes>"
      ]
     },
     "metadata": {
      "needs_background": "light"
     },
     "output_type": "display_data"
    }
   ],
   "source": [
    "images = [fn[\"img\"] for fn in filenames]\n",
    "segs = [fn[\"seg\"] for fn in filenames]\n",
    "\n",
    "img_transform = Compose([LoadImage(image_only=True), AddChannel(), \n",
    "                         RandSpatialCrop((128, 128, 128), random_size=False), RandAdditiveNoise(), ToTensor()])\n",
    "seg_transform = Compose([LoadImage(image_only=True), AddChannel(), \n",
    "                         RandSpatialCrop((128, 128, 128), random_size=False), ToTensor()])\n",
    "\n",
    "ds = ArrayDataset(images, img_transform, segs, seg_transform)\n",
    "im, seg = ds[0]\n",
    "plt.imshow(np.hstack([im.numpy()[0, 48], seg.numpy()[0, 48]]))"
   ]
  },
  {
   "cell_type": "markdown",
   "metadata": {
    "id": "WphXUUTFZkCD"
   },
   "source": [
    "nstead of returning a single image, accessing a member of the dataset produces a pair containing the image and segmentation after being pass through their respective transforms. One important aspect of this class is that the random state of each transform (`Compose` in this case) is set to that of the dataset before being applied. This ensures the same random operations are applied to each output, which is why the `RandSpatialCrop` operation chooses the same crop window for the image as well as the segmentation. By having separate transforms one can apply operations to images and not to segmentations (or vice versa), being careful that these unshared operations come after the shared ones.\n",
    "\n",
    "Alternatively, `Dataset` can be used with dictionary-based transforms to construct a result mapping. For training applications beyond simple input/ground-truth pairs like the above this would be more suitable:"
   ]
  },
  {
   "cell_type": "code",
   "execution_count": 21,
   "metadata": {
    "colab": {
     "base_uri": "https://localhost:8080/",
     "height": 237
    },
    "id": "i4uohRiXZrew",
    "outputId": "4351a122-a0e0-4699-fb16-bd56876aa394"
   },
   "outputs": [
    {
     "ename": "RuntimeError",
     "evalue": "applying transform <monai.transforms.compose.Compose object at 0x7f29f8d7d640>",
     "output_type": "error",
     "traceback": [
      "\u001b[0;31m---------------------------------------------------------------------------\u001b[0m",
      "\u001b[0;31mTypeError\u001b[0m                                 Traceback (most recent call last)",
      "\u001b[0;32m/opt/conda/lib/python3.8/site-packages/monai/transforms/transform.py\u001b[0m in \u001b[0;36mapply_transform\u001b[0;34m(transform, data, map_items, unpack_items, log_stats)\u001b[0m\n\u001b[1;32m     89\u001b[0m             \u001b[0;32mreturn\u001b[0m \u001b[0;34m[\u001b[0m\u001b[0m_apply_transform\u001b[0m\u001b[0;34m(\u001b[0m\u001b[0mtransform\u001b[0m\u001b[0;34m,\u001b[0m \u001b[0mitem\u001b[0m\u001b[0;34m,\u001b[0m \u001b[0munpack_items\u001b[0m\u001b[0;34m)\u001b[0m \u001b[0;32mfor\u001b[0m \u001b[0mitem\u001b[0m \u001b[0;32min\u001b[0m \u001b[0mdata\u001b[0m\u001b[0;34m]\u001b[0m\u001b[0;34m\u001b[0m\u001b[0;34m\u001b[0m\u001b[0m\n\u001b[0;32m---> 90\u001b[0;31m         \u001b[0;32mreturn\u001b[0m \u001b[0m_apply_transform\u001b[0m\u001b[0;34m(\u001b[0m\u001b[0mtransform\u001b[0m\u001b[0;34m,\u001b[0m \u001b[0mdata\u001b[0m\u001b[0;34m,\u001b[0m \u001b[0munpack_items\u001b[0m\u001b[0;34m)\u001b[0m\u001b[0;34m\u001b[0m\u001b[0;34m\u001b[0m\u001b[0m\n\u001b[0m\u001b[1;32m     91\u001b[0m     \u001b[0;32mexcept\u001b[0m \u001b[0mException\u001b[0m \u001b[0;32mas\u001b[0m \u001b[0me\u001b[0m\u001b[0;34m:\u001b[0m\u001b[0;34m\u001b[0m\u001b[0;34m\u001b[0m\u001b[0m\n",
      "\u001b[0;32m/opt/conda/lib/python3.8/site-packages/monai/transforms/transform.py\u001b[0m in \u001b[0;36m_apply_transform\u001b[0;34m(transform, parameters, unpack_parameters)\u001b[0m\n\u001b[1;32m     53\u001b[0m \u001b[0;34m\u001b[0m\u001b[0m\n\u001b[0;32m---> 54\u001b[0;31m     \u001b[0;32mreturn\u001b[0m \u001b[0mtransform\u001b[0m\u001b[0;34m(\u001b[0m\u001b[0mparameters\u001b[0m\u001b[0;34m)\u001b[0m\u001b[0;34m\u001b[0m\u001b[0;34m\u001b[0m\u001b[0m\n\u001b[0m\u001b[1;32m     55\u001b[0m \u001b[0;34m\u001b[0m\u001b[0m\n",
      "\u001b[0;32m/tmp/ipykernel_3045493/705024681.py\u001b[0m in \u001b[0;36m__call__\u001b[0;34m(self, data)\u001b[0m\n\u001b[1;32m     20\u001b[0m     ) -> Mapping[Hashable, np.ndarray]:\n\u001b[0;32m---> 21\u001b[0;31m         \u001b[0mself\u001b[0m\u001b[0;34m.\u001b[0m\u001b[0mrandomize\u001b[0m\u001b[0;34m(\u001b[0m\u001b[0mdata\u001b[0m\u001b[0;34m[\u001b[0m\u001b[0mmonai\u001b[0m\u001b[0;34m.\u001b[0m\u001b[0mutils\u001b[0m\u001b[0;34m.\u001b[0m\u001b[0mfirst\u001b[0m\u001b[0;34m(\u001b[0m\u001b[0mself\u001b[0m\u001b[0;34m.\u001b[0m\u001b[0mkeys\u001b[0m\u001b[0;34m)\u001b[0m\u001b[0;34m]\u001b[0m\u001b[0;34m)\u001b[0m\u001b[0;34m\u001b[0m\u001b[0;34m\u001b[0m\u001b[0m\n\u001b[0m\u001b[1;32m     22\u001b[0m \u001b[0;34m\u001b[0m\u001b[0m\n",
      "\u001b[0;32m/tmp/ipykernel_3045493/705024681.py\u001b[0m in \u001b[0;36mrandomize\u001b[0;34m(self, data)\u001b[0m\n\u001b[1;32m     15\u001b[0m     \u001b[0;32mdef\u001b[0m \u001b[0mrandomize\u001b[0m\u001b[0;34m(\u001b[0m\u001b[0mself\u001b[0m\u001b[0;34m,\u001b[0m \u001b[0mdata\u001b[0m\u001b[0;34m:\u001b[0m \u001b[0mOptional\u001b[0m\u001b[0;34m[\u001b[0m\u001b[0mAny\u001b[0m\u001b[0;34m]\u001b[0m \u001b[0;34m=\u001b[0m \u001b[0;32mNone\u001b[0m\u001b[0;34m)\u001b[0m \u001b[0;34m->\u001b[0m \u001b[0;32mNone\u001b[0m\u001b[0;34m:\u001b[0m\u001b[0;34m\u001b[0m\u001b[0;34m\u001b[0m\u001b[0m\n\u001b[0;32m---> 16\u001b[0;31m         \u001b[0mself\u001b[0m\u001b[0;34m.\u001b[0m\u001b[0mtransform\u001b[0m\u001b[0;34m.\u001b[0m\u001b[0mrandomize\u001b[0m\u001b[0;34m(\u001b[0m\u001b[0mdata\u001b[0m\u001b[0;34m)\u001b[0m\u001b[0;34m\u001b[0m\u001b[0;34m\u001b[0m\u001b[0m\n\u001b[0m\u001b[1;32m     17\u001b[0m \u001b[0;34m\u001b[0m\u001b[0m\n",
      "\u001b[0;32m/tmp/ipykernel_3045493/1495111318.py\u001b[0m in \u001b[0;36mrandomize\u001b[0;34m(self, data)\u001b[0m\n\u001b[1;32m     11\u001b[0m             \u001b[0mnoise_array\u001b[0m \u001b[0;34m=\u001b[0m \u001b[0mself\u001b[0m\u001b[0;34m.\u001b[0m\u001b[0mR\u001b[0m\u001b[0;34m.\u001b[0m\u001b[0mrand\u001b[0m\u001b[0;34m(\u001b[0m\u001b[0;34m*\u001b[0m\u001b[0mdata\u001b[0m\u001b[0;34m.\u001b[0m\u001b[0mshape\u001b[0m\u001b[0;34m[\u001b[0m\u001b[0;36m1\u001b[0m\u001b[0;34m:\u001b[0m\u001b[0;34m]\u001b[0m\u001b[0;34m)\u001b[0m\u001b[0;34m[\u001b[0m\u001b[0;32mNone\u001b[0m\u001b[0;34m]\u001b[0m\u001b[0;34m\u001b[0m\u001b[0;34m\u001b[0m\u001b[0m\n\u001b[0;32m---> 12\u001b[0;31m             \u001b[0mself\u001b[0m\u001b[0;34m.\u001b[0m\u001b[0m_noise\u001b[0m \u001b[0;34m=\u001b[0m \u001b[0;34m(\u001b[0m\u001b[0mnoise_array\u001b[0m \u001b[0;34m*\u001b[0m \u001b[0mself\u001b[0m\u001b[0;34m.\u001b[0m\u001b[0mmax_add\u001b[0m\u001b[0;34m)\u001b[0m\u001b[0;34m.\u001b[0m\u001b[0mastype\u001b[0m\u001b[0;34m(\u001b[0m\u001b[0mdata\u001b[0m\u001b[0;34m.\u001b[0m\u001b[0mdtype\u001b[0m\u001b[0;34m)\u001b[0m\u001b[0;34m\u001b[0m\u001b[0;34m\u001b[0m\u001b[0m\n\u001b[0m\u001b[1;32m     13\u001b[0m \u001b[0;34m\u001b[0m\u001b[0m\n",
      "\u001b[0;31mTypeError\u001b[0m: Cannot interpret 'torch.float32' as a data type",
      "\nThe above exception was the direct cause of the following exception:\n",
      "\u001b[0;31mRuntimeError\u001b[0m                              Traceback (most recent call last)",
      "\u001b[0;32m/opt/conda/lib/python3.8/site-packages/monai/transforms/transform.py\u001b[0m in \u001b[0;36mapply_transform\u001b[0;34m(transform, data, map_items, unpack_items, log_stats)\u001b[0m\n\u001b[1;32m     89\u001b[0m             \u001b[0;32mreturn\u001b[0m \u001b[0;34m[\u001b[0m\u001b[0m_apply_transform\u001b[0m\u001b[0;34m(\u001b[0m\u001b[0mtransform\u001b[0m\u001b[0;34m,\u001b[0m \u001b[0mitem\u001b[0m\u001b[0;34m,\u001b[0m \u001b[0munpack_items\u001b[0m\u001b[0;34m)\u001b[0m \u001b[0;32mfor\u001b[0m \u001b[0mitem\u001b[0m \u001b[0;32min\u001b[0m \u001b[0mdata\u001b[0m\u001b[0;34m]\u001b[0m\u001b[0;34m\u001b[0m\u001b[0;34m\u001b[0m\u001b[0m\n\u001b[0;32m---> 90\u001b[0;31m         \u001b[0;32mreturn\u001b[0m \u001b[0m_apply_transform\u001b[0m\u001b[0;34m(\u001b[0m\u001b[0mtransform\u001b[0m\u001b[0;34m,\u001b[0m \u001b[0mdata\u001b[0m\u001b[0;34m,\u001b[0m \u001b[0munpack_items\u001b[0m\u001b[0;34m)\u001b[0m\u001b[0;34m\u001b[0m\u001b[0;34m\u001b[0m\u001b[0m\n\u001b[0m\u001b[1;32m     91\u001b[0m     \u001b[0;32mexcept\u001b[0m \u001b[0mException\u001b[0m \u001b[0;32mas\u001b[0m \u001b[0me\u001b[0m\u001b[0;34m:\u001b[0m\u001b[0;34m\u001b[0m\u001b[0;34m\u001b[0m\u001b[0m\n",
      "\u001b[0;32m/opt/conda/lib/python3.8/site-packages/monai/transforms/transform.py\u001b[0m in \u001b[0;36m_apply_transform\u001b[0;34m(transform, parameters, unpack_parameters)\u001b[0m\n\u001b[1;32m     53\u001b[0m \u001b[0;34m\u001b[0m\u001b[0m\n\u001b[0;32m---> 54\u001b[0;31m     \u001b[0;32mreturn\u001b[0m \u001b[0mtransform\u001b[0m\u001b[0;34m(\u001b[0m\u001b[0mparameters\u001b[0m\u001b[0;34m)\u001b[0m\u001b[0;34m\u001b[0m\u001b[0;34m\u001b[0m\u001b[0m\n\u001b[0m\u001b[1;32m     55\u001b[0m \u001b[0;34m\u001b[0m\u001b[0m\n",
      "\u001b[0;32m/opt/conda/lib/python3.8/site-packages/monai/transforms/compose.py\u001b[0m in \u001b[0;36m__call__\u001b[0;34m(self, input_)\u001b[0m\n\u001b[1;32m    172\u001b[0m         \u001b[0;32mfor\u001b[0m \u001b[0m_transform\u001b[0m \u001b[0;32min\u001b[0m \u001b[0mself\u001b[0m\u001b[0;34m.\u001b[0m\u001b[0mtransforms\u001b[0m\u001b[0;34m:\u001b[0m\u001b[0;34m\u001b[0m\u001b[0;34m\u001b[0m\u001b[0m\n\u001b[0;32m--> 173\u001b[0;31m             \u001b[0minput_\u001b[0m \u001b[0;34m=\u001b[0m \u001b[0mapply_transform\u001b[0m\u001b[0;34m(\u001b[0m\u001b[0m_transform\u001b[0m\u001b[0;34m,\u001b[0m \u001b[0minput_\u001b[0m\u001b[0;34m,\u001b[0m \u001b[0mself\u001b[0m\u001b[0;34m.\u001b[0m\u001b[0mmap_items\u001b[0m\u001b[0;34m,\u001b[0m \u001b[0mself\u001b[0m\u001b[0;34m.\u001b[0m\u001b[0munpack_items\u001b[0m\u001b[0;34m,\u001b[0m \u001b[0mself\u001b[0m\u001b[0;34m.\u001b[0m\u001b[0mlog_stats\u001b[0m\u001b[0;34m)\u001b[0m\u001b[0;34m\u001b[0m\u001b[0;34m\u001b[0m\u001b[0m\n\u001b[0m\u001b[1;32m    174\u001b[0m         \u001b[0;32mreturn\u001b[0m \u001b[0minput_\u001b[0m\u001b[0;34m\u001b[0m\u001b[0;34m\u001b[0m\u001b[0m\n",
      "\u001b[0;32m/opt/conda/lib/python3.8/site-packages/monai/transforms/transform.py\u001b[0m in \u001b[0;36mapply_transform\u001b[0;34m(transform, data, map_items, unpack_items, log_stats)\u001b[0m\n\u001b[1;32m    113\u001b[0m                 \u001b[0m_log_stats\u001b[0m\u001b[0;34m(\u001b[0m\u001b[0mdata\u001b[0m\u001b[0;34m=\u001b[0m\u001b[0mdata\u001b[0m\u001b[0;34m)\u001b[0m\u001b[0;34m\u001b[0m\u001b[0;34m\u001b[0m\u001b[0m\n\u001b[0;32m--> 114\u001b[0;31m         \u001b[0;32mraise\u001b[0m \u001b[0mRuntimeError\u001b[0m\u001b[0;34m(\u001b[0m\u001b[0;34mf\"applying transform {transform}\"\u001b[0m\u001b[0;34m)\u001b[0m \u001b[0;32mfrom\u001b[0m \u001b[0me\u001b[0m\u001b[0;34m\u001b[0m\u001b[0;34m\u001b[0m\u001b[0m\n\u001b[0m\u001b[1;32m    115\u001b[0m \u001b[0;34m\u001b[0m\u001b[0m\n",
      "\u001b[0;31mRuntimeError\u001b[0m: applying transform <__main__.RandAdditiveNoised object at 0x7f29f8d0eee0>",
      "\nThe above exception was the direct cause of the following exception:\n",
      "\u001b[0;31mRuntimeError\u001b[0m                              Traceback (most recent call last)",
      "\u001b[0;32m/tmp/ipykernel_3045493/2045748182.py\u001b[0m in \u001b[0;36m<module>\u001b[0;34m\u001b[0m\n\u001b[1;32m      3\u001b[0m \u001b[0;34m\u001b[0m\u001b[0m\n\u001b[1;32m      4\u001b[0m \u001b[0mds\u001b[0m \u001b[0;34m=\u001b[0m \u001b[0mDataset\u001b[0m\u001b[0;34m(\u001b[0m\u001b[0mfilenames\u001b[0m\u001b[0;34m,\u001b[0m \u001b[0mtrans\u001b[0m\u001b[0;34m)\u001b[0m\u001b[0;34m\u001b[0m\u001b[0;34m\u001b[0m\u001b[0m\n\u001b[0;32m----> 5\u001b[0;31m \u001b[0mitem\u001b[0m \u001b[0;34m=\u001b[0m \u001b[0mds\u001b[0m\u001b[0;34m[\u001b[0m\u001b[0;36m0\u001b[0m\u001b[0;34m]\u001b[0m\u001b[0;34m\u001b[0m\u001b[0;34m\u001b[0m\u001b[0m\n\u001b[0m\u001b[1;32m      6\u001b[0m \u001b[0mim\u001b[0m\u001b[0;34m,\u001b[0m \u001b[0mseg\u001b[0m \u001b[0;34m=\u001b[0m \u001b[0mitem\u001b[0m\u001b[0;34m[\u001b[0m\u001b[0;34m\"img\"\u001b[0m\u001b[0;34m]\u001b[0m\u001b[0;34m,\u001b[0m \u001b[0mitem\u001b[0m\u001b[0;34m[\u001b[0m\u001b[0;34m\"seg\"\u001b[0m\u001b[0;34m]\u001b[0m\u001b[0;34m\u001b[0m\u001b[0;34m\u001b[0m\u001b[0m\n\u001b[1;32m      7\u001b[0m \u001b[0mplt\u001b[0m\u001b[0;34m.\u001b[0m\u001b[0mimshow\u001b[0m\u001b[0;34m(\u001b[0m\u001b[0mnp\u001b[0m\u001b[0;34m.\u001b[0m\u001b[0mhstack\u001b[0m\u001b[0;34m(\u001b[0m\u001b[0;34m[\u001b[0m\u001b[0mim\u001b[0m\u001b[0;34m.\u001b[0m\u001b[0mnumpy\u001b[0m\u001b[0;34m(\u001b[0m\u001b[0;34m)\u001b[0m\u001b[0;34m[\u001b[0m\u001b[0;36m0\u001b[0m\u001b[0;34m,\u001b[0m \u001b[0;36m48\u001b[0m\u001b[0;34m]\u001b[0m\u001b[0;34m,\u001b[0m \u001b[0mseg\u001b[0m\u001b[0;34m.\u001b[0m\u001b[0mnumpy\u001b[0m\u001b[0;34m(\u001b[0m\u001b[0;34m)\u001b[0m\u001b[0;34m[\u001b[0m\u001b[0;36m0\u001b[0m\u001b[0;34m,\u001b[0m \u001b[0;36m48\u001b[0m\u001b[0;34m]\u001b[0m\u001b[0;34m]\u001b[0m\u001b[0;34m)\u001b[0m\u001b[0;34m)\u001b[0m\u001b[0;34m\u001b[0m\u001b[0;34m\u001b[0m\u001b[0m\n",
      "\u001b[0;32m/opt/conda/lib/python3.8/site-packages/monai/data/dataset.py\u001b[0m in \u001b[0;36m__getitem__\u001b[0;34m(self, index)\u001b[0m\n\u001b[1;32m     95\u001b[0m             \u001b[0;31m# dataset[[1, 3, 4]]\u001b[0m\u001b[0;34m\u001b[0m\u001b[0;34m\u001b[0m\u001b[0;34m\u001b[0m\u001b[0m\n\u001b[1;32m     96\u001b[0m             \u001b[0;32mreturn\u001b[0m \u001b[0mSubset\u001b[0m\u001b[0;34m(\u001b[0m\u001b[0mdataset\u001b[0m\u001b[0;34m=\u001b[0m\u001b[0mself\u001b[0m\u001b[0;34m,\u001b[0m \u001b[0mindices\u001b[0m\u001b[0;34m=\u001b[0m\u001b[0mindex\u001b[0m\u001b[0;34m)\u001b[0m\u001b[0;34m\u001b[0m\u001b[0;34m\u001b[0m\u001b[0m\n\u001b[0;32m---> 97\u001b[0;31m         \u001b[0;32mreturn\u001b[0m \u001b[0mself\u001b[0m\u001b[0;34m.\u001b[0m\u001b[0m_transform\u001b[0m\u001b[0;34m(\u001b[0m\u001b[0mindex\u001b[0m\u001b[0;34m)\u001b[0m\u001b[0;34m\u001b[0m\u001b[0;34m\u001b[0m\u001b[0m\n\u001b[0m\u001b[1;32m     98\u001b[0m \u001b[0;34m\u001b[0m\u001b[0m\n\u001b[1;32m     99\u001b[0m \u001b[0;34m\u001b[0m\u001b[0m\n",
      "\u001b[0;32m/opt/conda/lib/python3.8/site-packages/monai/data/dataset.py\u001b[0m in \u001b[0;36m_transform\u001b[0;34m(self, index)\u001b[0m\n\u001b[1;32m     81\u001b[0m         \"\"\"\n\u001b[1;32m     82\u001b[0m         \u001b[0mdata_i\u001b[0m \u001b[0;34m=\u001b[0m \u001b[0mself\u001b[0m\u001b[0;34m.\u001b[0m\u001b[0mdata\u001b[0m\u001b[0;34m[\u001b[0m\u001b[0mindex\u001b[0m\u001b[0;34m]\u001b[0m\u001b[0;34m\u001b[0m\u001b[0;34m\u001b[0m\u001b[0m\n\u001b[0;32m---> 83\u001b[0;31m         \u001b[0;32mreturn\u001b[0m \u001b[0mapply_transform\u001b[0m\u001b[0;34m(\u001b[0m\u001b[0mself\u001b[0m\u001b[0;34m.\u001b[0m\u001b[0mtransform\u001b[0m\u001b[0;34m,\u001b[0m \u001b[0mdata_i\u001b[0m\u001b[0;34m)\u001b[0m \u001b[0;32mif\u001b[0m \u001b[0mself\u001b[0m\u001b[0;34m.\u001b[0m\u001b[0mtransform\u001b[0m \u001b[0;32mis\u001b[0m \u001b[0;32mnot\u001b[0m \u001b[0;32mNone\u001b[0m \u001b[0;32melse\u001b[0m \u001b[0mdata_i\u001b[0m\u001b[0;34m\u001b[0m\u001b[0;34m\u001b[0m\u001b[0m\n\u001b[0m\u001b[1;32m     84\u001b[0m \u001b[0;34m\u001b[0m\u001b[0m\n\u001b[1;32m     85\u001b[0m     \u001b[0;32mdef\u001b[0m \u001b[0m__getitem__\u001b[0m\u001b[0;34m(\u001b[0m\u001b[0mself\u001b[0m\u001b[0;34m,\u001b[0m \u001b[0mindex\u001b[0m\u001b[0;34m:\u001b[0m \u001b[0mUnion\u001b[0m\u001b[0;34m[\u001b[0m\u001b[0mint\u001b[0m\u001b[0;34m,\u001b[0m \u001b[0mslice\u001b[0m\u001b[0;34m,\u001b[0m \u001b[0mSequence\u001b[0m\u001b[0;34m[\u001b[0m\u001b[0mint\u001b[0m\u001b[0;34m]\u001b[0m\u001b[0;34m]\u001b[0m\u001b[0;34m)\u001b[0m\u001b[0;34m:\u001b[0m\u001b[0;34m\u001b[0m\u001b[0;34m\u001b[0m\u001b[0m\n",
      "\u001b[0;32m/opt/conda/lib/python3.8/site-packages/monai/transforms/transform.py\u001b[0m in \u001b[0;36mapply_transform\u001b[0;34m(transform, data, map_items, unpack_items, log_stats)\u001b[0m\n\u001b[1;32m    112\u001b[0m             \u001b[0;32melse\u001b[0m\u001b[0;34m:\u001b[0m\u001b[0;34m\u001b[0m\u001b[0;34m\u001b[0m\u001b[0m\n\u001b[1;32m    113\u001b[0m                 \u001b[0m_log_stats\u001b[0m\u001b[0;34m(\u001b[0m\u001b[0mdata\u001b[0m\u001b[0;34m=\u001b[0m\u001b[0mdata\u001b[0m\u001b[0;34m)\u001b[0m\u001b[0;34m\u001b[0m\u001b[0;34m\u001b[0m\u001b[0m\n\u001b[0;32m--> 114\u001b[0;31m         \u001b[0;32mraise\u001b[0m \u001b[0mRuntimeError\u001b[0m\u001b[0;34m(\u001b[0m\u001b[0;34mf\"applying transform {transform}\"\u001b[0m\u001b[0;34m)\u001b[0m \u001b[0;32mfrom\u001b[0m \u001b[0me\u001b[0m\u001b[0;34m\u001b[0m\u001b[0;34m\u001b[0m\u001b[0m\n\u001b[0m\u001b[1;32m    115\u001b[0m \u001b[0;34m\u001b[0m\u001b[0m\n\u001b[1;32m    116\u001b[0m \u001b[0;34m\u001b[0m\u001b[0m\n",
      "\u001b[0;31mRuntimeError\u001b[0m: applying transform <monai.transforms.compose.Compose object at 0x7f29f8d7d640>"
     ]
    }
   ],
   "source": [
    "trans = Compose([LoadImaged(fn_keys), AddChanneld(fn_keys), RandAdditiveNoised((\"img\",)), \n",
    "                 RandSpatialCropd(fn_keys, (128, 128, 128), random_size=False), ToTensord(fn_keys)])\n",
    "\n",
    "ds = Dataset(filenames, trans)\n",
    "item = ds[0]\n",
    "im, seg = item[\"img\"], item[\"seg\"]\n",
    "plt.imshow(np.hstack([im.numpy()[0, 48], seg.numpy()[0, 48]]))"
   ]
  },
  {
   "cell_type": "markdown",
   "metadata": {
    "id": "DBiXS6QZZwNW"
   },
   "source": [
    "With the dataset defined, we can now create the dataloader to create data batches. This inherits directly from Pytorch's `DataLoader` class with a few changes to the default constructor arguments. MONAI functionality should be compatible with the PyTorch `DataLoader`, but it was subclasses to include additional functionality that we consider key and which cannot be realized with the standard `DataLoader` class.\n",
    "\n",
    "The `DataLoader` will use five worker processes to load the actual data. MONAI provides a number of `Dataset` subclasses to improve the efficiency of this process. These and other features will be covered in subsequent labs."
   ]
  },
  {
   "cell_type": "code",
   "execution_count": null,
   "metadata": {
    "colab": {
     "base_uri": "https://localhost:8080/",
     "height": 295
    },
    "id": "b1VGpYB4ZwWC",
    "outputId": "a912b5c8-0143-42e8-cffc-4cb998e2268d"
   },
   "outputs": [],
   "source": [
    "loader = DataLoader(ds, batch_size=5, num_workers=0)\n",
    "batch = first(loader)\n",
    "print(list(batch.keys()), batch[\"img\"].shape)\n",
    "\n",
    "f, ax = plt.subplots(2, 1, figsize=(8, 4))\n",
    "ax[0].imshow(np.hstack(batch[\"img\"][:, 0, 64]))\n",
    "ax[1].imshow(np.hstack(batch[\"seg\"][:, 0, 64]))"
   ]
  },
  {
   "cell_type": "markdown",
   "metadata": {
    "id": "KnXoOD5GZweI"
   },
   "source": [
    "# Summary\n",
    "We've covered MONAI Transforms. Some key highlights are:\n",
    "\n",
    "There is a long list of medical specific transforms available in MONAI\n",
    "There are array and dictionary versions of transforms.\n",
    "You can create a simple callable lambda function or create a class based on transform to create your own custom tranform\n",
    "You can create a MONAI dataset and directly pass a compose tranform chain to it\n",
    "\n",
    "# Assignment 1\n",
    "\n",
    "Now you get to practice creating a transform of your own and integrating it into a compose array.\n",
    "\n",
    "Create a transform which selects a patch from an input image of a given size and randomly chooses to transpose this data along randomly chosen axes. For example, this could produce an image where a patch in the center has been flipped in the horizontal direction while the rest of the image is left unchanged.\n",
    "\n",
    "Assumptions:\n",
    "\n",
    " - Implement this as an array randomized transform\n",
    " - Use a default probability ratio of 40% chance to crop\n",
    " - Use one of the test 3D images from above to validate\n",
    " - Default crop size is 150 but allow it to be variable\n",
    " - Don't worry about edge cases\n",
    "\n",
    "Below is the initial class definition you'll need to implement. We also include a compose chain and image visualization call that should work once your function is fully implemented."
   ]
  },
  {
   "cell_type": "code",
   "execution_count": null,
   "metadata": {
    "id": "a9GUx3-gZwmu"
   },
   "outputs": [],
   "source": [
    "class RandFlipRect(Randomizable, Transform):\n",
    "    \"\"\"\n",
    "    Define a transform to randomly transpose a patch of the input image along randomly chosen spatial dimensions. This \n",
    "    uses arguments `prob` for the probability the transform is applied, and `size` giving the size of the cube to flip.\n",
    "    \"\"\"\n",
    "    def __init__(self, prob: float = 0.4, size: int = 100) -> None:\n",
    "        self.prob = np.clip(prob, 0.0, 1.0)\n",
    "        self.size = size\n",
    "        \n",
    "    def __call__(self, img: np.ndarray) -> np.ndarray:\n",
    "        pass # TODO replace this with your code\n",
    "    \n",
    "trans = Compose([LoadImage(image_only=True), AddChannel(), RandFlipRect()])\n",
    "img = trans(filenames[0][\"img\"])\n",
    "plt.imshow(img[0, img.shape[1]//2])"
   ]
  },
  {
   "cell_type": "markdown",
   "metadata": {
    "id": "l2lxbmMdbP1M"
   },
   "source": [
    "## solution"
   ]
  },
  {
   "cell_type": "code",
   "execution_count": null,
   "metadata": {
    "cellView": "form",
    "colab": {
     "base_uri": "https://localhost:8080/",
     "height": 286
    },
    "id": "9ZP3QbETbU3h",
    "outputId": "31f78f89-4c4f-4cf0-eb2b-0567c27f46f0"
   },
   "outputs": [],
   "source": [
    "#@title solution for RandFlipRect\n",
    "class RandFlipRect(Randomizable, Transform):\n",
    "    \"\"\"\n",
    "    Define a transform to randomly transpose a patch of the input image along randomly chosen spatial dimensions. This \n",
    "    uses arguments `prob` for the probability the transform is applied, and `size` giving the size of the cube to flip.\n",
    "    \"\"\"\n",
    "    def __init__(self, prob: float = 0.4, size: int = 100) -> None:\n",
    "        self.prob = np.clip(prob, 0.0, 1.0)\n",
    "        self.size = size\n",
    "\n",
    "    def random_flip(self, data: np.ndarray) -> None:\n",
    "        if self.R.random() < self.prob:\n",
    "            height = data.shape[1]\n",
    "            width = data.shape[2]\n",
    "            depth = data.shape[3]\n",
    "            \n",
    "            x = self.R.randint(0, height - self.size)\n",
    "            y = self.R.randint(0, width - self.size)\n",
    "            z = self.R.randint(0, depth - self.size)\n",
    "            patch = data[..., x: x + self.size , y: y + self.size, z: z + self.size]\n",
    "            \n",
    "            if self.R.random() < 0.333:\n",
    "                patch=patch[...,::-1,:,:]\n",
    "                \n",
    "            if self.R.random() < 0.333:\n",
    "                patch=patch[...,::-1,:]\n",
    "                \n",
    "            if self.R.random() < 0.333:\n",
    "                patch=patch[...,::-1]\n",
    "                \n",
    "            data[..., x: x + self.size , y: y + self.size, z: z + self.size]=patch\n",
    "            \n",
    "        return data\n",
    "\n",
    "    def __call__(self, img: np.ndarray) -> np.ndarray:\n",
    "        return self.random_flip(img)\n",
    "    \n",
    "trans = Compose([LoadImage(image_only=True), AddChannel(), RandFlipRect()])\n",
    "img = trans(filenames[0][\"img\"])\n",
    "plt.imshow(img[0, img.shape[1]//2])"
   ]
  },
  {
   "cell_type": "markdown",
   "metadata": {
    "id": "nhhycblyZwux"
   },
   "source": [
    "# Assignment 2\n",
    "\n",
    "In the cell below define a dictionary-based transform pipeline which will take input images and segmentations and ensure:\n",
    "\n",
    " - both image and segmentation arrays have a channel dimension\n",
    " - each image/segmentation pair is 200x200x200 pixels in shape\n",
    " - the value range of each image is between 0 and 1\n",
    " - the dtype of the image is float32 and that of the segmentation is int32\n",
    " - both are produced in the end as tensors\n",
    "\n",
    "All this can be done with built-in transforms so you shouldn't need a lambda transform. Once your pipeline works, use it to construct and dataset and then a data loader. Iterate over every value in the data loader and check that the image and segmentation members of the produced dictionaries meet these requirements."
   ]
  },
  {
   "cell_type": "code",
   "execution_count": 22,
   "metadata": {
    "id": "EIRWofg1Zw29"
   },
   "outputs": [
    {
     "ename": "NameError",
     "evalue": "name 'CenterSpatialCropd' is not defined",
     "output_type": "error",
     "traceback": [
      "\u001b[0;31m---------------------------------------------------------------------------\u001b[0m",
      "\u001b[0;31mNameError\u001b[0m                                 Traceback (most recent call last)",
      "\u001b[0;32m/tmp/ipykernel_3045493/636021420.py\u001b[0m in \u001b[0;36m<module>\u001b[0;34m\u001b[0m\n\u001b[1;32m      6\u001b[0m         \u001b[0mLoadImaged\u001b[0m\u001b[0;34m(\u001b[0m\u001b[0mfn_keys\u001b[0m\u001b[0;34m,\u001b[0m \u001b[0mimage_only\u001b[0m\u001b[0;34m=\u001b[0m\u001b[0;32mTrue\u001b[0m\u001b[0;34m)\u001b[0m\u001b[0;34m,\u001b[0m\u001b[0;34m\u001b[0m\u001b[0;34m\u001b[0m\u001b[0m\n\u001b[1;32m      7\u001b[0m         \u001b[0mAddChanneld\u001b[0m\u001b[0;34m(\u001b[0m\u001b[0mfn_keys\u001b[0m\u001b[0;34m)\u001b[0m\u001b[0;34m,\u001b[0m\u001b[0;34m\u001b[0m\u001b[0;34m\u001b[0m\u001b[0m\n\u001b[0;32m----> 8\u001b[0;31m         \u001b[0mCenterSpatialCropd\u001b[0m\u001b[0;34m(\u001b[0m\u001b[0mfn_keys\u001b[0m\u001b[0;34m,\u001b[0m \u001b[0;36m200\u001b[0m\u001b[0;34m)\u001b[0m\u001b[0;34m,\u001b[0m\u001b[0;34m\u001b[0m\u001b[0;34m\u001b[0m\u001b[0m\n\u001b[0m\u001b[1;32m      9\u001b[0m         \u001b[0mScaleIntensityd\u001b[0m\u001b[0;34m(\u001b[0m\u001b[0;34m[\u001b[0m\u001b[0;34m\"img\"\u001b[0m\u001b[0;34m]\u001b[0m\u001b[0;34m)\u001b[0m\u001b[0;34m,\u001b[0m\u001b[0;34m\u001b[0m\u001b[0;34m\u001b[0m\u001b[0m\n\u001b[1;32m     10\u001b[0m         \u001b[0mCastToTyped\u001b[0m\u001b[0;34m(\u001b[0m\u001b[0mfn_keys\u001b[0m\u001b[0;34m,\u001b[0m \u001b[0;34m(\u001b[0m\u001b[0mnp\u001b[0m\u001b[0;34m.\u001b[0m\u001b[0mfloat32\u001b[0m\u001b[0;34m,\u001b[0m \u001b[0mnp\u001b[0m\u001b[0;34m.\u001b[0m\u001b[0mint32\u001b[0m\u001b[0;34m)\u001b[0m\u001b[0;34m)\u001b[0m\u001b[0;34m,\u001b[0m\u001b[0;34m\u001b[0m\u001b[0;34m\u001b[0m\u001b[0m\n",
      "\u001b[0;31mNameError\u001b[0m: name 'CenterSpatialCropd' is not defined"
     ]
    }
   ],
   "source": [
    "import torch\n",
    "from monai.transforms import LoadImaged, ToTensord\n",
    "\n",
    "trans = Compose(\n",
    "    [\n",
    "        LoadImaged(fn_keys, image_only=True),\n",
    "        AddChanneld(fn_keys),\n",
    "        CenterSpatialCropd(fn_keys, 200),\n",
    "        ScaleIntensityd([\"img\"]),\n",
    "        CastToTyped(fn_keys, (np.float32, np.int32)),\n",
    "        ToTensord(fn_keys),\n",
    "    ]\n",
    ")\n",
    "\n",
    "data = trans(filenames[0])\n",
    "img = data[\"img\"]\n",
    "seg = data[\"seg\"]\n",
    "\n",
    "print(img.shape)  # should be (1, 200, 200, 200)\n",
    "print(img.dtype, seg.dtype)  # should be float32  int32\n",
    "print(img.min(), img.max())  # should be 0.0 1.0\n",
    "print(torch.unique(seg))  # should be [0 1 2 3 4 5]\n",
    "\n",
    "plt.imshow(img[0, img.shape[1] // 2])\n",
    "\n",
    "# construct dataset and dataloder here and iterate over batches, batch_size of 1 should be used\n",
    "# TODO "
   ]
  },
  {
   "cell_type": "markdown",
   "metadata": {
    "id": "jD1j_1HGbaob"
   },
   "source": [
    "## solution"
   ]
  },
  {
   "cell_type": "code",
   "execution_count": 23,
   "metadata": {
    "cellView": "form",
    "colab": {
     "base_uri": "https://localhost:8080/",
     "height": 484
    },
    "id": "p6ap_daGbcD8",
    "outputId": "1d1efa35-5b3f-4792-b67c-7c0b9757c0d2"
   },
   "outputs": [
    {
     "name": "stdout",
     "output_type": "stream",
     "text": [
      "torch.Size([1, 200, 200, 200])\n",
      "torch.float32 torch.int32\n",
      "tensor(0.) tensor(1.)\n",
      "tensor([0, 1, 2, 3, 4, 5], dtype=torch.int32)\n",
      "torch.Size([3, 1, 200, 200, 200])\n",
      "torch.float32 torch.int32\n",
      "tensor(0.) tensor(1.)\n",
      "tensor([0, 1, 2, 3, 4, 5], dtype=torch.int32)\n",
      "torch.Size([2, 1, 200, 200, 200])\n",
      "torch.float32 torch.int32\n",
      "tensor(0.) tensor(1.)\n",
      "tensor([0, 1, 2, 3, 4, 5], dtype=torch.int32)\n"
     ]
    },
    {
     "data": {
      "image/png": "[encoded data removed]",
      "text/plain": [
       "<Figure size 432x288 with 1 Axes>"
      ]
     },
     "metadata": {
      "needs_background": "light"
     },
     "output_type": "display_data"
    }
   ],
   "source": [
    "#@title solution for dataloader\n",
    "import torch\n",
    "from monai.transforms import LoadImaged, CenterSpatialCropd, AddChanneld, ScaleIntensityd, CastToTyped, ToTensord\n",
    "\n",
    "trans = Compose(\n",
    "    [\n",
    "        LoadImaged(fn_keys, image_only=True),\n",
    "        AddChanneld(fn_keys),\n",
    "        CenterSpatialCropd(fn_keys, 200),\n",
    "        ScaleIntensityd([\"img\"]),\n",
    "        CastToTyped(fn_keys, (np.float32, np.int32)),\n",
    "        ToTensord(fn_keys),\n",
    "    ]\n",
    ")\n",
    "\n",
    "data = trans(filenames[0])\n",
    "img = data[\"img\"]\n",
    "seg = data[\"seg\"]\n",
    "\n",
    "print(img.shape)  # should be (1, 200, 200, 200)\n",
    "print(img.dtype, seg.dtype)  # should be float32  int32\n",
    "print(img.min(), img.max())  # should be 0.0 1.0\n",
    "print(torch.unique(seg))  # should be [0 1 2 3 4 5]\n",
    "\n",
    "plt.imshow(img[0, img.shape[1] // 2])\n",
    "\n",
    "# construct dataset and dataloder here and iterate over batches, batch_size of 1 should be used\n",
    "\n",
    "ds = Dataset(filenames,transform=trans)\n",
    "loader= DataLoader(ds,batch_size=3)\n",
    "\n",
    "for batch in loader:\n",
    "    img = batch[\"img\"]\n",
    "    seg = batch[\"seg\"]\n",
    "\n",
    "    print(img.shape)  # should be (3, 1, 200, 200, 200) and (2, 1, 200, 200, 200) - first batch has 3, second has 2.\n",
    "    print(img.dtype, seg.dtype)  # should be float32  int32\n",
    "    print(img.min(), img.max())  # should be 0.0 1.0\n",
    "    print(torch.unique(seg))  # should be [0 1 2 3 4 5]    "
   ]
  },
  {
   "cell_type": "markdown",
   "metadata": {
    "id": "fEypDbVWbjb6"
   },
   "source": [
    "\n",
    "\n",
    "## Navigation\n",
    "- [01_getting started](./01_getting.ipynb)\n",
    "\n",
    "- [02_pipeline_01](./02_pipeline_01.ipynb)\n",
    "- [02_pipeline_02](./02_pipeline_02.ipynb)\n",
    "- [02_pipeline_03](./02_pipeline_03.ipynb)\n",
    "- [02_pipeline_04](./02_pipeline_04.ipynb)\n",
    "\n",
    "- [03_brain_gan ](./03_brain_gan_01.ipynb)\n",
    "\n",
    "- [04_spleen_segment](./04_spleen_segment.ipynb) \n",
    "\n",
    "- [05_challenge_cardiac baseline](./05_challenge_cardiac_baseline.ipynb) \n",
    "\n",
    "- [05_challenge_cardiac workspace](./05_challenge_cardiac_workspace.ipynb) \n",
    "\n",
    "<img src=\"https://github.com/Project-MONAI/MONAIBootcamp2021/raw/2f28b64f814a03703667c8ea18cc84f53d6795e4/day1/monai.png\" width=400>"
   ]
  },
  {
   "cell_type": "code",
   "execution_count": null,
   "metadata": {},
   "outputs": [],
   "source": []
  }
 ],
 "metadata": {
  "accelerator": "GPU",
  "colab": {
   "machine_shape": "hm",
   "name": "Monai_bootcam_01_01.ipynb",
   "provenance": []
  },
  "kernelspec": {
   "display_name": "Python 3 (ipykernel)",
   "language": "python",
   "name": "python3"
  },
  "language_info": {
   "codemirror_mode": {
    "name": "ipython",
    "version": 3
   },
   "file_extension": ".py",
   "mimetype": "text/x-python",
   "name": "python",
   "nbconvert_exporter": "python",
   "pygments_lexer": "ipython3",
   "version": "3.8.12"
  }
 },
 "nbformat": 4,
 "nbformat_minor": 4
}
