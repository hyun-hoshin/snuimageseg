{
 "cells": [
  {
   "cell_type": "markdown",
   "id": "d8911279",
   "metadata": {},
   "source": [
    "# MONAI label\n",
    "\n",
    "MONAI Label is an intelligent open source image labeling and learning tool that enables users to create annotated datasets and build AI annotation models for clinical evaluation. MONAI Label enables application developers to build labeling apps in a serverless way, where custom labeling apps are exposed as a service through the MONAI Label Server."
   ]
  },
  {
   "cell_type": "markdown",
   "id": "ff8adb75",
   "metadata": {},
   "source": [
    "## configuration"
   ]
  },
  {
   "cell_type": "code",
   "execution_count": null,
   "id": "786fd141",
   "metadata": {},
   "outputs": [],
   "source": [
    "#check work directory\n",
    "!pwd"
   ]
  },
  {
   "cell_type": "markdown",
   "id": "0d8d11ac",
   "metadata": {},
   "source": [
    "### check available MONAI Label Apps."
   ]
  },
  {
   "cell_type": "code",
   "execution_count": null,
   "id": "6be3ab88",
   "metadata": {},
   "outputs": [],
   "source": [
    "# check available apps\n",
    "!monailabel apps"
   ]
  },
  {
   "cell_type": "markdown",
   "id": "b321e22d",
   "metadata": {},
   "source": [
    "### download radiology and pathology example script"
   ]
  },
  {
   "cell_type": "code",
   "execution_count": null,
   "id": "a62ef311",
   "metadata": {},
   "outputs": [],
   "source": [
    "!monailabel apps --download --name radiology --output apps\n",
    "!monailabel apps --download --name pathology --output apps"
   ]
  },
  {
   "cell_type": "markdown",
   "id": "2aa90a53",
   "metadata": {},
   "source": [
    "### Download available Dataset"
   ]
  },
  {
   "cell_type": "code",
   "execution_count": null,
   "id": "d8e6cb4a",
   "metadata": {},
   "outputs": [],
   "source": [
    "# check available  sample Datasets\n",
    "!monailabel datasets # List sample datasets\n"
   ]
  },
  {
   "cell_type": "markdown",
   "id": "57cdff98",
   "metadata": {},
   "source": [
    "#### download sample dataset for segmentation "
   ]
  },
  {
   "cell_type": "code",
   "execution_count": null,
   "id": "76e7f689",
   "metadata": {},
   "outputs": [],
   "source": [
    "!monailabel datasets --download --name Task09_Spleen --output datasets\n",
    "!monailabel datasets --download --name Task06_Lung  --output datasets"
   ]
  },
  {
   "cell_type": "code",
   "execution_count": null,
   "id": "cf355785",
   "metadata": {},
   "outputs": [],
   "source": [
    "!monailabel datasets --download --name Task09_Spleen --output datasets\n",
    "!monailabel datasets --download --name Task06_Lung  --output datasets"
   ]
  },
  {
   "cell_type": "markdown",
   "id": "3cd73902",
   "metadata": {},
   "source": [
    "# launch monai app server"
   ]
  },
  {
   "cell_type": "markdown",
   "id": "48ce45db",
   "metadata": {},
   "source": [
    "## check allocated port for 9999 port"
   ]
  },
  {
   "cell_type": "code",
   "execution_count": 28,
   "id": "229e41f5",
   "metadata": {},
   "outputs": [
    {
     "name": "stdout",
     "output_type": "stream",
     "text": [
      "ssh -L localhost:8888:dgx07:8840 -L localhost:9999:dgx07:9840 ssh.axisapps.io -l 88d94f68f53d4beebaa9090b02bcb23d\n"
     ]
    }
   ],
   "source": [
    "!cat ~/port_forwarding_command"
   ]
  },
  {
   "cell_type": "markdown",
   "id": "4e5c5fe5",
   "metadata": {},
   "source": [
    "\n",
    "#### for example, \n",
    "if the port_forwarding_command is below : \n",
    "```\n",
    "ssh -L localhost:8888:dgx05:8730 -L localhost:9999:dgx05:9730 ssh.axisapps.io -l 9bffbbd44d83471292ec7189545006fd\n",
    "```\n",
    "\n",
    "check `-L localhost:9999:dgx05:9730` \n",
    "\n",
    "\n",
    "- PORT number :  `9730`\n",
    "- app  : `~/workspace-monailabel-labs/apps/radiology`\n",
    "- studies :  `~/workspace-monailabel-labs/dataset/Task09_Spleen/imagesTr`\n",
    "- configure model : segmentation_spleen \n",
    "\n",
    "```\n",
    "monailabel start_server --app  ~/workspace-monailabel-labs/apps/radiology  --studies  ~/workspace-monailabel-labs/datasets/Task09_Spleen/imagesTr --conf models segmentation_spleen --host 0.0.0.0 --port 9730 --verbose DEBUG\n",
    "```"
   ]
  },
  {
   "cell_type": "markdown",
   "id": "6859cbbb",
   "metadata": {},
   "source": [
    "### launch monai label server ( lung segment)\n",
    "\n",
    "- step1. copy command ( Control + C)  \n",
    "- step2. open New terminal \n",
    "- step3. (Control + V) in terminal \n",
    "- step4. reload and reaccess server in 3D Slicer \n",
    "\n",
    "```monailabel start_server --app  ~/workspace-monailabel-labs/apps/radiology  --studies  ~/workspace-monailabel-labs/datasets/Task09_Spleen/imagesTr --conf models segmentation_spleen --host 0.0.0.0 --port 9730 --verbose DEBUG```"
   ]
  },
  {
   "cell_type": "code",
   "execution_count": 29,
   "id": "2eb192e7",
   "metadata": {},
   "outputs": [
    {
     "name": "stdout",
     "output_type": "stream",
     "text": [
      "Using PYTHONPATH=/opt:\n",
      "[2022-11-05 06:43:22,987] [3158870] [MainThread] [INFO] (__main__:269) - USING:: app = /lustre/workspaces/f3mx6wqa/workspace-monailabel-labs/apps/radiology\n",
      "[2022-11-05 06:43:22,987] [3158870] [MainThread] [INFO] (__main__:269) - USING:: studies = /lustre/workspaces/f3mx6wqa/workspace-monailabel-labs/datasets/Task09_Spleen/imagesTr\n",
      "[2022-11-05 06:43:22,987] [3158870] [MainThread] [INFO] (__main__:269) - USING:: verbose = DEBUG\n",
      "[2022-11-05 06:43:22,987] [3158870] [MainThread] [INFO] (__main__:269) - USING:: conf = [['models', 'segmentation_spleen']]\n",
      "[2022-11-05 06:43:22,987] [3158870] [MainThread] [INFO] (__main__:269) - USING:: host = 0.0.0.0\n",
      "[2022-11-05 06:43:22,987] [3158870] [MainThread] [INFO] (__main__:269) - USING:: port = 9840\n",
      "[2022-11-05 06:43:22,987] [3158870] [MainThread] [INFO] (__main__:269) - USING:: uvicorn_app = monailabel.app:app\n",
      "[2022-11-05 06:43:22,987] [3158870] [MainThread] [INFO] (__main__:269) - USING:: ssl_keyfile = None\n",
      "[2022-11-05 06:43:22,987] [3158870] [MainThread] [INFO] (__main__:269) - USING:: ssl_certfile = None\n",
      "[2022-11-05 06:43:22,987] [3158870] [MainThread] [INFO] (__main__:269) - USING:: ssl_keyfile_password = None\n",
      "[2022-11-05 06:43:22,987] [3158870] [MainThread] [INFO] (__main__:269) - USING:: ssl_ca_certs = None\n",
      "[2022-11-05 06:43:22,987] [3158870] [MainThread] [INFO] (__main__:269) - USING:: workers = None\n",
      "[2022-11-05 06:43:22,988] [3158870] [MainThread] [INFO] (__main__:269) - USING:: limit_concurrency = None\n",
      "[2022-11-05 06:43:22,988] [3158870] [MainThread] [INFO] (__main__:269) - USING:: access_log = False\n",
      "[2022-11-05 06:43:22,988] [3158870] [MainThread] [INFO] (__main__:269) - USING:: log_config = None\n",
      "[2022-11-05 06:43:22,988] [3158870] [MainThread] [INFO] (__main__:269) - USING:: dryrun = False\n",
      "[2022-11-05 06:43:22,988] [3158870] [MainThread] [INFO] (__main__:269) - USING:: action = start_server\n",
      "[2022-11-05 06:43:22,988] [3158870] [MainThread] [INFO] (__main__:273) - ENV SETTINGS:: MONAI_LABEL_API_STR = \n",
      "[2022-11-05 06:43:22,988] [3158870] [MainThread] [INFO] (__main__:273) - ENV SETTINGS:: MONAI_LABEL_PROJECT_NAME = MONAILabel\n",
      "[2022-11-05 06:43:22,988] [3158870] [MainThread] [INFO] (__main__:273) - ENV SETTINGS:: MONAI_LABEL_APP_DIR = \n",
      "[2022-11-05 06:43:22,988] [3158870] [MainThread] [INFO] (__main__:273) - ENV SETTINGS:: MONAI_LABEL_STUDIES = \n",
      "[2022-11-05 06:43:22,988] [3158870] [MainThread] [INFO] (__main__:273) - ENV SETTINGS:: MONAI_LABEL_AUTH_ENABLE = False\n",
      "[2022-11-05 06:43:22,988] [3158870] [MainThread] [INFO] (__main__:273) - ENV SETTINGS:: MONAI_LABEL_AUTH_DB = \n",
      "[2022-11-05 06:43:22,988] [3158870] [MainThread] [INFO] (__main__:273) - ENV SETTINGS:: MONAI_LABEL_APP_CONF = '{}'\n",
      "[2022-11-05 06:43:22,988] [3158870] [MainThread] [INFO] (__main__:273) - ENV SETTINGS:: MONAI_LABEL_TASKS_TRAIN = True\n",
      "[2022-11-05 06:43:22,988] [3158870] [MainThread] [INFO] (__main__:273) - ENV SETTINGS:: MONAI_LABEL_TASKS_STRATEGY = True\n",
      "[2022-11-05 06:43:22,988] [3158870] [MainThread] [INFO] (__main__:273) - ENV SETTINGS:: MONAI_LABEL_TASKS_SCORING = True\n",
      "[2022-11-05 06:43:22,988] [3158870] [MainThread] [INFO] (__main__:273) - ENV SETTINGS:: MONAI_LABEL_TASKS_BATCH_INFER = True\n",
      "[2022-11-05 06:43:22,988] [3158870] [MainThread] [INFO] (__main__:273) - ENV SETTINGS:: MONAI_LABEL_DATASTORE = \n",
      "[2022-11-05 06:43:22,988] [3158870] [MainThread] [INFO] (__main__:273) - ENV SETTINGS:: MONAI_LABEL_DATASTORE_USERNAME = \n",
      "[2022-11-05 06:43:22,988] [3158870] [MainThread] [INFO] (__main__:273) - ENV SETTINGS:: MONAI_LABEL_DATASTORE_PASSWORD = \n",
      "[2022-11-05 06:43:22,988] [3158870] [MainThread] [INFO] (__main__:273) - ENV SETTINGS:: MONAI_LABEL_DATASTORE_API_KEY = \n",
      "[2022-11-05 06:43:22,988] [3158870] [MainThread] [INFO] (__main__:273) - ENV SETTINGS:: MONAI_LABEL_DATASTORE_CACHE_PATH = \n",
      "[2022-11-05 06:43:22,988] [3158870] [MainThread] [INFO] (__main__:273) - ENV SETTINGS:: MONAI_LABEL_DATASTORE_PROJECT = \n",
      "[2022-11-05 06:43:22,988] [3158870] [MainThread] [INFO] (__main__:273) - ENV SETTINGS:: MONAI_LABEL_DATASTORE_ASSET_PATH = \n",
      "[2022-11-05 06:43:22,988] [3158870] [MainThread] [INFO] (__main__:273) - ENV SETTINGS:: MONAI_LABEL_DATASTORE_DSA_ANNOTATION_GROUPS = \n",
      "[2022-11-05 06:43:22,988] [3158870] [MainThread] [INFO] (__main__:273) - ENV SETTINGS:: MONAI_LABEL_DICOMWEB_USERNAME = \n",
      "[2022-11-05 06:43:22,988] [3158870] [MainThread] [INFO] (__main__:273) - ENV SETTINGS:: MONAI_LABEL_DICOMWEB_PASSWORD = \n",
      "[2022-11-05 06:43:22,988] [3158870] [MainThread] [INFO] (__main__:273) - ENV SETTINGS:: MONAI_LABEL_DICOMWEB_CACHE_PATH = \n",
      "[2022-11-05 06:43:22,988] [3158870] [MainThread] [INFO] (__main__:273) - ENV SETTINGS:: MONAI_LABEL_QIDO_PREFIX = \n",
      "[2022-11-05 06:43:22,988] [3158870] [MainThread] [INFO] (__main__:273) - ENV SETTINGS:: MONAI_LABEL_WADO_PREFIX = \n",
      "[2022-11-05 06:43:22,988] [3158870] [MainThread] [INFO] (__main__:273) - ENV SETTINGS:: MONAI_LABEL_STOW_PREFIX = \n",
      "[2022-11-05 06:43:22,988] [3158870] [MainThread] [INFO] (__main__:273) - ENV SETTINGS:: MONAI_LABEL_DICOMWEB_FETCH_BY_FRAME = False\n",
      "[2022-11-05 06:43:22,988] [3158870] [MainThread] [INFO] (__main__:273) - ENV SETTINGS:: MONAI_LABEL_DATASTORE_AUTO_RELOAD = True\n",
      "[2022-11-05 06:43:22,988] [3158870] [MainThread] [INFO] (__main__:273) - ENV SETTINGS:: MONAI_LABEL_DATASTORE_FILE_EXT = '[\"*.nii.gz\", \"*.nii\", \"*.nrrd\", \"*.jpg\", \"*.png\", \"*.tif\", \"*.svs\", \"*.xml\"]'\n",
      "[2022-11-05 06:43:22,988] [3158870] [MainThread] [INFO] (__main__:273) - ENV SETTINGS:: MONAI_LABEL_SERVER_PORT = 8000\n",
      "[2022-11-05 06:43:22,988] [3158870] [MainThread] [INFO] (__main__:273) - ENV SETTINGS:: MONAI_LABEL_CORS_ORIGINS = '[]'\n",
      "[2022-11-05 06:43:22,988] [3158870] [MainThread] [INFO] (__main__:273) - ENV SETTINGS:: MONAI_LABEL_SESSIONS = True\n",
      "[2022-11-05 06:43:22,988] [3158870] [MainThread] [INFO] (__main__:273) - ENV SETTINGS:: MONAI_LABEL_SESSION_PATH = \n",
      "[2022-11-05 06:43:22,988] [3158870] [MainThread] [INFO] (__main__:273) - ENV SETTINGS:: MONAI_LABEL_SESSION_EXPIRY = 3600\n",
      "[2022-11-05 06:43:22,988] [3158870] [MainThread] [INFO] (__main__:273) - ENV SETTINGS:: MONAI_LABEL_INFER_CONCURRENCY = -1\n",
      "[2022-11-05 06:43:22,988] [3158870] [MainThread] [INFO] (__main__:273) - ENV SETTINGS:: MONAI_LABEL_INFER_TIMEOUT = 600\n",
      "[2022-11-05 06:43:22,988] [3158870] [MainThread] [INFO] (__main__:273) - ENV SETTINGS:: MONAI_LABEL_AUTO_UPDATE_SCORING = True\n",
      "[2022-11-05 06:43:22,988] [3158870] [MainThread] [INFO] (__main__:274) - \n",
      "[2022-11-05 06:43:22,996] [3158870] [MainThread] [DEBUG] (asyncio:59) - Using selector: EpollSelector\n",
      "[2022-11-05 06:43:23,074] [3158870] [MainThread] [DEBUG] (passlib.utils.compat:449) - loaded lazy attr 'SafeConfigParser': <class 'configparser.ConfigParser'>\n",
      "[2022-11-05 06:43:23,075] [3158870] [MainThread] [DEBUG] (passlib.utils.compat:449) - loaded lazy attr 'NativeStringIO': <class '_io.StringIO'>\n",
      "[2022-11-05 06:43:23,075] [3158870] [MainThread] [DEBUG] (passlib.utils.compat:449) - loaded lazy attr 'BytesIO': <class '_io.BytesIO'>\n",
      "[2022-11-05 06:43:23,077] [3158870] [MainThread] [DEBUG] (passlib.registry:296) - registered 'bcrypt' handler: <class 'passlib.handlers.bcrypt.bcrypt'>\n",
      "Allow Origins: ['*']\n",
      "[2022-11-05 06:43:23,374] [3158870] [MainThread] [INFO] (uvicorn.error:75) - Started server process [3158870]\n",
      "[2022-11-05 06:43:23,374] [3158870] [MainThread] [INFO] (uvicorn.error:45) - Waiting for application startup.\n",
      "[2022-11-05 06:43:23,374] [3158870] [MainThread] [INFO] (monailabel.interfaces.utils.app:38) - Initializing App from: /lustre/workspaces/f3mx6wqa/workspace-monailabel-labs/apps/radiology; studies: /lustre/workspaces/f3mx6wqa/workspace-monailabel-labs/datasets/Task09_Spleen/imagesTr; conf: {'models': 'segmentation_spleen'}\n",
      "[2022-11-05 06:43:23,459] [3158870] [MainThread] [DEBUG] (monailabel.utils.others.class_utils:27) - module: <module 'main' from '/lustre/workspaces/f3mx6wqa/workspace-monailabel-labs/apps/radiology/main.py'>\n",
      "[2022-11-05 06:43:23,459] [3158870] [MainThread] [DEBUG] (monailabel.utils.others.class_utils:42) - <module 'main' from '/lustre/workspaces/f3mx6wqa/workspace-monailabel-labs/apps/radiology/main.py'> => MONAILabelApp\n",
      "[2022-11-05 06:43:23,459] [3158870] [MainThread] [DEBUG] (monailabel.utils.others.class_utils:47) - Datastore => <class 'monailabel.interfaces.datastore.Datastore'>\n",
      "[2022-11-05 06:43:23,459] [3158870] [MainThread] [DEBUG] (monailabel.utils.others.class_utils:34) - Base classes => ['object']\n",
      "[2022-11-05 06:43:23,459] [3158870] [MainThread] [DEBUG] (monailabel.utils.others.class_utils:47) - First => <class 'lib.activelearning.first.First'>\n",
      "[2022-11-05 06:43:23,459] [3158870] [MainThread] [DEBUG] (monailabel.utils.others.class_utils:34) - Base classes => ['Strategy']\n",
      "[2022-11-05 06:43:23,459] [3158870] [MainThread] [DEBUG] (monailabel.utils.others.class_utils:47) - GMMBasedGraphCut => <class 'monailabel.scribbles.infer.GMMBasedGraphCut'>\n",
      "[2022-11-05 06:43:23,459] [3158870] [MainThread] [DEBUG] (monailabel.utils.others.class_utils:34) - Base classes => ['ScribblesLikelihoodInferTask']\n",
      "[2022-11-05 06:43:23,459] [3158870] [MainThread] [DEBUG] (monailabel.utils.others.class_utils:47) - HeuristicPlanner => <class 'monailabel.utils.others.planner.HeuristicPlanner'>\n",
      "[2022-11-05 06:43:23,459] [3158870] [MainThread] [DEBUG] (monailabel.utils.others.class_utils:34) - Base classes => ['object']\n",
      "[2022-11-05 06:43:23,459] [3158870] [MainThread] [DEBUG] (monailabel.utils.others.class_utils:47) - HistogramBasedGraphCut => <class 'monailabel.scribbles.infer.HistogramBasedGraphCut'>\n",
      "[2022-11-05 06:43:23,459] [3158870] [MainThread] [DEBUG] (monailabel.utils.others.class_utils:34) - Base classes => ['ScribblesLikelihoodInferTask']\n",
      "[2022-11-05 06:43:23,459] [3158870] [MainThread] [DEBUG] (monailabel.utils.others.class_utils:47) - InferDeepgrowPipeline => <class 'monailabel.tasks.infer.deepgrow_pipeline.InferDeepgrowPipeline'>\n",
      "[2022-11-05 06:43:23,459] [3158870] [MainThread] [DEBUG] (monailabel.utils.others.class_utils:34) - Base classes => ['InferTask']\n",
      "[2022-11-05 06:43:23,460] [3158870] [MainThread] [DEBUG] (monailabel.utils.others.class_utils:47) - InferTask => <class 'monailabel.interfaces.tasks.infer.InferTask'>\n",
      "[2022-11-05 06:43:23,460] [3158870] [MainThread] [DEBUG] (monailabel.utils.others.class_utils:34) - Base classes => ['object']\n",
      "[2022-11-05 06:43:23,460] [3158870] [MainThread] [DEBUG] (monailabel.utils.others.class_utils:47) - MONAILabelApp => <class 'monailabel.interfaces.app.MONAILabelApp'>\n",
      "[2022-11-05 06:43:23,460] [3158870] [MainThread] [DEBUG] (monailabel.utils.others.class_utils:47) - MyApp => <class 'main.MyApp'>\n",
      "[2022-11-05 06:43:23,460] [3158870] [MainThread] [DEBUG] (monailabel.utils.others.class_utils:34) - Base classes => ['MONAILabelApp']\n",
      "[2022-11-05 06:43:23,460] [3158870] [MainThread] [INFO] (monailabel.utils.others.class_utils:36) - Subclass for MONAILabelApp Found: <class 'main.MyApp'>\n",
      "[2022-11-05 06:43:23,460] [3158870] [MainThread] [DEBUG] (monailabel.utils.others.class_utils:132) - Module File Path: /lustre/workspaces/f3mx6wqa/workspace-monailabel-labs/apps/radiology/lib/configs/__init__.py\n",
      "[2022-11-05 06:43:23,468] [3158870] [MainThread] [DEBUG] (monailabel.utils.others.class_utils:34) - Base classes => ['TaskConfig']\n",
      "[2022-11-05 06:43:23,468] [3158870] [MainThread] [INFO] (monailabel.utils.others.class_utils:36) - Subclass for TaskConfig Found: <class 'lib.configs.segmentation_spleen.SegmentationSpleen'>\n",
      "[2022-11-05 06:43:23,469] [3158870] [MainThread] [DEBUG] (monailabel.utils.others.class_utils:34) - Base classes => ['TaskConfig']\n",
      "[2022-11-05 06:43:23,469] [3158870] [MainThread] [INFO] (monailabel.utils.others.class_utils:36) - Subclass for TaskConfig Found: <class 'lib.configs.segmentation.Segmentation'>\n",
      "[2022-11-05 06:43:23,469] [3158870] [MainThread] [DEBUG] (monailabel.utils.others.class_utils:34) - Base classes => ['TaskConfig']\n",
      "[2022-11-05 06:43:23,469] [3158870] [MainThread] [INFO] (monailabel.utils.others.class_utils:36) - Subclass for TaskConfig Found: <class 'lib.configs.deepgrow_2d.Deepgrow2D'>\n",
      "[2022-11-05 06:43:23,470] [3158870] [MainThread] [DEBUG] (monailabel.utils.others.class_utils:34) - Base classes => ['TaskConfig']\n",
      "[2022-11-05 06:43:23,470] [3158870] [MainThread] [INFO] (monailabel.utils.others.class_utils:36) - Subclass for TaskConfig Found: <class 'lib.configs.segmentation_lung.Segmentation'>\n",
      "[2022-11-05 06:43:23,470] [3158870] [MainThread] [DEBUG] (monailabel.utils.others.class_utils:34) - Base classes => ['TaskConfig']\n",
      "[2022-11-05 06:43:23,470] [3158870] [MainThread] [INFO] (monailabel.utils.others.class_utils:36) - Subclass for TaskConfig Found: <class 'lib.configs.deepgrow_3d.Deepgrow3D'>\n",
      "[2022-11-05 06:43:23,471] [3158870] [MainThread] [DEBUG] (monailabel.utils.others.class_utils:34) - Base classes => ['TaskConfig']\n",
      "[2022-11-05 06:43:23,471] [3158870] [MainThread] [INFO] (monailabel.utils.others.class_utils:36) - Subclass for TaskConfig Found: <class 'lib.configs.deepedit.DeepEdit'>\n",
      "[2022-11-05 06:43:23,471] [3158870] [MainThread] [INFO] (main:83) - +++ Adding Model: segmentation_spleen => lib.configs.segmentation_spleen.SegmentationSpleen\n",
      "[2022-11-05 06:43:23,506] [3158870] [MainThread] [INFO] (lib.configs.segmentation_spleen:78) - EPISTEMIC Enabled: 0; Samples: 5\n",
      "[2022-11-05 06:43:23,506] [3158870] [MainThread] [INFO] (lib.configs.segmentation_spleen:82) - TTA Enabled: 0; Samples: 5\n",
      "[2022-11-05 06:43:23,507] [3158870] [MainThread] [INFO] (main:87) - +++ Using Models: ['segmentation_spleen']\n",
      "[2022-11-05 06:43:23,507] [3158870] [MainThread] [INFO] (monailabel.interfaces.app:128) - Init Datastore for: /lustre/workspaces/f3mx6wqa/workspace-monailabel-labs/datasets/Task09_Spleen/imagesTr\n",
      "[2022-11-05 06:43:23,507] [3158870] [MainThread] [INFO] (monailabel.datastore.local:125) - Auto Reload: True; Extensions: ['*.nii.gz', '*.nii', '*.nrrd', '*.jpg', '*.png', '*.tif', '*.svs', '*.xml']\n",
      "[2022-11-05 06:43:23,508] [3158870] [MainThread] [DEBUG] (monailabel.datastore.local:631) - Acquired the lock!\n",
      "[2022-11-05 06:43:23,508] [3158870] [MainThread] [DEBUG] (monailabel.datastore.local:635) - Reload Datastore; old ts: 0; new ts: 1667611617.0\n",
      "[2022-11-05 06:43:23,510] [3158870] [MainThread] [DEBUG] (monailabel.datastore.local:639) - Release the Lock...\n",
      "[2022-11-05 06:43:23,511] [3158870] [MainThread] [DEBUG] (monailabel.datastore.local:525) - reconcile datastore...\n",
      "[2022-11-05 06:43:23,512] [3158870] [MainThread] [DEBUG] (monailabel.datastore.local:631) - Acquired the lock!\n",
      "[2022-11-05 06:43:23,512] [3158870] [MainThread] [DEBUG] (monailabel.datastore.local:639) - Release the Lock...\n",
      "[2022-11-05 06:43:23,523] [3158870] [MainThread] [DEBUG] (monailabel.datastore.local:631) - Acquired the lock!\n",
      "[2022-11-05 06:43:23,523] [3158870] [MainThread] [DEBUG] (monailabel.datastore.local:639) - Release the Lock...\n",
      "[2022-11-05 06:43:23,525] [3158870] [MainThread] [DEBUG] (monailabel.datastore.local:531) - Labels Dir /lustre/workspaces/f3mx6wqa/workspace-monailabel-labs/datasets/Task09_Spleen/imagesTr/labels\n",
      "[2022-11-05 06:43:23,525] [3158870] [MainThread] [DEBUG] (monailabel.datastore.local:534) - Label Tags: ['original', 'final']\n",
      "[2022-11-05 06:43:23,526] [3158870] [MainThread] [DEBUG] (monailabel.datastore.local:631) - Acquired the lock!\n",
      "[2022-11-05 06:43:23,526] [3158870] [MainThread] [DEBUG] (monailabel.datastore.local:639) - Release the Lock...\n",
      "[2022-11-05 06:43:23,527] [3158870] [MainThread] [DEBUG] (monailabel.datastore.local:631) - Acquired the lock!\n",
      "[2022-11-05 06:43:23,527] [3158870] [MainThread] [DEBUG] (monailabel.datastore.local:639) - Release the Lock...\n",
      "[2022-11-05 06:43:23,528] [3158870] [MainThread] [DEBUG] (monailabel.datastore.local:631) - Acquired the lock!\n",
      "[2022-11-05 06:43:23,528] [3158870] [MainThread] [DEBUG] (monailabel.datastore.local:639) - Release the Lock...\n",
      "[2022-11-05 06:43:23,531] [3158870] [MainThread] [INFO] (monailabel.datastore.local:540) - Invalidate count: 0\n",
      "[2022-11-05 06:43:23,531] [3158870] [MainThread] [DEBUG] (monailabel.datastore.local:545) - No changes needed to flush to disk\n",
      "[2022-11-05 06:43:23,531] [3158870] [MainThread] [INFO] (monailabel.datastore.local:145) - Start observing external modifications on datastore (AUTO RELOAD)\n",
      "[2022-11-05 06:43:23,532] [3158870] [MainThread] [INFO] (main:112) - +++ Adding Inferer:: segmentation_spleen => <lib.infers.segmentation_spleen.SegmentationSpleen object at 0x7f9aff7b0d90>\n",
      "[2022-11-05 06:43:23,532] [3158870] [MainThread] [INFO] (main:161) - +++ Adding Trainer:: segmentation_spleen => <lib.trainers.segmentation_spleen.SegmentationSpleen object at 0x7f9aff780c70>\n",
      "[2022-11-05 06:43:23,533] [3158870] [MainThread] [INFO] (monailabel.utils.sessions:51) - Session Path: /home/f3mx6wqa/.cache/monailabel/sessions\n",
      "[2022-11-05 06:43:23,533] [3158870] [MainThread] [INFO] (monailabel.utils.sessions:52) - Session Expiry (max): 3600\n",
      "[2022-11-05 06:43:23,533] [3158870] [MainThread] [INFO] (monailabel.interfaces.app:460) - App Init - completed\n",
      "[2022-11-05 06:43:23,533] [timeloop] [INFO] Starting Timeloop..\n",
      "[2022-11-05 06:43:23,533] [3158870] [MainThread] [INFO] (timeloop:60) - Starting Timeloop..\n",
      "[2022-11-05 06:43:23,533] [timeloop] [INFO] Registered job <function MONAILabelApp.on_init_complete.<locals>.run_scheduler at 0x7f9afff24ee0>\n",
      "[2022-11-05 06:43:23,533] [3158870] [MainThread] [INFO] (timeloop:42) - Registered job <function MONAILabelApp.on_init_complete.<locals>.run_scheduler at 0x7f9afff24ee0>\n",
      "[2022-11-05 06:43:23,533] [timeloop] [INFO] Timeloop now started. Jobs will run based on the interval set\n",
      "[2022-11-05 06:43:23,533] [3158870] [MainThread] [INFO] (timeloop:63) - Timeloop now started. Jobs will run based on the interval set\n",
      "[2022-11-05 06:43:23,533] [3158870] [MainThread] [INFO] (uvicorn.error:59) - Application startup complete.\n",
      "[2022-11-05 06:43:23,533] [3158870] [MainThread] [INFO] (uvicorn.error:206) - Uvicorn running on http://0.0.0.0:9840 (Press CTRL+C to quit)\n",
      "^C\n",
      "[2022-11-05 06:44:58,470] [3158870] [MainThread] [INFO] (uvicorn.error:252) - Shutting down\n",
      "[2022-11-05 06:44:58,570] [3158870] [MainThread] [INFO] (uvicorn.error:64) - Waiting for application shutdown.\n",
      "[2022-11-05 06:44:58,570] [3158870] [MainThread] [INFO] (uvicorn.error:75) - Application shutdown complete.\n",
      "[2022-11-05 06:44:58,570] [3158870] [MainThread] [INFO] (uvicorn.error:85) - Finished server process [3158870]\n"
     ]
    }
   ],
   "source": [
    "!monailabel start_server --app  /lustre/workspaces/f3mx6wqa/workspace-monailabel-labs/apps/radiology  --studies  /lustre/workspaces/f3mx6wqa/workspace-monailabel-labs/datasets/Task09_Spleen/imagesTr --conf models segmentation_spleen --host 0.0.0.0 --port 9840 --verbose DEBUG"
   ]
  },
  {
   "cell_type": "markdown",
   "id": "8e85eb15",
   "metadata": {},
   "source": [
    "### launch monai label server ( deepedit)\n",
    "\n",
    "- step1. copy command ( Control + C)\n",
    "- step2. open New terminal\n",
    "- step3. (Control + V) in terminal\n",
    "- step4. reload and reaccess server in 3D Slicer\n",
    "\n",
    "```monailabel start_server --app  ~/workspace-monailabel-labs/apps/radiology  --studies  ~/workspace-monailabel-labs/datasets/Task09_Spleen/imagesTr --conf models deepedit --host 0.0.0.0 --port 9730 --verbose DEBUG```"
   ]
  },
  {
   "cell_type": "code",
   "execution_count": null,
   "id": "c18c481f",
   "metadata": {},
   "outputs": [],
   "source": [
    "monailabel start_server --app  /lustre/workspaces/f3mx6wqa/workspace-monailabel-labs/apps/radiology  --studies  /lustre/workspaces/f3mx6wqa/workspace-monailabel-labs/datasets/Task09_Spleen/imagesTr --conf models deepedit --host 0.0.0.0 --port 9840 --verbose DEBUG"
   ]
  },
  {
   "cell_type": "markdown",
   "id": "f9847777",
   "metadata": {},
   "source": [
    "### launch monai label server ( deepgrow_3d)\n",
    "\n",
    "- step1. copy command ( Control + C)\n",
    "- step2. open New terminal\n",
    "- step3. (Control + V) in terminal\n",
    "- step4. reload and reaccess server in 3D Slicer\n",
    "\n",
    "```monailabel start_server --app  ~/workspace-monailabel-labs/apps/radiology  --studies  ~/workspace-monailabel-labs/datasets/Task09_Spleen/imagesTr --conf models deepgrow_3d --host 0.0.0.0 --port 9730 --verbose DEBUG```"
   ]
  },
  {
   "cell_type": "code",
   "execution_count": null,
   "id": "57479a25",
   "metadata": {},
   "outputs": [],
   "source": [
    "# monailabel start_server --app  ~/workspace-monailabel-labs/apps/radiology  --studies  ~/workspace-monailabel-labs/datasets/Task09_Spleen/imagesTr --conf models deepgrow_3d --host 0.0.0.0 --port 9730 --verbose DEBUG"
   ]
  },
  {
   "cell_type": "markdown",
   "id": "92056667",
   "metadata": {},
   "source": [
    "### launch monai label server ( custom model segmentation_lung)\n",
    "\n",
    "dataset lung \n",
    "- step0. copy `apps/libs/configs/segmentation.py` to new `segmentation_lung.py` \n",
    "- step1. open and edit label `right lung:1` , `left lung:2` , `airways:3` \n",
    "- step2. edit configure  `\"use_pretrained_model\", \"false\"` and save\n",
    "- step3. copy command ( Control + C)\n",
    "- step4. open New terminal\n",
    "- step5. (Control + V) in terminal\n",
    "- step6. reload and reaccess server in 3D Slicer\n",
    "\n",
    "```monailabel start_server --app  ~/workspace-monailabel-labs/apps/radiology  --studies  ~/workspace-monailabel-labs/datasets/Task06_Lung/imagesTr --conf models segmentation_lung --host 0.0.0.0 --port 9730 --verbose DEBUG```"
   ]
  },
  {
   "cell_type": "code",
   "execution_count": null,
   "id": "5b5be094",
   "metadata": {},
   "outputs": [],
   "source": [
    "!monailabel start_server --app  /lustre/workspaces/f3mx6wqa/workspace-monailabel-labs/apps/radiology  --studies  ~/workspace-monailabel-labs/datasets/Task09_Spleen/imagesTr --conf models deepgrow_3d --host 0.0.0.0 --port 9730 --verbose DEBUG"
   ]
  },
  {
   "cell_type": "code",
   "execution_count": null,
   "id": "0e4127d3",
   "metadata": {},
   "outputs": [],
   "source": [
    "!monailabel start_server --app  /opt/conda/monailabel/sample-apps/radiology  --studies  ~/workspace-monailabel-labs/datasets/Task09_Spleen/imagesTr --conf models deepedit --host 0.0.0.0 --port 9730 --verbose DEBUG"
   ]
  },
  {
   "cell_type": "code",
   "execution_count": null,
   "id": "783ca90b",
   "metadata": {},
   "outputs": [],
   "source": [
    "!monailabel start_server --app  ~/workspace-monailabel-labs/apps/radiology  --studies  ~/workspace-monailabel-labs/datasets/Task09_Spleen/imagesTr --conf models segmentaion --host 0.0.0.0 --port 9730 --verbose DEBUG"
   ]
  },
  {
   "cell_type": "code",
   "execution_count": null,
   "id": "aa3afffc",
   "metadata": {},
   "outputs": [],
   "source": []
  }
 ],
 "metadata": {
  "kernelspec": {
   "display_name": "Python 3 (ipykernel)",
   "language": "python",
   "name": "python3"
  },
  "language_info": {
   "codemirror_mode": {
    "name": "ipython",
    "version": 3
   },
   "file_extension": ".py",
   "mimetype": "text/x-python",
   "name": "python",
   "nbconvert_exporter": "python",
   "pygments_lexer": "ipython3",
   "version": "3.8.12"
  }
 },
 "nbformat": 4,
 "nbformat_minor": 5
}
