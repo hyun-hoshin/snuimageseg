{
 "cells": [
  {
   "cell_type": "markdown",
   "metadata": {
    "id": "96ohkCyqZNaM"
   },
   "source": [
    "#  MONAI Bootcamp\n",
    "## End-To-End Workflow with MONAI part 2 ( Ignite for train script)\n",
    "\n",
    "\n",
    "## Ignite \n",
    "MONAI support Ignite and pytorch lightning to help with training and evaluating neural networks in PyTorch flexibly\n",
    "\n",
    "[Ignite](https://pytorch.org/ignite) is a high-level library to help with training and evaluating neural networks in PyTorch flexibly and transparently.\n",
    "\n",
    "<img src=\"https://raw.githubusercontent.com/pytorch/ignite/master/assets/tldr/pytorch-ignite-teaser.gif\" width=400>\n",
    "\n",
    "\n",
    "[pytorch lightning](https://www.pytorchlightning.ai/) is the deep learning framework for professional AI researchers and machine learning engineers who need maximal flexibility without sacrificing performance at scale.\n",
    "\n",
    "<img src=\"https://github.com/PyTorchLightning/pytorch-lightning/raw/master/docs/source/_static/images/general/pl_quick_start_full_compressed.gif\" width=1024>\n",
    "\n"
   ]
  },
  {
   "cell_type": "markdown",
   "metadata": {
    "id": "A_lPbckSZsAG"
   },
   "source": [
    "# same baseline End-to-end Training with Ignite\n",
    "We've covered a lot of material and now it's time to apply the things that we've learned in an end-to-end example. First, we're going to use the basic PyTorch paradigm for training our model. We'll then look at how to train using the Ignite workflows to make things even easier!\n",
    "\n",
    "## baseline  End-to-End Training Workflow\n",
    "To help guide you through training your first model using MONAI, this guide will will cover five key phases:\n",
    "\n",
    " 1. Setting up our Dataset and exploring the data\n",
    " 2. Preparing datasets and transforms\n",
    " 3. Define your network and create our PyTorch training loop [replace with ignite]\n",
    " 4. Evaluate your model and understand the results\n",
    " \n",
    "Let's get started by importing our dependencies."
   ]
  },
  {
   "cell_type": "code",
   "execution_count": 1,
   "metadata": {
    "id": "qg9upTKtVga-"
   },
   "outputs": [],
   "source": [
    "import os\n",
    "import shutil\n",
    "import tempfile\n",
    "\n",
    "import matplotlib.pyplot as plt\n",
    "import numpy as np\n",
    "import PIL\n",
    "\n",
    "import torch\n",
    "import monai\n",
    "\n",
    "from monai.apps import download_and_extract\n",
    "from monai.config import print_config\n",
    "from monai.metrics import ROCAUCMetric\n",
    "from monai.data import decollate_batch, partition_dataset_classes\n",
    "from monai.networks.nets import DenseNet121\n",
    "from monai.transforms import (\n",
    "    AddChannel,\n",
    "    Compose,\n",
    "    LoadImage,\n",
    "    RandFlip,\n",
    "    RandRotate,\n",
    "    RandZoom,\n",
    "    ScaleIntensity,\n",
    "    ToTensor,\n",
    "    Activations,\n",
    "    AsDiscrete,\n",
    "    EnsureType\n",
    ")\n",
    "from monai.utils import set_determinism"
   ]
  },
  {
   "cell_type": "markdown",
   "metadata": {},
   "source": [
    "before start, check current GPU memory with `nvidia-smi`"
   ]
  },
  {
   "cell_type": "code",
   "execution_count": 2,
   "metadata": {},
   "outputs": [
    {
     "name": "stdout",
     "output_type": "stream",
     "text": [
      "Sat Nov  5 03:02:46 2022       \n",
      "+-----------------------------------------------------------------------------+\n",
      "| NVIDIA-SMI 515.65.01    Driver Version: 515.65.01    CUDA Version: 11.7     |\n",
      "|-------------------------------+----------------------+----------------------+\n",
      "| GPU  Name        Persistence-M| Bus-Id        Disp.A | Volatile Uncorr. ECC |\n",
      "| Fan  Temp  Perf  Pwr:Usage/Cap|         Memory-Usage | GPU-Util  Compute M. |\n",
      "|                               |                      |               MIG M. |\n",
      "|===============================+======================+======================|\n",
      "|   0  NVIDIA A100-SXM...  On   | 00000000:B7:00.0 Off |                   On |\n",
      "| N/A   30C    P0    57W / 400W |     39MiB / 81920MiB |     N/A      Default |\n",
      "|                               |                      |              Enabled |\n",
      "+-------------------------------+----------------------+----------------------+\n",
      "\n",
      "+-----------------------------------------------------------------------------+\n",
      "| MIG devices:                                                                |\n",
      "+------------------+----------------------+-----------+-----------------------+\n",
      "| GPU  GI  CI  MIG |         Memory-Usage |        Vol|         Shared        |\n",
      "|      ID  ID  Dev |           BAR1-Usage | SM     Unc| CE  ENC  DEC  OFA  JPG|\n",
      "|                  |                      |        ECC|                       |\n",
      "|==================+======================+===========+=======================|\n",
      "|  0    3   0   0  |     13MiB / 19968MiB | 28      0 |  2   0    1    0    0 |\n",
      "|                  |      0MiB / 32767MiB |           |                       |\n",
      "+------------------+----------------------+-----------+-----------------------+\n",
      "                                                                               \n",
      "+-----------------------------------------------------------------------------+\n",
      "| Processes:                                                                  |\n",
      "|  GPU   GI   CI        PID   Type   Process name                  GPU Memory |\n",
      "|        ID   ID                                                   Usage      |\n",
      "|=============================================================================|\n",
      "|  No running processes found                                                 |\n",
      "+-----------------------------------------------------------------------------+\n"
     ]
    }
   ],
   "source": [
    "!nvidia-smi "
   ]
  },
  {
   "cell_type": "markdown",
   "metadata": {
    "id": "DBZIJLrJZ1IQ"
   },
   "source": [
    "## 1. Setting up our Dataset and exploring the data\n",
    "#### Setup data directory\n",
    "\n",
    "We'll create a temporary directory for all the MONAI data we're going to be using called temp directory in `~/monai-lab/temp`. "
   ]
  },
  {
   "cell_type": "code",
   "execution_count": 3,
   "metadata": {
    "colab": {
     "base_uri": "https://localhost:8080/"
    },
    "id": "qOX-pVqQVo01",
    "outputId": "cc1d2154-c38c-459b-92c9-4b9263447b90"
   },
   "outputs": [
    {
     "name": "stdout",
     "output_type": "stream",
     "text": [
      "temp\n"
     ]
    }
   ],
   "source": [
    "import os \n",
    "directory = \"temp\"\n",
    "if not os.path.exists(directory):\n",
    "    os.makedirs(directory)\n",
    "root_dir = tempfile.mkdtemp() if directory is None else directory\n",
    "print(root_dir)"
   ]
  },
  {
   "cell_type": "markdown",
   "metadata": {
    "id": "MQQ26Fv9Z-xK"
   },
   "source": [
    "Download the MedNIST dataset\n",
    "The MedNIST dataset was gathered from several sets from [TCIA](https://wiki.cancerimagingarchive.net/display/Public/Data+Usage+Policies+and+Restrictions), [the RSNA Bone Age Challenge](http://rsnachallenges.cloudapp.net/competitions/4), and the [NIH Chest X-ray dataset](https://cloud.google.com/healthcare/docs/resources/public-datasets/nih-chest).\n",
    "\n",
    "The dataset is kindly made available by [Dr. Bradley J. Erickson M.D., Ph.D.](https://www.mayo.edu/research/labs/radiology-informatics/overview) (Department of Radiology, Mayo Clinic) under the Creative Commons CC BY-SA 4.0 license. If you use the MedNIST dataset, please acknowledge the source.\n",
    "\n",
    "We're going to download this dataset below and extract it into our temporary MONAI Data Directory.\n",
    "It will take about 1 minute"
   ]
  },
  {
   "cell_type": "code",
   "execution_count": 4,
   "metadata": {
    "colab": {
     "base_uri": "https://localhost:8080/"
    },
    "id": "6_yH3E2_VvX7",
    "outputId": "04200657-6aea-4747-ad99-efe377a0dce3"
   },
   "outputs": [
    {
     "name": "stdout",
     "output_type": "stream",
     "text": [
      "CPU times: user 0 ns, sys: 2.5 ms, total: 2.5 ms\n",
      "Wall time: 1.56 ms\n"
     ]
    }
   ],
   "source": [
    "%%time\n",
    "\n",
    "resource = \"https://www.dropbox.com/s/5wwskxctvcxiuea/MedNIST.tar.gz?dl=1\"\n",
    "md5 = \"0bc7306e7427e00ad1c5526a6677552d\"\n",
    "\n",
    "compressed_file = os.path.join(root_dir, \"MedNIST.tar.gz\")\n",
    "data_dir = os.path.join(root_dir, \"MedNIST\")\n",
    "if not os.path.exists(data_dir):\n",
    "    download_and_extract(resource, compressed_file, root_dir, md5)"
   ]
  },
  {
   "cell_type": "markdown",
   "metadata": {
    "id": "ccI6haMfaYSF"
   },
   "source": [
    "### Set deterministic training for reproducibility\n",
    "\n",
    "[`set_determinism`](https://docs.monai.io/en/latest/utils.html?highlight=set_determinism#monai.utils.misc.set_determinism) will set the random seeds in both Numpy and PyTorch to ensure reproducibility. We'll see later that we need to go a little bit further to ensure reproducibility in a jupyter notebook"
   ]
  },
  {
   "cell_type": "code",
   "execution_count": 5,
   "metadata": {
    "id": "EwYpFBImV1hJ"
   },
   "outputs": [],
   "source": [
    "set_determinism(seed=0)"
   ]
  },
  {
   "cell_type": "markdown",
   "metadata": {
    "id": "6uKHIr0Jaj2s"
   },
   "source": [
    "#### Read the image filenames from the dataset folders\n",
    "\n",
    "When using a dataset, you want to understand the basics of the images, labels, and more. We'll start off by showing some of those basic statistics for MedNIST.\n",
    "\n",
    "We'll see that 6 different folders are representing 6 different categories: Hand, AbdomenCT, CXR, ChestCT, BreastMRI, HeadCT. We'll be using each of these categories as our label names."
   ]
  },
  {
   "cell_type": "code",
   "execution_count": 6,
   "metadata": {
    "colab": {
     "base_uri": "https://localhost:8080/"
    },
    "id": "L4T6KV7lV1ng",
    "outputId": "933bcb83-46c1-472d-b5db-c0e786b816c3"
   },
   "outputs": [
    {
     "name": "stdout",
     "output_type": "stream",
     "text": [
      "Total image count: 58955\n",
      "Image dimensions: 64 x 64\n",
      "Label names: ['AbdomenCT', 'BreastMRI', 'CXR', 'ChestCT', 'Hand', 'HeadCT']\n",
      "number of Labels: 6\n",
      "Label counts: [10000, 8954, 10000, 10000, 10000, 10001]\n"
     ]
    }
   ],
   "source": [
    "class_names = sorted(x for x in os.listdir(data_dir) if os.path.isdir(os.path.join(data_dir, x)))\n",
    "num_class = len(class_names)\n",
    "\n",
    "image_files = [\n",
    "    [\n",
    "        os.path.join(data_dir, class_names[i], x)\n",
    "        for x in os.listdir(os.path.join(data_dir, class_names[i]))\n",
    "    ]\n",
    "    for i in range(num_class)\n",
    "]\n",
    "\n",
    "num_each = [len(image_files[i]) for i in range(num_class)]\n",
    "image_files_list = []\n",
    "image_class = []\n",
    "\n",
    "for i in range(num_class):\n",
    "    image_files_list.extend(image_files[i])\n",
    "    image_class.extend([i] * num_each[i])\n",
    "    \n",
    "num_total = len(image_class)\n",
    "image_width, image_height = PIL.Image.open(image_files_list[0]).size\n",
    "\n",
    "print(f\"Total image count: {num_total}\")\n",
    "print(f\"Image dimensions: {image_width} x {image_height}\")\n",
    "print(f\"Label names: {class_names}\")\n",
    "print(f\"number of Labels: {num_class}\")\n",
    "print(f\"Label counts: {num_each}\")"
   ]
  },
  {
   "cell_type": "markdown",
   "metadata": {
    "id": "Yx-WedqRWDbt"
   },
   "source": [
    "# 2. Preparing datasets and transforms\n",
    "### Prepare training, validation, and test data lists\n",
    "\n",
    "We want to split the data into 3 different sets, one for training, one for validation, and one for testing. We'll use a ratio of 80/10/10 for those sets."
   ]
  },
  {
   "cell_type": "code",
   "execution_count": 7,
   "metadata": {
    "colab": {
     "base_uri": "https://localhost:8080/"
    },
    "id": "vppWmX-BV1uN",
    "outputId": "74075068-0c62-4b37-8371-3cd0b9d0fa27"
   },
   "outputs": [
    {
     "name": "stdout",
     "output_type": "stream",
     "text": [
      "Training count: 46947, Validation count: 6022, Test count: 5986\n"
     ]
    }
   ],
   "source": [
    "val_frac = 0.1\n",
    "test_frac = 0.1\n",
    "train_x = list()\n",
    "train_y = list()\n",
    "val_x = list()\n",
    "val_y = list()\n",
    "test_x = list()\n",
    "test_y = list()\n",
    "\n",
    "for i in range(num_total):\n",
    "    rann = np.random.random()\n",
    "    if rann < val_frac:\n",
    "        val_x.append(image_files_list[i])\n",
    "        val_y.append(image_class[i])\n",
    "    elif rann < test_frac + val_frac:\n",
    "        test_x.append(image_files_list[i])\n",
    "        test_y.append(image_class[i])\n",
    "    else:\n",
    "        train_x.append(image_files_list[i])\n",
    "        train_y.append(image_class[i])\n",
    "\n",
    "print(f\"Training count: {len(train_x)}, Validation count: {len(val_x)}, Test count: {len(test_x)}\")"
   ]
  },
  {
   "cell_type": "markdown",
   "metadata": {
    "id": "CQKPHOjgWHoW"
   },
   "source": [
    "### Define MONAI transforms, Dataset and Dataloader to pre-process data\n",
    "\n",
    "We'll define our transform using `Compose`. In this Array of Transforms, we'll load the image, add a channel, scale its intensity, utilize a few random functions and finally create a tensor."
   ]
  },
  {
   "cell_type": "code",
   "execution_count": 8,
   "metadata": {
    "colab": {
     "base_uri": "https://localhost:8080/"
    },
    "id": "DaRvhLd-WTmF",
    "outputId": "619dac29-2ec4-4bb3-bf52-9bf49780c17e"
   },
   "outputs": [],
   "source": [
    "train_transforms = Compose(\n",
    "    [\n",
    "        LoadImage(image_only=True),\n",
    "        AddChannel(),\n",
    "        ScaleIntensity(),\n",
    "        RandRotate(range_x=15, prob=0.5, keep_size=True),\n",
    "        RandFlip(spatial_axis=0, prob=0.5),\n",
    "        RandZoom(min_zoom=0.9, max_zoom=1.1, prob=0.5),\n",
    "        ToTensor(),\n",
    "    ]\n",
    ")\n",
    "\n",
    "val_transforms = Compose([LoadImage(image_only=True), AddChannel(), ScaleIntensity(), ToTensor()])\n",
    "\n",
    "act = Compose([EnsureType(), Activations(softmax=True)])\n",
    "to_onehot = Compose([EnsureType(), AsDiscrete(to_onehot=num_class, n_classes=num_class)])"
   ]
  },
  {
   "cell_type": "markdown",
   "metadata": {
    "id": "7DeElxN0WcKt"
   },
   "source": [
    "### Initialise the datasets and loaders for training, validation and test sets\n",
    "- Define a simple dataset, that we'll call `MedNISTDataset`, that  groups:\n",
    "\n",
    " - Images\n",
    " - Labels\n",
    " - The transforms that are to be run on the images and labels\n",
    "- Create three instances of this dataset:\n",
    "  - One for training\n",
    "  - One for validation\n",
    "  - One for testing\n",
    "\n",
    "We'll use a batch size of 512 and employ 10 workers to load the data."
   ]
  },
  {
   "cell_type": "code",
   "execution_count": 9,
   "metadata": {
    "colab": {
     "base_uri": "https://localhost:8080/"
    },
    "id": "fag4Yd2CWTum",
    "outputId": "af0aca02-0916-4909-9da7-8a14f57c1a20"
   },
   "outputs": [],
   "source": [
    "batch_size = 64\n",
    "num_workers = 0\n",
    "\n",
    "class MedNISTDataset(torch.utils.data.Dataset):\n",
    "    def __init__(self, image_files, labels, transforms):\n",
    "        self.image_files = image_files\n",
    "        self.labels = labels\n",
    "        self.transforms = transforms\n",
    "\n",
    "    def __len__(self):\n",
    "        return len(self.image_files)\n",
    "\n",
    "    def __getitem__(self, index):\n",
    "        return self.transforms(self.image_files[index]), self.labels[index]\n",
    "\n",
    "\n",
    "train_ds = MedNISTDataset(train_x, train_y, train_transforms)\n",
    "train_loader = torch.utils.data.DataLoader(train_ds, batch_size=batch_size, shuffle=True, num_workers=num_workers)\n",
    "\n",
    "val_ds = MedNISTDataset(val_x, val_y, val_transforms)\n",
    "val_loader = torch.utils.data.DataLoader(val_ds, batch_size=batch_size, num_workers=num_workers)\n",
    "\n",
    "test_ds = MedNISTDataset(test_x, test_y, val_transforms)\n",
    "test_loader = torch.utils.data.DataLoader(test_ds, batch_size=batch_size, num_workers=num_workers)"
   ]
  },
  {
   "cell_type": "markdown",
   "metadata": {
    "id": "Df90U_QrW0i6"
   },
   "source": [
    "3. Define your network and create our PyTorch training loop\n",
    "Define network and optimizer\n",
    "Set learning_rate for how much the model is updated per step\n",
    "The fetch a pytorch device for the GPU\n",
    "Instantiate a `densenet121` model instance and 'send' it to the GPU using device\n",
    "This is a standard MONAI implementation; it is capable of 2D and 3D operation but here we are using it in 2D mode\n",
    "We'll make use of the Adam optimizer"
   ]
  },
  {
   "cell_type": "code",
   "execution_count": 13,
   "metadata": {
    "id": "B0Fxk7CNWTxg"
   },
   "outputs": [],
   "source": [
    "# Configure \n",
    "learning_rate = 1e-4\n",
    "device = torch.device(\"cuda:0\" if torch.cuda.is_available() else \"cpu\")\n",
    "net = DenseNet121(spatial_dims=2, in_channels=1, out_channels=num_class).to(device)\n",
    "loss_function = torch.nn.CrossEntropyLoss()\n",
    "optimizer = torch.optim.Adam(net.parameters(), learning_rate)"
   ]
  },
  {
   "cell_type": "markdown",
   "metadata": {
    "id": "KyIfXHW9W3rW"
   },
   "source": [
    "\n",
    "## Let's make some changes\n",
    "\n",
    "Everything that we have done so far uses MONAI with pytorch in a very vanilla fashion. The initial training / validation loop is written to show you the nuts and bolts of pytorch. Now let's explore starting the move towards Ignite and features of MONAI designed to work with it.\n",
    "\n",
    "### pytorch version \n",
    "Network training\n",
    "We are hand-rolling a basic pytorch training loop here:\n",
    "\n",
    "standard pytorch training loop\n",
    "step through each training epoch, running through the training set in batches\n",
    "after each epoch, run a validation pass, evaluating the network\n",
    "if it shows improved performance, save out the model weights\n",
    "\n",
    "### Ignite version \n",
    "training loops in a more Ignite \n",
    "\n",
    "<img src=\"https://github.com/Project-MONAI/MONAIBootcamp2021/raw/2f28b64f814a03703667c8ea18cc84f53d6795e4/day1/workflows.png\" width=600>\n",
    "\n",
    "\n"
   ]
  },
  {
   "cell_type": "code",
   "execution_count": 14,
   "metadata": {},
   "outputs": [],
   "source": [
    "# Configure \n",
    "learning_rate = 1e-4\n",
    "device = torch.device(\"cuda:0\" if torch.cuda.is_available() else \"cpu\")\n",
    "net = DenseNet121(spatial_dims=2, in_channels=1, out_channels=num_class).to(device)\n",
    "loss_function = torch.nn.CrossEntropyLoss()\n",
    "optimizer = torch.optim.Adam(net.parameters(), learning_rate)"
   ]
  },
  {
   "cell_type": "markdown",
   "metadata": {},
   "source": [
    "#### import ignite module"
   ]
  },
  {
   "cell_type": "code",
   "execution_count": 15,
   "metadata": {
    "id": "YATPDScKX8A4"
   },
   "outputs": [],
   "source": [
    "\n",
    "from ignite.engine import Events, create_supervised_evaluator, create_supervised_trainer\n",
    "from ignite.handlers import ModelCheckpoint\n",
    "from ignite.metrics import Accuracy\n",
    "from monai.handlers import ROCAUC\n"
   ]
  },
  {
   "cell_type": "markdown",
   "metadata": {},
   "source": [
    "#### configure ignite supervised traner"
   ]
  },
  {
   "cell_type": "code",
   "execution_count": 16,
   "metadata": {},
   "outputs": [],
   "source": [
    "\n",
    "step = 1\n",
    "iter_losses=[]\n",
    "batch_sizes=[]\n",
    "epoch_loss_values = []\n",
    "metric_values = []\n",
    "\n",
    "\n",
    "# Training\n",
    "\n",
    "# this trainer takes care of the training loop for us\n",
    "trainer = create_supervised_trainer(net, optimizer, loss_function, device, False)\n",
    "\n",
    "# calculate the number of steps per epoch up front\n",
    "steps_per_epoch = len(train_ds) // train_loader.batch_size\n",
    "if len(train_ds) % train_loader.batch_size != 0:\n",
    "    steps_per_epoch += 1\n",
    "\n"
   ]
  },
  {
   "cell_type": "markdown",
   "metadata": {},
   "source": [
    "#### configure training iteration"
   ]
  },
  {
   "cell_type": "code",
   "execution_count": 17,
   "metadata": {},
   "outputs": [],
   "source": [
    "# create a handler for recording the loss after each input. Improve upon our earlier example\n",
    "# by also recording the batch size, so we can perform a weighted average for the overall average\n",
    "# loss\n",
    "@trainer.on(Events.ITERATION_COMPLETED)\n",
    "def _end_iter(engine):\n",
    "    global step\n",
    "    loss = engine.state.output\n",
    "    batch_len = len(engine.state.batch[0])\n",
    "    epoch = engine.state.epoch\n",
    "    epoch_len = engine.state.max_epochs\n",
    "    iter_losses.append(loss)\n",
    "    batch_sizes.append(batch_len)\n",
    "    print(f'epoch {epoch}/{epoch_len}, step {step}/{steps_per_epoch}, training_loss = {loss:.4f}')    \n",
    "    step += 1\n",
    " "
   ]
  },
  {
   "cell_type": "markdown",
   "metadata": {},
   "source": [
    "#### configure validation iteration ( every epoch)"
   ]
  },
  {
   "cell_type": "code",
   "execution_count": 18,
   "metadata": {},
   "outputs": [],
   "source": [
    "   \n",
    "# Validation\n",
    "\n",
    "def roc_auc_trans(x):\n",
    "    return [act(i) for i in decollate_batch(x[0])], [to_onehot(i) for i in decollate_batch(x[1])]\n",
    "\n",
    "val_metrics = {\n",
    "    'accuracy': Accuracy(), \n",
    "    'rocauc': ROCAUC(output_transform=roc_auc_trans)\n",
    "}\n",
    "evaluator = create_supervised_evaluator(\n",
    "    net,\n",
    "    val_metrics,\n",
    "    device,\n",
    "    True\n",
    ")\n",
    "\n",
    "\n",
    "# validation is run every n training epochs in response to the trainer completing\n",
    "# an epoch. Here we use the decorator syntax to add a function that runs it to the\n",
    "# EPOCH_COMPLETED event\n",
    "@trainer.on(Events.EPOCH_COMPLETED)\n",
    "def run_validation(engine):\n",
    "    global step\n",
    "    evaluator.run(val_loader)\n",
    "\n",
    "    # the overall average loss must be weighted by batch size\n",
    "    overall_average_loss = np.average(iter_losses, weights=batch_sizes)\n",
    "    epoch_loss_values.append(overall_average_loss)\n",
    "\n",
    "    # clear the contents of iter_losses and batch_sizes for the next epoch\n",
    "    del iter_losses[:]\n",
    "    del batch_sizes[:]\n",
    "    \n",
    "    # fetch and report the validation metrics\n",
    "    acc = evaluator.state.metrics['accuracy']\n",
    "    roc = evaluator.state.metrics['rocauc']\n",
    "    metric_values.append(roc)\n",
    "    print(f\"evaluation for epoch {engine.state.epoch}, accuracy = {acc:.4f}, rocauc = {roc:.4f}\")\n",
    "\n",
    "    # reset step for the next epoch\n",
    "    step = 1\n",
    "    \n",
    "# create a checkpoint handler to save the network weights based on the area under the ROC curve\n",
    "# as before\n",
    "def _score(_):\n",
    "    return metric_values[-1]"
   ]
  },
  {
   "cell_type": "markdown",
   "metadata": {},
   "source": [
    "#### define ignite handler"
   ]
  },
  {
   "cell_type": "code",
   "execution_count": 19,
   "metadata": {
    "colab": {
     "base_uri": "https://localhost:8080/"
    },
    "id": "x8Z87xNvYMqy",
    "outputId": "1dec9ca5-c3a3-483c-d9b4-0fefcb1dc5b8"
   },
   "outputs": [
    {
     "data": {
      "text/plain": [
       "<ignite.engine.events.RemovableEventHandle at 0x7f8ef07f18b0>"
      ]
     },
     "execution_count": 19,
     "metadata": {},
     "output_type": "execute_result"
    }
   ],
   "source": [
    "# create a model checkpointer to save the network\n",
    "checkpoint_handler = ModelCheckpoint(root_dir, filename_prefix='mednist_model_best', score_name='',\n",
    "                                     n_saved=1, require_empty=False, score_function=_score)\n",
    "\n",
    "# handlers are attached to events in trainers and evaluators\n",
    "trainer.add_event_handler(event_name=Events.EPOCH_COMPLETED,\n",
    "                          handler=checkpoint_handler, to_save={'net': net})\n"
   ]
  },
  {
   "cell_type": "markdown",
   "metadata": {},
   "source": [
    " #### launch to train with ignite handler"
   ]
  },
  {
   "cell_type": "code",
   "execution_count": 20,
   "metadata": {
    "scrolled": true
   },
   "outputs": [
    {
     "name": "stdout",
     "output_type": "stream",
     "text": [
      "epoch 1/1, step 1/734, training_loss = 1.7806\n",
      "epoch 1/1, step 2/734, training_loss = 1.6134\n",
      "epoch 1/1, step 3/734, training_loss = 1.4821\n",
      "epoch 1/1, step 4/734, training_loss = 1.3676\n",
      "epoch 1/1, step 5/734, training_loss = 1.2636\n",
      "epoch 1/1, step 6/734, training_loss = 1.2496\n",
      "epoch 1/1, step 7/734, training_loss = 1.1509\n",
      "epoch 1/1, step 8/734, training_loss = 0.9545\n",
      "epoch 1/1, step 9/734, training_loss = 0.9485\n",
      "epoch 1/1, step 10/734, training_loss = 0.9050\n",
      "epoch 1/1, step 11/734, training_loss = 0.8055\n",
      "epoch 1/1, step 12/734, training_loss = 0.7824\n",
      "epoch 1/1, step 13/734, training_loss = 0.7355\n",
      "epoch 1/1, step 14/734, training_loss = 0.6245\n",
      "epoch 1/1, step 15/734, training_loss = 0.5918\n",
      "epoch 1/1, step 16/734, training_loss = 0.6569\n",
      "epoch 1/1, step 17/734, training_loss = 0.6005\n",
      "epoch 1/1, step 18/734, training_loss = 0.5425\n",
      "epoch 1/1, step 19/734, training_loss = 0.5255\n",
      "epoch 1/1, step 20/734, training_loss = 0.4265\n",
      "epoch 1/1, step 21/734, training_loss = 0.4125\n",
      "epoch 1/1, step 22/734, training_loss = 0.4951\n",
      "epoch 1/1, step 23/734, training_loss = 0.3990\n",
      "epoch 1/1, step 24/734, training_loss = 0.4176\n",
      "epoch 1/1, step 25/734, training_loss = 0.3500\n",
      "epoch 1/1, step 26/734, training_loss = 0.3288\n",
      "epoch 1/1, step 27/734, training_loss = 0.3160\n",
      "epoch 1/1, step 28/734, training_loss = 0.3663\n",
      "epoch 1/1, step 29/734, training_loss = 0.2555\n",
      "epoch 1/1, step 30/734, training_loss = 0.2957\n",
      "epoch 1/1, step 31/734, training_loss = 0.3564\n",
      "epoch 1/1, step 32/734, training_loss = 0.1810\n",
      "epoch 1/1, step 33/734, training_loss = 0.2027\n",
      "epoch 1/1, step 34/734, training_loss = 0.2412\n",
      "epoch 1/1, step 35/734, training_loss = 0.2362\n",
      "epoch 1/1, step 36/734, training_loss = 0.2702\n",
      "epoch 1/1, step 37/734, training_loss = 0.1983\n",
      "epoch 1/1, step 38/734, training_loss = 0.1583\n",
      "epoch 1/1, step 39/734, training_loss = 0.2260\n",
      "epoch 1/1, step 40/734, training_loss = 0.3768\n",
      "epoch 1/1, step 41/734, training_loss = 0.2177\n",
      "epoch 1/1, step 42/734, training_loss = 0.3103\n",
      "epoch 1/1, step 43/734, training_loss = 0.1302\n",
      "epoch 1/1, step 44/734, training_loss = 0.1800\n",
      "epoch 1/1, step 45/734, training_loss = 0.2258\n",
      "epoch 1/1, step 46/734, training_loss = 0.1371\n",
      "epoch 1/1, step 47/734, training_loss = 0.1395\n",
      "epoch 1/1, step 48/734, training_loss = 0.1578\n",
      "epoch 1/1, step 49/734, training_loss = 0.1223\n",
      "epoch 1/1, step 50/734, training_loss = 0.2462\n",
      "epoch 1/1, step 51/734, training_loss = 0.1720\n",
      "epoch 1/1, step 52/734, training_loss = 0.0790\n",
      "epoch 1/1, step 53/734, training_loss = 0.1311\n",
      "epoch 1/1, step 54/734, training_loss = 0.1742\n",
      "epoch 1/1, step 55/734, training_loss = 0.1320\n",
      "epoch 1/1, step 56/734, training_loss = 0.2136\n",
      "epoch 1/1, step 57/734, training_loss = 0.1399\n",
      "epoch 1/1, step 58/734, training_loss = 0.2264\n",
      "epoch 1/1, step 59/734, training_loss = 0.1308\n",
      "epoch 1/1, step 60/734, training_loss = 0.1367\n",
      "epoch 1/1, step 61/734, training_loss = 0.1767\n",
      "epoch 1/1, step 62/734, training_loss = 0.0803\n",
      "epoch 1/1, step 63/734, training_loss = 0.1055\n",
      "epoch 1/1, step 64/734, training_loss = 0.1959\n",
      "epoch 1/1, step 65/734, training_loss = 0.1138\n",
      "epoch 1/1, step 66/734, training_loss = 0.0988\n",
      "epoch 1/1, step 67/734, training_loss = 0.2016\n",
      "epoch 1/1, step 68/734, training_loss = 0.1843\n",
      "epoch 1/1, step 69/734, training_loss = 0.1435\n",
      "epoch 1/1, step 70/734, training_loss = 0.0908\n",
      "epoch 1/1, step 71/734, training_loss = 0.0791\n",
      "epoch 1/1, step 72/734, training_loss = 0.1669\n",
      "epoch 1/1, step 73/734, training_loss = 0.0899\n",
      "epoch 1/1, step 74/734, training_loss = 0.0877\n",
      "epoch 1/1, step 75/734, training_loss = 0.0801\n",
      "epoch 1/1, step 76/734, training_loss = 0.0928\n",
      "epoch 1/1, step 77/734, training_loss = 0.1577\n",
      "epoch 1/1, step 78/734, training_loss = 0.0604\n",
      "epoch 1/1, step 79/734, training_loss = 0.0654\n",
      "epoch 1/1, step 80/734, training_loss = 0.0500\n",
      "epoch 1/1, step 81/734, training_loss = 0.0754\n",
      "epoch 1/1, step 82/734, training_loss = 0.0644\n",
      "epoch 1/1, step 83/734, training_loss = 0.0541\n",
      "epoch 1/1, step 84/734, training_loss = 0.1630\n",
      "epoch 1/1, step 85/734, training_loss = 0.0603\n",
      "epoch 1/1, step 86/734, training_loss = 0.0443\n",
      "epoch 1/1, step 87/734, training_loss = 0.1723\n",
      "epoch 1/1, step 88/734, training_loss = 0.0321\n",
      "epoch 1/1, step 89/734, training_loss = 0.0615\n",
      "epoch 1/1, step 90/734, training_loss = 0.1651\n",
      "epoch 1/1, step 91/734, training_loss = 0.0383\n",
      "epoch 1/1, step 92/734, training_loss = 0.0482\n",
      "epoch 1/1, step 93/734, training_loss = 0.1764\n",
      "epoch 1/1, step 94/734, training_loss = 0.1104\n",
      "epoch 1/1, step 95/734, training_loss = 0.0562\n",
      "epoch 1/1, step 96/734, training_loss = 0.2271\n",
      "epoch 1/1, step 97/734, training_loss = 0.1173\n",
      "epoch 1/1, step 98/734, training_loss = 0.0379\n",
      "epoch 1/1, step 99/734, training_loss = 0.0779\n",
      "epoch 1/1, step 100/734, training_loss = 0.0224\n",
      "epoch 1/1, step 101/734, training_loss = 0.0361\n",
      "epoch 1/1, step 102/734, training_loss = 0.0620\n",
      "epoch 1/1, step 103/734, training_loss = 0.1209\n",
      "epoch 1/1, step 104/734, training_loss = 0.0927\n",
      "epoch 1/1, step 105/734, training_loss = 0.0791\n",
      "epoch 1/1, step 106/734, training_loss = 0.2119\n",
      "epoch 1/1, step 107/734, training_loss = 0.0477\n",
      "epoch 1/1, step 108/734, training_loss = 0.0342\n",
      "epoch 1/1, step 109/734, training_loss = 0.1726\n",
      "epoch 1/1, step 110/734, training_loss = 0.0979\n",
      "epoch 1/1, step 111/734, training_loss = 0.0459\n",
      "epoch 1/1, step 112/734, training_loss = 0.1079\n",
      "epoch 1/1, step 113/734, training_loss = 0.0322\n",
      "epoch 1/1, step 114/734, training_loss = 0.0497\n",
      "epoch 1/1, step 115/734, training_loss = 0.0917\n",
      "epoch 1/1, step 116/734, training_loss = 0.0567\n",
      "epoch 1/1, step 117/734, training_loss = 0.0999\n",
      "epoch 1/1, step 118/734, training_loss = 0.0432\n",
      "epoch 1/1, step 119/734, training_loss = 0.1026\n",
      "epoch 1/1, step 120/734, training_loss = 0.0771\n",
      "epoch 1/1, step 121/734, training_loss = 0.0437\n",
      "epoch 1/1, step 122/734, training_loss = 0.0375\n",
      "epoch 1/1, step 123/734, training_loss = 0.0741\n",
      "epoch 1/1, step 124/734, training_loss = 0.0972\n",
      "epoch 1/1, step 125/734, training_loss = 0.0998\n",
      "epoch 1/1, step 126/734, training_loss = 0.1265\n",
      "epoch 1/1, step 127/734, training_loss = 0.1741\n",
      "epoch 1/1, step 128/734, training_loss = 0.0725\n",
      "epoch 1/1, step 129/734, training_loss = 0.1032\n",
      "epoch 1/1, step 130/734, training_loss = 0.0918\n",
      "epoch 1/1, step 131/734, training_loss = 0.0302\n",
      "epoch 1/1, step 132/734, training_loss = 0.0267\n",
      "epoch 1/1, step 133/734, training_loss = 0.1261\n",
      "epoch 1/1, step 134/734, training_loss = 0.0660\n",
      "epoch 1/1, step 135/734, training_loss = 0.0926\n",
      "epoch 1/1, step 136/734, training_loss = 0.0433\n",
      "epoch 1/1, step 137/734, training_loss = 0.1057\n",
      "epoch 1/1, step 138/734, training_loss = 0.0313\n",
      "epoch 1/1, step 139/734, training_loss = 0.0864\n",
      "epoch 1/1, step 140/734, training_loss = 0.0868\n",
      "epoch 1/1, step 141/734, training_loss = 0.0458\n",
      "epoch 1/1, step 142/734, training_loss = 0.0571\n",
      "epoch 1/1, step 143/734, training_loss = 0.1039\n",
      "epoch 1/1, step 144/734, training_loss = 0.0198\n",
      "epoch 1/1, step 145/734, training_loss = 0.0508\n",
      "epoch 1/1, step 146/734, training_loss = 0.0867\n",
      "epoch 1/1, step 147/734, training_loss = 0.0271\n",
      "epoch 1/1, step 148/734, training_loss = 0.0818\n",
      "epoch 1/1, step 149/734, training_loss = 0.0354\n",
      "epoch 1/1, step 150/734, training_loss = 0.0456\n",
      "epoch 1/1, step 151/734, training_loss = 0.0466\n",
      "epoch 1/1, step 152/734, training_loss = 0.0760\n",
      "epoch 1/1, step 153/734, training_loss = 0.0943\n",
      "epoch 1/1, step 154/734, training_loss = 0.1170\n",
      "epoch 1/1, step 155/734, training_loss = 0.0339\n",
      "epoch 1/1, step 156/734, training_loss = 0.0934\n",
      "epoch 1/1, step 157/734, training_loss = 0.0402\n",
      "epoch 1/1, step 158/734, training_loss = 0.0335\n",
      "epoch 1/1, step 159/734, training_loss = 0.0346\n",
      "epoch 1/1, step 160/734, training_loss = 0.0842\n",
      "epoch 1/1, step 161/734, training_loss = 0.0570\n",
      "epoch 1/1, step 162/734, training_loss = 0.0632\n",
      "epoch 1/1, step 163/734, training_loss = 0.0192\n",
      "epoch 1/1, step 164/734, training_loss = 0.0282\n",
      "epoch 1/1, step 165/734, training_loss = 0.0320\n",
      "epoch 1/1, step 166/734, training_loss = 0.0174\n",
      "epoch 1/1, step 167/734, training_loss = 0.0735\n",
      "epoch 1/1, step 168/734, training_loss = 0.0698\n",
      "epoch 1/1, step 169/734, training_loss = 0.0719\n",
      "epoch 1/1, step 170/734, training_loss = 0.0230\n",
      "epoch 1/1, step 171/734, training_loss = 0.0404\n",
      "epoch 1/1, step 172/734, training_loss = 0.0958\n",
      "epoch 1/1, step 173/734, training_loss = 0.0405\n",
      "epoch 1/1, step 174/734, training_loss = 0.2242\n",
      "epoch 1/1, step 175/734, training_loss = 0.0735\n",
      "epoch 1/1, step 176/734, training_loss = 0.1723\n",
      "epoch 1/1, step 177/734, training_loss = 0.0118\n",
      "epoch 1/1, step 178/734, training_loss = 0.0773\n",
      "epoch 1/1, step 179/734, training_loss = 0.1278\n",
      "epoch 1/1, step 180/734, training_loss = 0.0572\n",
      "epoch 1/1, step 181/734, training_loss = 0.0741\n",
      "epoch 1/1, step 182/734, training_loss = 0.0855\n",
      "epoch 1/1, step 183/734, training_loss = 0.0281\n",
      "epoch 1/1, step 184/734, training_loss = 0.0890\n",
      "epoch 1/1, step 185/734, training_loss = 0.1211\n",
      "epoch 1/1, step 186/734, training_loss = 0.0933\n",
      "epoch 1/1, step 187/734, training_loss = 0.0930\n",
      "epoch 1/1, step 188/734, training_loss = 0.0575\n",
      "epoch 1/1, step 189/734, training_loss = 0.0180\n",
      "epoch 1/1, step 190/734, training_loss = 0.1211\n",
      "epoch 1/1, step 191/734, training_loss = 0.0439\n",
      "epoch 1/1, step 192/734, training_loss = 0.0851\n",
      "epoch 1/1, step 193/734, training_loss = 0.0328\n",
      "epoch 1/1, step 194/734, training_loss = 0.0227\n",
      "epoch 1/1, step 195/734, training_loss = 0.0263\n",
      "epoch 1/1, step 196/734, training_loss = 0.0388\n",
      "epoch 1/1, step 197/734, training_loss = 0.0587\n",
      "epoch 1/1, step 198/734, training_loss = 0.0117\n",
      "epoch 1/1, step 199/734, training_loss = 0.0789\n",
      "epoch 1/1, step 200/734, training_loss = 0.0271\n",
      "epoch 1/1, step 201/734, training_loss = 0.0612\n",
      "epoch 1/1, step 202/734, training_loss = 0.0785\n",
      "epoch 1/1, step 203/734, training_loss = 0.0526\n",
      "epoch 1/1, step 204/734, training_loss = 0.0638\n",
      "epoch 1/1, step 205/734, training_loss = 0.0525\n",
      "epoch 1/1, step 206/734, training_loss = 0.0374\n",
      "epoch 1/1, step 207/734, training_loss = 0.0168\n",
      "epoch 1/1, step 208/734, training_loss = 0.0231\n",
      "epoch 1/1, step 209/734, training_loss = 0.0443\n",
      "epoch 1/1, step 210/734, training_loss = 0.0617\n",
      "epoch 1/1, step 211/734, training_loss = 0.0539\n",
      "epoch 1/1, step 212/734, training_loss = 0.0226\n",
      "epoch 1/1, step 213/734, training_loss = 0.2219\n",
      "epoch 1/1, step 214/734, training_loss = 0.0165\n",
      "epoch 1/1, step 215/734, training_loss = 0.0138\n",
      "epoch 1/1, step 216/734, training_loss = 0.0693\n",
      "epoch 1/1, step 217/734, training_loss = 0.0613\n",
      "epoch 1/1, step 218/734, training_loss = 0.0270\n",
      "epoch 1/1, step 219/734, training_loss = 0.0962\n",
      "epoch 1/1, step 220/734, training_loss = 0.0361\n",
      "epoch 1/1, step 221/734, training_loss = 0.1064\n",
      "epoch 1/1, step 222/734, training_loss = 0.0288\n",
      "epoch 1/1, step 223/734, training_loss = 0.0950\n",
      "epoch 1/1, step 224/734, training_loss = 0.0227\n",
      "epoch 1/1, step 225/734, training_loss = 0.0329\n",
      "epoch 1/1, step 226/734, training_loss = 0.0978\n",
      "epoch 1/1, step 227/734, training_loss = 0.0407\n",
      "epoch 1/1, step 228/734, training_loss = 0.0292\n",
      "epoch 1/1, step 229/734, training_loss = 0.0212\n",
      "epoch 1/1, step 230/734, training_loss = 0.0301\n",
      "epoch 1/1, step 231/734, training_loss = 0.0316\n",
      "epoch 1/1, step 232/734, training_loss = 0.0987\n",
      "epoch 1/1, step 233/734, training_loss = 0.0742\n",
      "epoch 1/1, step 234/734, training_loss = 0.0102\n",
      "epoch 1/1, step 235/734, training_loss = 0.0218\n",
      "epoch 1/1, step 236/734, training_loss = 0.0123\n",
      "epoch 1/1, step 237/734, training_loss = 0.0716\n",
      "epoch 1/1, step 238/734, training_loss = 0.0570\n",
      "epoch 1/1, step 239/734, training_loss = 0.0755\n",
      "epoch 1/1, step 240/734, training_loss = 0.0953\n",
      "epoch 1/1, step 241/734, training_loss = 0.0700\n",
      "epoch 1/1, step 242/734, training_loss = 0.1093\n",
      "epoch 1/1, step 243/734, training_loss = 0.0697\n",
      "epoch 1/1, step 244/734, training_loss = 0.0223\n",
      "epoch 1/1, step 245/734, training_loss = 0.1392\n",
      "epoch 1/1, step 246/734, training_loss = 0.0645\n",
      "epoch 1/1, step 247/734, training_loss = 0.0593\n",
      "epoch 1/1, step 248/734, training_loss = 0.0348\n",
      "epoch 1/1, step 249/734, training_loss = 0.0140\n",
      "epoch 1/1, step 250/734, training_loss = 0.0434\n",
      "epoch 1/1, step 251/734, training_loss = 0.0681\n",
      "epoch 1/1, step 252/734, training_loss = 0.0121\n",
      "epoch 1/1, step 253/734, training_loss = 0.1183\n",
      "epoch 1/1, step 254/734, training_loss = 0.0766\n",
      "epoch 1/1, step 255/734, training_loss = 0.2221\n",
      "epoch 1/1, step 256/734, training_loss = 0.0311\n",
      "epoch 1/1, step 257/734, training_loss = 0.0446\n",
      "epoch 1/1, step 258/734, training_loss = 0.0326\n",
      "epoch 1/1, step 259/734, training_loss = 0.0454\n",
      "epoch 1/1, step 260/734, training_loss = 0.0136\n",
      "epoch 1/1, step 261/734, training_loss = 0.0891\n",
      "epoch 1/1, step 262/734, training_loss = 0.0149\n",
      "epoch 1/1, step 263/734, training_loss = 0.0230\n",
      "epoch 1/1, step 264/734, training_loss = 0.0663\n",
      "epoch 1/1, step 265/734, training_loss = 0.0226\n",
      "epoch 1/1, step 266/734, training_loss = 0.0153\n",
      "epoch 1/1, step 267/734, training_loss = 0.0266\n",
      "epoch 1/1, step 268/734, training_loss = 0.0358\n",
      "epoch 1/1, step 269/734, training_loss = 0.0441\n",
      "epoch 1/1, step 270/734, training_loss = 0.0684\n",
      "epoch 1/1, step 271/734, training_loss = 0.0114\n",
      "epoch 1/1, step 272/734, training_loss = 0.0155\n",
      "epoch 1/1, step 273/734, training_loss = 0.0698\n",
      "epoch 1/1, step 274/734, training_loss = 0.0244\n",
      "epoch 1/1, step 275/734, training_loss = 0.0235\n",
      "epoch 1/1, step 276/734, training_loss = 0.0331\n",
      "epoch 1/1, step 277/734, training_loss = 0.0121\n",
      "epoch 1/1, step 278/734, training_loss = 0.0083\n",
      "epoch 1/1, step 279/734, training_loss = 0.0329\n",
      "epoch 1/1, step 280/734, training_loss = 0.0120\n",
      "epoch 1/1, step 281/734, training_loss = 0.0335\n",
      "epoch 1/1, step 282/734, training_loss = 0.0492\n",
      "epoch 1/1, step 283/734, training_loss = 0.0087\n",
      "epoch 1/1, step 284/734, training_loss = 0.1027\n",
      "epoch 1/1, step 285/734, training_loss = 0.0146\n",
      "epoch 1/1, step 286/734, training_loss = 0.0268\n",
      "epoch 1/1, step 287/734, training_loss = 0.0513\n",
      "epoch 1/1, step 288/734, training_loss = 0.0347\n",
      "epoch 1/1, step 289/734, training_loss = 0.0192\n",
      "epoch 1/1, step 290/734, training_loss = 0.0330\n",
      "epoch 1/1, step 291/734, training_loss = 0.0624\n",
      "epoch 1/1, step 292/734, training_loss = 0.0117\n",
      "epoch 1/1, step 293/734, training_loss = 0.0048\n",
      "epoch 1/1, step 294/734, training_loss = 0.0217\n",
      "epoch 1/1, step 295/734, training_loss = 0.0124\n",
      "epoch 1/1, step 296/734, training_loss = 0.0253\n",
      "epoch 1/1, step 297/734, training_loss = 0.0047\n",
      "epoch 1/1, step 298/734, training_loss = 0.0075\n",
      "epoch 1/1, step 299/734, training_loss = 0.0138\n",
      "epoch 1/1, step 300/734, training_loss = 0.0161\n",
      "epoch 1/1, step 301/734, training_loss = 0.0114\n",
      "epoch 1/1, step 302/734, training_loss = 0.0271\n",
      "epoch 1/1, step 303/734, training_loss = 0.0275\n",
      "epoch 1/1, step 304/734, training_loss = 0.0235\n",
      "epoch 1/1, step 305/734, training_loss = 0.0307\n",
      "epoch 1/1, step 306/734, training_loss = 0.0603\n",
      "epoch 1/1, step 307/734, training_loss = 0.0099\n",
      "epoch 1/1, step 308/734, training_loss = 0.0087\n",
      "epoch 1/1, step 309/734, training_loss = 0.0324\n",
      "epoch 1/1, step 310/734, training_loss = 0.0071\n",
      "epoch 1/1, step 311/734, training_loss = 0.0311\n",
      "epoch 1/1, step 312/734, training_loss = 0.0103\n",
      "epoch 1/1, step 313/734, training_loss = 0.0768\n",
      "epoch 1/1, step 314/734, training_loss = 0.0141\n",
      "epoch 1/1, step 315/734, training_loss = 0.0184\n",
      "epoch 1/1, step 316/734, training_loss = 0.0481\n",
      "epoch 1/1, step 317/734, training_loss = 0.0171\n",
      "epoch 1/1, step 318/734, training_loss = 0.0237\n",
      "epoch 1/1, step 319/734, training_loss = 0.0375\n",
      "epoch 1/1, step 320/734, training_loss = 0.0387\n",
      "epoch 1/1, step 321/734, training_loss = 0.0074\n",
      "epoch 1/1, step 322/734, training_loss = 0.0081\n",
      "epoch 1/1, step 323/734, training_loss = 0.0279\n",
      "epoch 1/1, step 324/734, training_loss = 0.0222\n",
      "epoch 1/1, step 325/734, training_loss = 0.0130\n",
      "epoch 1/1, step 326/734, training_loss = 0.0099\n",
      "epoch 1/1, step 327/734, training_loss = 0.0169\n",
      "epoch 1/1, step 328/734, training_loss = 0.0209\n",
      "epoch 1/1, step 329/734, training_loss = 0.0578\n",
      "epoch 1/1, step 330/734, training_loss = 0.0122\n",
      "epoch 1/1, step 331/734, training_loss = 0.0146\n",
      "epoch 1/1, step 332/734, training_loss = 0.0058\n",
      "epoch 1/1, step 333/734, training_loss = 0.0201\n",
      "epoch 1/1, step 334/734, training_loss = 0.0108\n",
      "epoch 1/1, step 335/734, training_loss = 0.0077\n",
      "epoch 1/1, step 336/734, training_loss = 0.0122\n",
      "epoch 1/1, step 337/734, training_loss = 0.0085\n",
      "epoch 1/1, step 338/734, training_loss = 0.0558\n",
      "epoch 1/1, step 339/734, training_loss = 0.0475\n",
      "epoch 1/1, step 340/734, training_loss = 0.0067\n",
      "epoch 1/1, step 341/734, training_loss = 0.0470\n",
      "epoch 1/1, step 342/734, training_loss = 0.0975\n",
      "epoch 1/1, step 343/734, training_loss = 0.0084\n",
      "epoch 1/1, step 344/734, training_loss = 0.0169\n",
      "epoch 1/1, step 345/734, training_loss = 0.0980\n",
      "epoch 1/1, step 346/734, training_loss = 0.0416\n",
      "epoch 1/1, step 347/734, training_loss = 0.0456\n",
      "epoch 1/1, step 348/734, training_loss = 0.0183\n",
      "epoch 1/1, step 349/734, training_loss = 0.0298\n",
      "epoch 1/1, step 350/734, training_loss = 0.0049\n",
      "epoch 1/1, step 351/734, training_loss = 0.0111\n",
      "epoch 1/1, step 352/734, training_loss = 0.0825\n",
      "epoch 1/1, step 353/734, training_loss = 0.0068\n",
      "epoch 1/1, step 354/734, training_loss = 0.0714\n",
      "epoch 1/1, step 355/734, training_loss = 0.0412\n",
      "epoch 1/1, step 356/734, training_loss = 0.0047\n",
      "epoch 1/1, step 357/734, training_loss = 0.0196\n",
      "epoch 1/1, step 358/734, training_loss = 0.0649\n",
      "epoch 1/1, step 359/734, training_loss = 0.0852\n",
      "epoch 1/1, step 360/734, training_loss = 0.0214\n",
      "epoch 1/1, step 361/734, training_loss = 0.0389\n",
      "epoch 1/1, step 362/734, training_loss = 0.0099\n",
      "epoch 1/1, step 363/734, training_loss = 0.0149\n",
      "epoch 1/1, step 364/734, training_loss = 0.0527\n",
      "epoch 1/1, step 365/734, training_loss = 0.0236\n",
      "epoch 1/1, step 366/734, training_loss = 0.0765\n",
      "epoch 1/1, step 367/734, training_loss = 0.0223\n",
      "epoch 1/1, step 368/734, training_loss = 0.0095\n",
      "epoch 1/1, step 369/734, training_loss = 0.0268\n",
      "epoch 1/1, step 370/734, training_loss = 0.0248\n",
      "epoch 1/1, step 371/734, training_loss = 0.0801\n",
      "epoch 1/1, step 372/734, training_loss = 0.0660\n",
      "epoch 1/1, step 373/734, training_loss = 0.1150\n",
      "epoch 1/1, step 374/734, training_loss = 0.0149\n",
      "epoch 1/1, step 375/734, training_loss = 0.0854\n",
      "epoch 1/1, step 376/734, training_loss = 0.0194\n",
      "epoch 1/1, step 377/734, training_loss = 0.0116\n",
      "epoch 1/1, step 378/734, training_loss = 0.1067\n",
      "epoch 1/1, step 379/734, training_loss = 0.0152\n",
      "epoch 1/1, step 380/734, training_loss = 0.0596\n",
      "epoch 1/1, step 381/734, training_loss = 0.1342\n",
      "epoch 1/1, step 382/734, training_loss = 0.0154\n",
      "epoch 1/1, step 383/734, training_loss = 0.0172\n",
      "epoch 1/1, step 384/734, training_loss = 0.0128\n",
      "epoch 1/1, step 385/734, training_loss = 0.0108\n",
      "epoch 1/1, step 386/734, training_loss = 0.0228\n",
      "epoch 1/1, step 387/734, training_loss = 0.0125\n",
      "epoch 1/1, step 388/734, training_loss = 0.1686\n",
      "epoch 1/1, step 389/734, training_loss = 0.0195\n",
      "epoch 1/1, step 390/734, training_loss = 0.0143\n",
      "epoch 1/1, step 391/734, training_loss = 0.0101\n",
      "epoch 1/1, step 392/734, training_loss = 0.0265\n",
      "epoch 1/1, step 393/734, training_loss = 0.0211\n",
      "epoch 1/1, step 394/734, training_loss = 0.0114\n",
      "epoch 1/1, step 395/734, training_loss = 0.0534\n",
      "epoch 1/1, step 396/734, training_loss = 0.0321\n",
      "epoch 1/1, step 397/734, training_loss = 0.0069\n",
      "epoch 1/1, step 398/734, training_loss = 0.0739\n",
      "epoch 1/1, step 399/734, training_loss = 0.1150\n",
      "epoch 1/1, step 400/734, training_loss = 0.0075\n",
      "epoch 1/1, step 401/734, training_loss = 0.0167\n",
      "epoch 1/1, step 402/734, training_loss = 0.0125\n",
      "epoch 1/1, step 403/734, training_loss = 0.0056\n",
      "epoch 1/1, step 404/734, training_loss = 0.0129\n",
      "epoch 1/1, step 405/734, training_loss = 0.0135\n",
      "epoch 1/1, step 406/734, training_loss = 0.0208\n",
      "epoch 1/1, step 407/734, training_loss = 0.0796\n",
      "epoch 1/1, step 408/734, training_loss = 0.0225\n",
      "epoch 1/1, step 409/734, training_loss = 0.0379\n",
      "epoch 1/1, step 410/734, training_loss = 0.0828\n",
      "epoch 1/1, step 411/734, training_loss = 0.0263\n",
      "epoch 1/1, step 412/734, training_loss = 0.0256\n",
      "epoch 1/1, step 413/734, training_loss = 0.0047\n",
      "epoch 1/1, step 414/734, training_loss = 0.0043\n",
      "epoch 1/1, step 415/734, training_loss = 0.0114\n",
      "epoch 1/1, step 416/734, training_loss = 0.0132\n",
      "epoch 1/1, step 417/734, training_loss = 0.0170\n",
      "epoch 1/1, step 418/734, training_loss = 0.0277\n",
      "epoch 1/1, step 419/734, training_loss = 0.0054\n",
      "epoch 1/1, step 420/734, training_loss = 0.0074\n",
      "epoch 1/1, step 421/734, training_loss = 0.0170\n",
      "epoch 1/1, step 422/734, training_loss = 0.0070\n",
      "epoch 1/1, step 423/734, training_loss = 0.0432\n",
      "epoch 1/1, step 424/734, training_loss = 0.0180\n",
      "epoch 1/1, step 425/734, training_loss = 0.0054\n",
      "epoch 1/1, step 426/734, training_loss = 0.1399\n",
      "epoch 1/1, step 427/734, training_loss = 0.0603\n",
      "epoch 1/1, step 428/734, training_loss = 0.0107\n",
      "epoch 1/1, step 429/734, training_loss = 0.0329\n",
      "epoch 1/1, step 430/734, training_loss = 0.0275\n",
      "epoch 1/1, step 431/734, training_loss = 0.0105\n",
      "epoch 1/1, step 432/734, training_loss = 0.0516\n",
      "epoch 1/1, step 433/734, training_loss = 0.0200\n",
      "epoch 1/1, step 434/734, training_loss = 0.0209\n",
      "epoch 1/1, step 435/734, training_loss = 0.0331\n",
      "epoch 1/1, step 436/734, training_loss = 0.0256\n",
      "epoch 1/1, step 437/734, training_loss = 0.0352\n",
      "epoch 1/1, step 438/734, training_loss = 0.0083\n",
      "epoch 1/1, step 439/734, training_loss = 0.0055\n",
      "epoch 1/1, step 440/734, training_loss = 0.0736\n",
      "epoch 1/1, step 441/734, training_loss = 0.0755\n",
      "epoch 1/1, step 442/734, training_loss = 0.0342\n",
      "epoch 1/1, step 443/734, training_loss = 0.0106\n",
      "epoch 1/1, step 444/734, training_loss = 0.0295\n",
      "epoch 1/1, step 445/734, training_loss = 0.0408\n",
      "epoch 1/1, step 446/734, training_loss = 0.0120\n",
      "epoch 1/1, step 447/734, training_loss = 0.0197\n",
      "epoch 1/1, step 448/734, training_loss = 0.0422\n",
      "epoch 1/1, step 449/734, training_loss = 0.0096\n",
      "epoch 1/1, step 450/734, training_loss = 0.0063\n",
      "epoch 1/1, step 451/734, training_loss = 0.0172\n",
      "epoch 1/1, step 452/734, training_loss = 0.0243\n",
      "epoch 1/1, step 453/734, training_loss = 0.0138\n",
      "epoch 1/1, step 454/734, training_loss = 0.0154\n",
      "epoch 1/1, step 455/734, training_loss = 0.0177\n",
      "epoch 1/1, step 456/734, training_loss = 0.0237\n",
      "epoch 1/1, step 457/734, training_loss = 0.1630\n",
      "epoch 1/1, step 458/734, training_loss = 0.0136\n",
      "epoch 1/1, step 459/734, training_loss = 0.1412\n",
      "epoch 1/1, step 460/734, training_loss = 0.0051\n",
      "epoch 1/1, step 461/734, training_loss = 0.0063\n",
      "epoch 1/1, step 462/734, training_loss = 0.0319\n",
      "epoch 1/1, step 463/734, training_loss = 0.1701\n",
      "epoch 1/1, step 464/734, training_loss = 0.0636\n",
      "epoch 1/1, step 465/734, training_loss = 0.0136\n",
      "epoch 1/1, step 466/734, training_loss = 0.0439\n",
      "epoch 1/1, step 467/734, training_loss = 0.0560\n",
      "epoch 1/1, step 468/734, training_loss = 0.0154\n",
      "epoch 1/1, step 469/734, training_loss = 0.0053\n",
      "epoch 1/1, step 470/734, training_loss = 0.0503\n",
      "epoch 1/1, step 471/734, training_loss = 0.0125\n",
      "epoch 1/1, step 472/734, training_loss = 0.0457\n",
      "epoch 1/1, step 473/734, training_loss = 0.0082\n",
      "epoch 1/1, step 474/734, training_loss = 0.0089\n",
      "epoch 1/1, step 475/734, training_loss = 0.0405\n",
      "epoch 1/1, step 476/734, training_loss = 0.0194\n",
      "epoch 1/1, step 477/734, training_loss = 0.0240\n",
      "epoch 1/1, step 478/734, training_loss = 0.0102\n",
      "epoch 1/1, step 479/734, training_loss = 0.0060\n",
      "epoch 1/1, step 480/734, training_loss = 0.0050\n",
      "epoch 1/1, step 481/734, training_loss = 0.0232\n",
      "epoch 1/1, step 482/734, training_loss = 0.0446\n",
      "epoch 1/1, step 483/734, training_loss = 0.0452\n",
      "epoch 1/1, step 484/734, training_loss = 0.0121\n",
      "epoch 1/1, step 485/734, training_loss = 0.0295\n",
      "epoch 1/1, step 486/734, training_loss = 0.0131\n",
      "epoch 1/1, step 487/734, training_loss = 0.0966\n",
      "epoch 1/1, step 488/734, training_loss = 0.0286\n",
      "epoch 1/1, step 489/734, training_loss = 0.0881\n",
      "epoch 1/1, step 490/734, training_loss = 0.0037\n",
      "epoch 1/1, step 491/734, training_loss = 0.0145\n",
      "epoch 1/1, step 492/734, training_loss = 0.0077\n",
      "epoch 1/1, step 493/734, training_loss = 0.0247\n",
      "epoch 1/1, step 494/734, training_loss = 0.0382\n",
      "epoch 1/1, step 495/734, training_loss = 0.1106\n",
      "epoch 1/1, step 496/734, training_loss = 0.0194\n",
      "epoch 1/1, step 497/734, training_loss = 0.0401\n",
      "epoch 1/1, step 498/734, training_loss = 0.0294\n",
      "epoch 1/1, step 499/734, training_loss = 0.0110\n",
      "epoch 1/1, step 500/734, training_loss = 0.0447\n",
      "epoch 1/1, step 501/734, training_loss = 0.0029\n",
      "epoch 1/1, step 502/734, training_loss = 0.1255\n",
      "epoch 1/1, step 503/734, training_loss = 0.0111\n",
      "epoch 1/1, step 504/734, training_loss = 0.0058\n",
      "epoch 1/1, step 505/734, training_loss = 0.1019\n",
      "epoch 1/1, step 506/734, training_loss = 0.0026\n",
      "epoch 1/1, step 507/734, training_loss = 0.0680\n",
      "epoch 1/1, step 508/734, training_loss = 0.0726\n",
      "epoch 1/1, step 509/734, training_loss = 0.0467\n",
      "epoch 1/1, step 510/734, training_loss = 0.0398\n",
      "epoch 1/1, step 511/734, training_loss = 0.0204\n",
      "epoch 1/1, step 512/734, training_loss = 0.1693\n",
      "epoch 1/1, step 513/734, training_loss = 0.0803\n",
      "epoch 1/1, step 514/734, training_loss = 0.0348\n",
      "epoch 1/1, step 515/734, training_loss = 0.0224\n",
      "epoch 1/1, step 516/734, training_loss = 0.0393\n",
      "epoch 1/1, step 517/734, training_loss = 0.0063\n",
      "epoch 1/1, step 518/734, training_loss = 0.0114\n",
      "epoch 1/1, step 519/734, training_loss = 0.0387\n",
      "epoch 1/1, step 520/734, training_loss = 0.0216\n",
      "epoch 1/1, step 521/734, training_loss = 0.0150\n",
      "epoch 1/1, step 522/734, training_loss = 0.0054\n",
      "epoch 1/1, step 523/734, training_loss = 0.0367\n",
      "epoch 1/1, step 524/734, training_loss = 0.0131\n",
      "epoch 1/1, step 525/734, training_loss = 0.0115\n",
      "epoch 1/1, step 526/734, training_loss = 0.0566\n",
      "epoch 1/1, step 527/734, training_loss = 0.0100\n",
      "epoch 1/1, step 528/734, training_loss = 0.0187\n",
      "epoch 1/1, step 529/734, training_loss = 0.0243\n",
      "epoch 1/1, step 530/734, training_loss = 0.0110\n",
      "epoch 1/1, step 531/734, training_loss = 0.0297\n",
      "epoch 1/1, step 532/734, training_loss = 0.0231\n",
      "epoch 1/1, step 533/734, training_loss = 0.0106\n",
      "epoch 1/1, step 534/734, training_loss = 0.0207\n",
      "epoch 1/1, step 535/734, training_loss = 0.0143\n",
      "epoch 1/1, step 536/734, training_loss = 0.0053\n",
      "epoch 1/1, step 537/734, training_loss = 0.0271\n",
      "epoch 1/1, step 538/734, training_loss = 0.0393\n",
      "epoch 1/1, step 539/734, training_loss = 0.0290\n",
      "epoch 1/1, step 540/734, training_loss = 0.0393\n",
      "epoch 1/1, step 541/734, training_loss = 0.0624\n",
      "epoch 1/1, step 542/734, training_loss = 0.0106\n",
      "epoch 1/1, step 543/734, training_loss = 0.0092\n",
      "epoch 1/1, step 544/734, training_loss = 0.0178\n",
      "epoch 1/1, step 545/734, training_loss = 0.0936\n",
      "epoch 1/1, step 546/734, training_loss = 0.0089\n",
      "epoch 1/1, step 547/734, training_loss = 0.0111\n",
      "epoch 1/1, step 548/734, training_loss = 0.0090\n",
      "epoch 1/1, step 549/734, training_loss = 0.0145\n",
      "epoch 1/1, step 550/734, training_loss = 0.0139\n",
      "epoch 1/1, step 551/734, training_loss = 0.0882\n",
      "epoch 1/1, step 552/734, training_loss = 0.0058\n",
      "epoch 1/1, step 553/734, training_loss = 0.0268\n",
      "epoch 1/1, step 554/734, training_loss = 0.0671\n",
      "epoch 1/1, step 555/734, training_loss = 0.0102\n",
      "epoch 1/1, step 556/734, training_loss = 0.0509\n",
      "epoch 1/1, step 557/734, training_loss = 0.0401\n",
      "epoch 1/1, step 558/734, training_loss = 0.0339\n",
      "epoch 1/1, step 559/734, training_loss = 0.0347\n",
      "epoch 1/1, step 560/734, training_loss = 0.0218\n",
      "epoch 1/1, step 561/734, training_loss = 0.0203\n",
      "epoch 1/1, step 562/734, training_loss = 0.0021\n",
      "epoch 1/1, step 563/734, training_loss = 0.0077\n",
      "epoch 1/1, step 564/734, training_loss = 0.0034\n",
      "epoch 1/1, step 565/734, training_loss = 0.0050\n",
      "epoch 1/1, step 566/734, training_loss = 0.0139\n",
      "epoch 1/1, step 567/734, training_loss = 0.0071\n",
      "epoch 1/1, step 568/734, training_loss = 0.0329\n",
      "epoch 1/1, step 569/734, training_loss = 0.0204\n",
      "epoch 1/1, step 570/734, training_loss = 0.0096\n",
      "epoch 1/1, step 571/734, training_loss = 0.0109\n",
      "epoch 1/1, step 572/734, training_loss = 0.0060\n",
      "epoch 1/1, step 573/734, training_loss = 0.0345\n",
      "epoch 1/1, step 574/734, training_loss = 0.0088\n",
      "epoch 1/1, step 575/734, training_loss = 0.0064\n",
      "epoch 1/1, step 576/734, training_loss = 0.0090\n",
      "epoch 1/1, step 577/734, training_loss = 0.0053\n",
      "epoch 1/1, step 578/734, training_loss = 0.0096\n",
      "epoch 1/1, step 579/734, training_loss = 0.0088\n",
      "epoch 1/1, step 580/734, training_loss = 0.0034\n",
      "epoch 1/1, step 581/734, training_loss = 0.0025\n",
      "epoch 1/1, step 582/734, training_loss = 0.0065\n",
      "epoch 1/1, step 583/734, training_loss = 0.0036\n",
      "epoch 1/1, step 584/734, training_loss = 0.0017\n",
      "epoch 1/1, step 585/734, training_loss = 0.0025\n",
      "epoch 1/1, step 586/734, training_loss = 0.0019\n",
      "epoch 1/1, step 587/734, training_loss = 0.0053\n",
      "epoch 1/1, step 588/734, training_loss = 0.1159\n",
      "epoch 1/1, step 589/734, training_loss = 0.0079\n",
      "epoch 1/1, step 590/734, training_loss = 0.0106\n",
      "epoch 1/1, step 591/734, training_loss = 0.0064\n",
      "epoch 1/1, step 592/734, training_loss = 0.0200\n",
      "epoch 1/1, step 593/734, training_loss = 0.0225\n",
      "epoch 1/1, step 594/734, training_loss = 0.0078\n",
      "epoch 1/1, step 595/734, training_loss = 0.0059\n",
      "epoch 1/1, step 596/734, training_loss = 0.1390\n",
      "epoch 1/1, step 597/734, training_loss = 0.0091\n",
      "epoch 1/1, step 598/734, training_loss = 0.0214\n",
      "epoch 1/1, step 599/734, training_loss = 0.0569\n",
      "epoch 1/1, step 600/734, training_loss = 0.0377\n",
      "epoch 1/1, step 601/734, training_loss = 0.0067\n",
      "epoch 1/1, step 602/734, training_loss = 0.0096\n",
      "epoch 1/1, step 603/734, training_loss = 0.0039\n",
      "epoch 1/1, step 604/734, training_loss = 0.0290\n",
      "epoch 1/1, step 605/734, training_loss = 0.0634\n",
      "epoch 1/1, step 606/734, training_loss = 0.0056\n",
      "epoch 1/1, step 607/734, training_loss = 0.0043\n",
      "epoch 1/1, step 608/734, training_loss = 0.0086\n",
      "epoch 1/1, step 609/734, training_loss = 0.0037\n",
      "epoch 1/1, step 610/734, training_loss = 0.0057\n",
      "epoch 1/1, step 611/734, training_loss = 0.0086\n",
      "epoch 1/1, step 612/734, training_loss = 0.0099\n",
      "epoch 1/1, step 613/734, training_loss = 0.0056\n",
      "epoch 1/1, step 614/734, training_loss = 0.0342\n",
      "epoch 1/1, step 615/734, training_loss = 0.0099\n",
      "epoch 1/1, step 616/734, training_loss = 0.0200\n",
      "epoch 1/1, step 617/734, training_loss = 0.0021\n",
      "epoch 1/1, step 618/734, training_loss = 0.0024\n",
      "epoch 1/1, step 619/734, training_loss = 0.0030\n",
      "epoch 1/1, step 620/734, training_loss = 0.0186\n",
      "epoch 1/1, step 621/734, training_loss = 0.0085\n",
      "epoch 1/1, step 622/734, training_loss = 0.0074\n",
      "epoch 1/1, step 623/734, training_loss = 0.0029\n",
      "epoch 1/1, step 624/734, training_loss = 0.0088\n",
      "epoch 1/1, step 625/734, training_loss = 0.0071\n",
      "epoch 1/1, step 626/734, training_loss = 0.0261\n",
      "epoch 1/1, step 627/734, training_loss = 0.1090\n",
      "epoch 1/1, step 628/734, training_loss = 0.0031\n",
      "epoch 1/1, step 629/734, training_loss = 0.0200\n",
      "epoch 1/1, step 630/734, training_loss = 0.0032\n",
      "epoch 1/1, step 631/734, training_loss = 0.0388\n",
      "epoch 1/1, step 632/734, training_loss = 0.0055\n",
      "epoch 1/1, step 633/734, training_loss = 0.0095\n",
      "epoch 1/1, step 634/734, training_loss = 0.0522\n",
      "epoch 1/1, step 635/734, training_loss = 0.0039\n",
      "epoch 1/1, step 636/734, training_loss = 0.0066\n",
      "epoch 1/1, step 637/734, training_loss = 0.0718\n",
      "epoch 1/1, step 638/734, training_loss = 0.0030\n",
      "epoch 1/1, step 639/734, training_loss = 0.0058\n",
      "epoch 1/1, step 640/734, training_loss = 0.0071\n",
      "epoch 1/1, step 641/734, training_loss = 0.0099\n",
      "epoch 1/1, step 642/734, training_loss = 0.0452\n",
      "epoch 1/1, step 643/734, training_loss = 0.1831\n",
      "epoch 1/1, step 644/734, training_loss = 0.0109\n",
      "epoch 1/1, step 645/734, training_loss = 0.0079\n",
      "epoch 1/1, step 646/734, training_loss = 0.0198\n",
      "epoch 1/1, step 647/734, training_loss = 0.0044\n",
      "epoch 1/1, step 648/734, training_loss = 0.0065\n",
      "epoch 1/1, step 649/734, training_loss = 0.0300\n",
      "epoch 1/1, step 650/734, training_loss = 0.0120\n",
      "epoch 1/1, step 651/734, training_loss = 0.0435\n",
      "epoch 1/1, step 652/734, training_loss = 0.0058\n",
      "epoch 1/1, step 653/734, training_loss = 0.0170\n",
      "epoch 1/1, step 654/734, training_loss = 0.0127\n",
      "epoch 1/1, step 655/734, training_loss = 0.0074\n",
      "epoch 1/1, step 656/734, training_loss = 0.0385\n",
      "epoch 1/1, step 657/734, training_loss = 0.0029\n",
      "epoch 1/1, step 658/734, training_loss = 0.0409\n",
      "epoch 1/1, step 659/734, training_loss = 0.0039\n",
      "epoch 1/1, step 660/734, training_loss = 0.0101\n",
      "epoch 1/1, step 661/734, training_loss = 0.0048\n"
     ]
    },
    {
     "name": "stderr",
     "output_type": "stream",
     "text": [
      "WARNING: In /work/ITK-source/ITK/Modules/IO/GDCM/src/itkGDCMSeriesFileNames.cxx, line 100\n",
      "GDCMSeriesFileNames (0x56407d9d3190): No Series were found\n",
      "\n",
      "Current run is terminating due to exception: applying transform <monai.transforms.io.array.LoadImage object at 0x7f9033e3d6a0>\n",
      "Engine run is terminating due to exception: applying transform <monai.transforms.io.array.LoadImage object at 0x7f9033e3d6a0>\n"
     ]
    },
    {
     "ename": "RuntimeError",
     "evalue": "applying transform <monai.transforms.io.array.LoadImage object at 0x7f9033e3d6a0>",
     "output_type": "error",
     "traceback": [
      "\u001b[0;31m---------------------------------------------------------------------------\u001b[0m",
      "\u001b[0;31mFileNotFoundError\u001b[0m                         Traceback (most recent call last)",
      "\u001b[0;32m/opt/conda/lib/python3.8/site-packages/monai/transforms/transform.py\u001b[0m in \u001b[0;36mapply_transform\u001b[0;34m(transform, data, map_items, unpack_items, log_stats)\u001b[0m\n\u001b[1;32m     89\u001b[0m             \u001b[0;32mreturn\u001b[0m \u001b[0;34m[\u001b[0m\u001b[0m_apply_transform\u001b[0m\u001b[0;34m(\u001b[0m\u001b[0mtransform\u001b[0m\u001b[0;34m,\u001b[0m \u001b[0mitem\u001b[0m\u001b[0;34m,\u001b[0m \u001b[0munpack_items\u001b[0m\u001b[0;34m)\u001b[0m \u001b[0;32mfor\u001b[0m \u001b[0mitem\u001b[0m \u001b[0;32min\u001b[0m \u001b[0mdata\u001b[0m\u001b[0;34m]\u001b[0m\u001b[0;34m\u001b[0m\u001b[0;34m\u001b[0m\u001b[0m\n\u001b[0;32m---> 90\u001b[0;31m         \u001b[0;32mreturn\u001b[0m \u001b[0m_apply_transform\u001b[0m\u001b[0;34m(\u001b[0m\u001b[0mtransform\u001b[0m\u001b[0;34m,\u001b[0m \u001b[0mdata\u001b[0m\u001b[0;34m,\u001b[0m \u001b[0munpack_items\u001b[0m\u001b[0;34m)\u001b[0m\u001b[0;34m\u001b[0m\u001b[0;34m\u001b[0m\u001b[0m\n\u001b[0m\u001b[1;32m     91\u001b[0m     \u001b[0;32mexcept\u001b[0m \u001b[0mException\u001b[0m \u001b[0;32mas\u001b[0m \u001b[0me\u001b[0m\u001b[0;34m:\u001b[0m\u001b[0;34m\u001b[0m\u001b[0;34m\u001b[0m\u001b[0m\n",
      "\u001b[0;32m/opt/conda/lib/python3.8/site-packages/monai/transforms/transform.py\u001b[0m in \u001b[0;36m_apply_transform\u001b[0;34m(transform, parameters, unpack_parameters)\u001b[0m\n\u001b[1;32m     53\u001b[0m \u001b[0;34m\u001b[0m\u001b[0m\n\u001b[0;32m---> 54\u001b[0;31m     \u001b[0;32mreturn\u001b[0m \u001b[0mtransform\u001b[0m\u001b[0;34m(\u001b[0m\u001b[0mparameters\u001b[0m\u001b[0;34m)\u001b[0m\u001b[0;34m\u001b[0m\u001b[0;34m\u001b[0m\u001b[0m\n\u001b[0m\u001b[1;32m     55\u001b[0m \u001b[0;34m\u001b[0m\u001b[0m\n",
      "\u001b[0;32m/opt/conda/lib/python3.8/site-packages/monai/transforms/io/array.py\u001b[0m in \u001b[0;36m__call__\u001b[0;34m(self, filename, reader)\u001b[0m\n\u001b[1;32m    225\u001b[0m                     \u001b[0;32mif\u001b[0m \u001b[0mreader\u001b[0m\u001b[0;34m.\u001b[0m\u001b[0mverify_suffix\u001b[0m\u001b[0;34m(\u001b[0m\u001b[0mfilename\u001b[0m\u001b[0;34m)\u001b[0m\u001b[0;34m:\u001b[0m\u001b[0;34m\u001b[0m\u001b[0;34m\u001b[0m\u001b[0m\n\u001b[0;32m--> 226\u001b[0;31m                         \u001b[0mimg\u001b[0m \u001b[0;34m=\u001b[0m \u001b[0mreader\u001b[0m\u001b[0;34m.\u001b[0m\u001b[0mread\u001b[0m\u001b[0;34m(\u001b[0m\u001b[0mfilename\u001b[0m\u001b[0;34m)\u001b[0m\u001b[0;34m\u001b[0m\u001b[0;34m\u001b[0m\u001b[0m\n\u001b[0m\u001b[1;32m    227\u001b[0m                         \u001b[0;32mbreak\u001b[0m\u001b[0;34m\u001b[0m\u001b[0;34m\u001b[0m\u001b[0m\n",
      "\u001b[0;32m/opt/conda/lib/python3.8/site-packages/monai/data/image_reader.py\u001b[0m in \u001b[0;36mread\u001b[0;34m(self, data, **kwargs)\u001b[0m\n\u001b[1;32m    250\u001b[0m                 \u001b[0;32mif\u001b[0m \u001b[0mlen\u001b[0m\u001b[0;34m(\u001b[0m\u001b[0mseries_uid\u001b[0m\u001b[0;34m)\u001b[0m \u001b[0;34m<\u001b[0m \u001b[0;36m1\u001b[0m\u001b[0;34m:\u001b[0m\u001b[0;34m\u001b[0m\u001b[0;34m\u001b[0m\u001b[0m\n\u001b[0;32m--> 251\u001b[0;31m                     \u001b[0;32mraise\u001b[0m \u001b[0mFileNotFoundError\u001b[0m\u001b[0;34m(\u001b[0m\u001b[0;34mf\"no DICOMs in: {name}.\"\u001b[0m\u001b[0;34m)\u001b[0m\u001b[0;34m\u001b[0m\u001b[0;34m\u001b[0m\u001b[0m\n\u001b[0m\u001b[1;32m    252\u001b[0m                 \u001b[0;32mif\u001b[0m \u001b[0mlen\u001b[0m\u001b[0;34m(\u001b[0m\u001b[0mseries_uid\u001b[0m\u001b[0;34m)\u001b[0m \u001b[0;34m>\u001b[0m \u001b[0;36m1\u001b[0m\u001b[0;34m:\u001b[0m\u001b[0;34m\u001b[0m\u001b[0;34m\u001b[0m\u001b[0m\n",
      "\u001b[0;31mFileNotFoundError\u001b[0m: no DICOMs in: temp/MedNIST/HeadCT/.ipynb_checkpoints.",
      "\nThe above exception was the direct cause of the following exception:\n",
      "\u001b[0;31mRuntimeError\u001b[0m                              Traceback (most recent call last)",
      "\u001b[0;32m<timed exec>\u001b[0m in \u001b[0;36m<module>\u001b[0;34m\u001b[0m\n",
      "\u001b[0;32m/opt/conda/lib/python3.8/site-packages/ignite/engine/engine.py\u001b[0m in \u001b[0;36mrun\u001b[0;34m(self, data, max_epochs, epoch_length, seed)\u001b[0m\n\u001b[1;32m    702\u001b[0m \u001b[0;34m\u001b[0m\u001b[0m\n\u001b[1;32m    703\u001b[0m         \u001b[0mself\u001b[0m\u001b[0;34m.\u001b[0m\u001b[0mstate\u001b[0m\u001b[0;34m.\u001b[0m\u001b[0mdataloader\u001b[0m \u001b[0;34m=\u001b[0m \u001b[0mdata\u001b[0m\u001b[0;34m\u001b[0m\u001b[0;34m\u001b[0m\u001b[0m\n\u001b[0;32m--> 704\u001b[0;31m         \u001b[0;32mreturn\u001b[0m \u001b[0mself\u001b[0m\u001b[0;34m.\u001b[0m\u001b[0m_internal_run\u001b[0m\u001b[0;34m(\u001b[0m\u001b[0;34m)\u001b[0m\u001b[0;34m\u001b[0m\u001b[0;34m\u001b[0m\u001b[0m\n\u001b[0m\u001b[1;32m    705\u001b[0m \u001b[0;34m\u001b[0m\u001b[0m\n\u001b[1;32m    706\u001b[0m     \u001b[0;34m@\u001b[0m\u001b[0mstaticmethod\u001b[0m\u001b[0;34m\u001b[0m\u001b[0;34m\u001b[0m\u001b[0m\n",
      "\u001b[0;32m/opt/conda/lib/python3.8/site-packages/ignite/engine/engine.py\u001b[0m in \u001b[0;36m_internal_run\u001b[0;34m(self)\u001b[0m\n\u001b[1;32m    781\u001b[0m             \u001b[0mself\u001b[0m\u001b[0;34m.\u001b[0m\u001b[0m_dataloader_iter\u001b[0m \u001b[0;34m=\u001b[0m \u001b[0;32mNone\u001b[0m\u001b[0;34m\u001b[0m\u001b[0;34m\u001b[0m\u001b[0m\n\u001b[1;32m    782\u001b[0m             \u001b[0mself\u001b[0m\u001b[0;34m.\u001b[0m\u001b[0mlogger\u001b[0m\u001b[0;34m.\u001b[0m\u001b[0merror\u001b[0m\u001b[0;34m(\u001b[0m\u001b[0;34mf\"Engine run is terminating due to exception: {e}\"\u001b[0m\u001b[0;34m)\u001b[0m\u001b[0;34m\u001b[0m\u001b[0;34m\u001b[0m\u001b[0m\n\u001b[0;32m--> 783\u001b[0;31m             \u001b[0mself\u001b[0m\u001b[0;34m.\u001b[0m\u001b[0m_handle_exception\u001b[0m\u001b[0;34m(\u001b[0m\u001b[0me\u001b[0m\u001b[0;34m)\u001b[0m\u001b[0;34m\u001b[0m\u001b[0;34m\u001b[0m\u001b[0m\n\u001b[0m\u001b[1;32m    784\u001b[0m \u001b[0;34m\u001b[0m\u001b[0m\n\u001b[1;32m    785\u001b[0m         \u001b[0mself\u001b[0m\u001b[0;34m.\u001b[0m\u001b[0m_dataloader_iter\u001b[0m \u001b[0;34m=\u001b[0m \u001b[0;32mNone\u001b[0m\u001b[0;34m\u001b[0m\u001b[0;34m\u001b[0m\u001b[0m\n",
      "\u001b[0;32m/opt/conda/lib/python3.8/site-packages/ignite/engine/engine.py\u001b[0m in \u001b[0;36m_handle_exception\u001b[0;34m(self, e)\u001b[0m\n\u001b[1;32m    464\u001b[0m             \u001b[0mself\u001b[0m\u001b[0;34m.\u001b[0m\u001b[0m_fire_event\u001b[0m\u001b[0;34m(\u001b[0m\u001b[0mEvents\u001b[0m\u001b[0;34m.\u001b[0m\u001b[0mEXCEPTION_RAISED\u001b[0m\u001b[0;34m,\u001b[0m \u001b[0me\u001b[0m\u001b[0;34m)\u001b[0m\u001b[0;34m\u001b[0m\u001b[0;34m\u001b[0m\u001b[0m\n\u001b[1;32m    465\u001b[0m         \u001b[0;32melse\u001b[0m\u001b[0;34m:\u001b[0m\u001b[0;34m\u001b[0m\u001b[0;34m\u001b[0m\u001b[0m\n\u001b[0;32m--> 466\u001b[0;31m             \u001b[0;32mraise\u001b[0m \u001b[0me\u001b[0m\u001b[0;34m\u001b[0m\u001b[0;34m\u001b[0m\u001b[0m\n\u001b[0m\u001b[1;32m    467\u001b[0m \u001b[0;34m\u001b[0m\u001b[0m\n\u001b[1;32m    468\u001b[0m     \u001b[0;34m@\u001b[0m\u001b[0mproperty\u001b[0m\u001b[0;34m\u001b[0m\u001b[0;34m\u001b[0m\u001b[0m\n",
      "\u001b[0;32m/opt/conda/lib/python3.8/site-packages/ignite/engine/engine.py\u001b[0m in \u001b[0;36m_internal_run\u001b[0;34m(self)\u001b[0m\n\u001b[1;32m    751\u001b[0m                     \u001b[0mself\u001b[0m\u001b[0;34m.\u001b[0m\u001b[0m_setup_engine\u001b[0m\u001b[0;34m(\u001b[0m\u001b[0;34m)\u001b[0m\u001b[0;34m\u001b[0m\u001b[0;34m\u001b[0m\u001b[0m\n\u001b[1;32m    752\u001b[0m \u001b[0;34m\u001b[0m\u001b[0m\n\u001b[0;32m--> 753\u001b[0;31m                 \u001b[0mtime_taken\u001b[0m \u001b[0;34m=\u001b[0m \u001b[0mself\u001b[0m\u001b[0;34m.\u001b[0m\u001b[0m_run_once_on_dataset\u001b[0m\u001b[0;34m(\u001b[0m\u001b[0;34m)\u001b[0m\u001b[0;34m\u001b[0m\u001b[0;34m\u001b[0m\u001b[0m\n\u001b[0m\u001b[1;32m    754\u001b[0m                 \u001b[0;31m# time is available for handlers but must be update after fire\u001b[0m\u001b[0;34m\u001b[0m\u001b[0;34m\u001b[0m\u001b[0;34m\u001b[0m\u001b[0m\n\u001b[1;32m    755\u001b[0m                 \u001b[0mself\u001b[0m\u001b[0;34m.\u001b[0m\u001b[0mstate\u001b[0m\u001b[0;34m.\u001b[0m\u001b[0mtimes\u001b[0m\u001b[0;34m[\u001b[0m\u001b[0mEvents\u001b[0m\u001b[0;34m.\u001b[0m\u001b[0mEPOCH_COMPLETED\u001b[0m\u001b[0;34m.\u001b[0m\u001b[0mname\u001b[0m\u001b[0;34m]\u001b[0m \u001b[0;34m=\u001b[0m \u001b[0mtime_taken\u001b[0m\u001b[0;34m\u001b[0m\u001b[0;34m\u001b[0m\u001b[0m\n",
      "\u001b[0;32m/opt/conda/lib/python3.8/site-packages/ignite/engine/engine.py\u001b[0m in \u001b[0;36m_run_once_on_dataset\u001b[0;34m(self)\u001b[0m\n\u001b[1;32m    852\u001b[0m         \u001b[0;32mexcept\u001b[0m \u001b[0mException\u001b[0m \u001b[0;32mas\u001b[0m \u001b[0me\u001b[0m\u001b[0;34m:\u001b[0m\u001b[0;34m\u001b[0m\u001b[0;34m\u001b[0m\u001b[0m\n\u001b[1;32m    853\u001b[0m             \u001b[0mself\u001b[0m\u001b[0;34m.\u001b[0m\u001b[0mlogger\u001b[0m\u001b[0;34m.\u001b[0m\u001b[0merror\u001b[0m\u001b[0;34m(\u001b[0m\u001b[0;34mf\"Current run is terminating due to exception: {e}\"\u001b[0m\u001b[0;34m)\u001b[0m\u001b[0;34m\u001b[0m\u001b[0;34m\u001b[0m\u001b[0m\n\u001b[0;32m--> 854\u001b[0;31m             \u001b[0mself\u001b[0m\u001b[0;34m.\u001b[0m\u001b[0m_handle_exception\u001b[0m\u001b[0;34m(\u001b[0m\u001b[0me\u001b[0m\u001b[0;34m)\u001b[0m\u001b[0;34m\u001b[0m\u001b[0;34m\u001b[0m\u001b[0m\n\u001b[0m\u001b[1;32m    855\u001b[0m \u001b[0;34m\u001b[0m\u001b[0m\n\u001b[1;32m    856\u001b[0m         \u001b[0;32mreturn\u001b[0m \u001b[0mtime\u001b[0m\u001b[0;34m.\u001b[0m\u001b[0mtime\u001b[0m\u001b[0;34m(\u001b[0m\u001b[0;34m)\u001b[0m \u001b[0;34m-\u001b[0m \u001b[0mstart_time\u001b[0m\u001b[0;34m\u001b[0m\u001b[0;34m\u001b[0m\u001b[0m\n",
      "\u001b[0;32m/opt/conda/lib/python3.8/site-packages/ignite/engine/engine.py\u001b[0m in \u001b[0;36m_handle_exception\u001b[0;34m(self, e)\u001b[0m\n\u001b[1;32m    464\u001b[0m             \u001b[0mself\u001b[0m\u001b[0;34m.\u001b[0m\u001b[0m_fire_event\u001b[0m\u001b[0;34m(\u001b[0m\u001b[0mEvents\u001b[0m\u001b[0;34m.\u001b[0m\u001b[0mEXCEPTION_RAISED\u001b[0m\u001b[0;34m,\u001b[0m \u001b[0me\u001b[0m\u001b[0;34m)\u001b[0m\u001b[0;34m\u001b[0m\u001b[0;34m\u001b[0m\u001b[0m\n\u001b[1;32m    465\u001b[0m         \u001b[0;32melse\u001b[0m\u001b[0;34m:\u001b[0m\u001b[0;34m\u001b[0m\u001b[0;34m\u001b[0m\u001b[0m\n\u001b[0;32m--> 466\u001b[0;31m             \u001b[0;32mraise\u001b[0m \u001b[0me\u001b[0m\u001b[0;34m\u001b[0m\u001b[0;34m\u001b[0m\u001b[0m\n\u001b[0m\u001b[1;32m    467\u001b[0m \u001b[0;34m\u001b[0m\u001b[0m\n\u001b[1;32m    468\u001b[0m     \u001b[0;34m@\u001b[0m\u001b[0mproperty\u001b[0m\u001b[0;34m\u001b[0m\u001b[0;34m\u001b[0m\u001b[0m\n",
      "\u001b[0;32m/opt/conda/lib/python3.8/site-packages/ignite/engine/engine.py\u001b[0m in \u001b[0;36m_run_once_on_dataset\u001b[0;34m(self)\u001b[0m\n\u001b[1;32m    805\u001b[0m                     \u001b[0;32mif\u001b[0m \u001b[0mself\u001b[0m\u001b[0;34m.\u001b[0m\u001b[0mlast_event_name\u001b[0m \u001b[0;34m!=\u001b[0m \u001b[0mEvents\u001b[0m\u001b[0;34m.\u001b[0m\u001b[0mDATALOADER_STOP_ITERATION\u001b[0m\u001b[0;34m:\u001b[0m\u001b[0;34m\u001b[0m\u001b[0;34m\u001b[0m\u001b[0m\n\u001b[1;32m    806\u001b[0m                         \u001b[0mself\u001b[0m\u001b[0;34m.\u001b[0m\u001b[0m_fire_event\u001b[0m\u001b[0;34m(\u001b[0m\u001b[0mEvents\u001b[0m\u001b[0;34m.\u001b[0m\u001b[0mGET_BATCH_STARTED\u001b[0m\u001b[0;34m)\u001b[0m\u001b[0;34m\u001b[0m\u001b[0;34m\u001b[0m\u001b[0m\n\u001b[0;32m--> 807\u001b[0;31m                     \u001b[0mself\u001b[0m\u001b[0;34m.\u001b[0m\u001b[0mstate\u001b[0m\u001b[0;34m.\u001b[0m\u001b[0mbatch\u001b[0m \u001b[0;34m=\u001b[0m \u001b[0mnext\u001b[0m\u001b[0;34m(\u001b[0m\u001b[0mself\u001b[0m\u001b[0;34m.\u001b[0m\u001b[0m_dataloader_iter\u001b[0m\u001b[0;34m)\u001b[0m\u001b[0;34m\u001b[0m\u001b[0;34m\u001b[0m\u001b[0m\n\u001b[0m\u001b[1;32m    808\u001b[0m                     \u001b[0mself\u001b[0m\u001b[0;34m.\u001b[0m\u001b[0m_fire_event\u001b[0m\u001b[0;34m(\u001b[0m\u001b[0mEvents\u001b[0m\u001b[0;34m.\u001b[0m\u001b[0mGET_BATCH_COMPLETED\u001b[0m\u001b[0;34m)\u001b[0m\u001b[0;34m\u001b[0m\u001b[0;34m\u001b[0m\u001b[0m\n\u001b[1;32m    809\u001b[0m                     \u001b[0miter_counter\u001b[0m \u001b[0;34m+=\u001b[0m \u001b[0;36m1\u001b[0m\u001b[0;34m\u001b[0m\u001b[0;34m\u001b[0m\u001b[0m\n",
      "\u001b[0;32m/opt/conda/lib/python3.8/site-packages/torch/utils/data/dataloader.py\u001b[0m in \u001b[0;36m__next__\u001b[0;34m(self)\u001b[0m\n\u001b[1;32m    519\u001b[0m             \u001b[0;32mif\u001b[0m \u001b[0mself\u001b[0m\u001b[0;34m.\u001b[0m\u001b[0m_sampler_iter\u001b[0m \u001b[0;32mis\u001b[0m \u001b[0;32mNone\u001b[0m\u001b[0;34m:\u001b[0m\u001b[0;34m\u001b[0m\u001b[0;34m\u001b[0m\u001b[0m\n\u001b[1;32m    520\u001b[0m                 \u001b[0mself\u001b[0m\u001b[0;34m.\u001b[0m\u001b[0m_reset\u001b[0m\u001b[0;34m(\u001b[0m\u001b[0;34m)\u001b[0m\u001b[0;34m\u001b[0m\u001b[0;34m\u001b[0m\u001b[0m\n\u001b[0;32m--> 521\u001b[0;31m             \u001b[0mdata\u001b[0m \u001b[0;34m=\u001b[0m \u001b[0mself\u001b[0m\u001b[0;34m.\u001b[0m\u001b[0m_next_data\u001b[0m\u001b[0;34m(\u001b[0m\u001b[0;34m)\u001b[0m\u001b[0;34m\u001b[0m\u001b[0;34m\u001b[0m\u001b[0m\n\u001b[0m\u001b[1;32m    522\u001b[0m             \u001b[0mself\u001b[0m\u001b[0;34m.\u001b[0m\u001b[0m_num_yielded\u001b[0m \u001b[0;34m+=\u001b[0m \u001b[0;36m1\u001b[0m\u001b[0;34m\u001b[0m\u001b[0;34m\u001b[0m\u001b[0m\n\u001b[1;32m    523\u001b[0m             \u001b[0;32mif\u001b[0m \u001b[0mself\u001b[0m\u001b[0;34m.\u001b[0m\u001b[0m_dataset_kind\u001b[0m \u001b[0;34m==\u001b[0m \u001b[0m_DatasetKind\u001b[0m\u001b[0;34m.\u001b[0m\u001b[0mIterable\u001b[0m \u001b[0;32mand\u001b[0m\u001b[0;31m \u001b[0m\u001b[0;31m\\\u001b[0m\u001b[0;34m\u001b[0m\u001b[0;34m\u001b[0m\u001b[0m\n",
      "\u001b[0;32m/opt/conda/lib/python3.8/site-packages/torch/utils/data/dataloader.py\u001b[0m in \u001b[0;36m_next_data\u001b[0;34m(self)\u001b[0m\n\u001b[1;32m    559\u001b[0m     \u001b[0;32mdef\u001b[0m \u001b[0m_next_data\u001b[0m\u001b[0;34m(\u001b[0m\u001b[0mself\u001b[0m\u001b[0;34m)\u001b[0m\u001b[0;34m:\u001b[0m\u001b[0;34m\u001b[0m\u001b[0;34m\u001b[0m\u001b[0m\n\u001b[1;32m    560\u001b[0m         \u001b[0mindex\u001b[0m \u001b[0;34m=\u001b[0m \u001b[0mself\u001b[0m\u001b[0;34m.\u001b[0m\u001b[0m_next_index\u001b[0m\u001b[0;34m(\u001b[0m\u001b[0;34m)\u001b[0m  \u001b[0;31m# may raise StopIteration\u001b[0m\u001b[0;34m\u001b[0m\u001b[0;34m\u001b[0m\u001b[0m\n\u001b[0;32m--> 561\u001b[0;31m         \u001b[0mdata\u001b[0m \u001b[0;34m=\u001b[0m \u001b[0mself\u001b[0m\u001b[0;34m.\u001b[0m\u001b[0m_dataset_fetcher\u001b[0m\u001b[0;34m.\u001b[0m\u001b[0mfetch\u001b[0m\u001b[0;34m(\u001b[0m\u001b[0mindex\u001b[0m\u001b[0;34m)\u001b[0m  \u001b[0;31m# may raise StopIteration\u001b[0m\u001b[0;34m\u001b[0m\u001b[0;34m\u001b[0m\u001b[0m\n\u001b[0m\u001b[1;32m    562\u001b[0m         \u001b[0;32mif\u001b[0m \u001b[0mself\u001b[0m\u001b[0;34m.\u001b[0m\u001b[0m_pin_memory\u001b[0m\u001b[0;34m:\u001b[0m\u001b[0;34m\u001b[0m\u001b[0;34m\u001b[0m\u001b[0m\n\u001b[1;32m    563\u001b[0m             \u001b[0mdata\u001b[0m \u001b[0;34m=\u001b[0m \u001b[0m_utils\u001b[0m\u001b[0;34m.\u001b[0m\u001b[0mpin_memory\u001b[0m\u001b[0;34m.\u001b[0m\u001b[0mpin_memory\u001b[0m\u001b[0;34m(\u001b[0m\u001b[0mdata\u001b[0m\u001b[0;34m)\u001b[0m\u001b[0;34m\u001b[0m\u001b[0;34m\u001b[0m\u001b[0m\n",
      "\u001b[0;32m/opt/conda/lib/python3.8/site-packages/torch/utils/data/_utils/fetch.py\u001b[0m in \u001b[0;36mfetch\u001b[0;34m(self, possibly_batched_index)\u001b[0m\n\u001b[1;32m     47\u001b[0m     \u001b[0;32mdef\u001b[0m \u001b[0mfetch\u001b[0m\u001b[0;34m(\u001b[0m\u001b[0mself\u001b[0m\u001b[0;34m,\u001b[0m \u001b[0mpossibly_batched_index\u001b[0m\u001b[0;34m)\u001b[0m\u001b[0;34m:\u001b[0m\u001b[0;34m\u001b[0m\u001b[0;34m\u001b[0m\u001b[0m\n\u001b[1;32m     48\u001b[0m         \u001b[0;32mif\u001b[0m \u001b[0mself\u001b[0m\u001b[0;34m.\u001b[0m\u001b[0mauto_collation\u001b[0m\u001b[0;34m:\u001b[0m\u001b[0;34m\u001b[0m\u001b[0;34m\u001b[0m\u001b[0m\n\u001b[0;32m---> 49\u001b[0;31m             \u001b[0mdata\u001b[0m \u001b[0;34m=\u001b[0m \u001b[0;34m[\u001b[0m\u001b[0mself\u001b[0m\u001b[0;34m.\u001b[0m\u001b[0mdataset\u001b[0m\u001b[0;34m[\u001b[0m\u001b[0midx\u001b[0m\u001b[0;34m]\u001b[0m \u001b[0;32mfor\u001b[0m \u001b[0midx\u001b[0m \u001b[0;32min\u001b[0m \u001b[0mpossibly_batched_index\u001b[0m\u001b[0;34m]\u001b[0m\u001b[0;34m\u001b[0m\u001b[0;34m\u001b[0m\u001b[0m\n\u001b[0m\u001b[1;32m     50\u001b[0m         \u001b[0;32melse\u001b[0m\u001b[0;34m:\u001b[0m\u001b[0;34m\u001b[0m\u001b[0;34m\u001b[0m\u001b[0m\n\u001b[1;32m     51\u001b[0m             \u001b[0mdata\u001b[0m \u001b[0;34m=\u001b[0m \u001b[0mself\u001b[0m\u001b[0;34m.\u001b[0m\u001b[0mdataset\u001b[0m\u001b[0;34m[\u001b[0m\u001b[0mpossibly_batched_index\u001b[0m\u001b[0;34m]\u001b[0m\u001b[0;34m\u001b[0m\u001b[0;34m\u001b[0m\u001b[0m\n",
      "\u001b[0;32m/opt/conda/lib/python3.8/site-packages/torch/utils/data/_utils/fetch.py\u001b[0m in \u001b[0;36m<listcomp>\u001b[0;34m(.0)\u001b[0m\n\u001b[1;32m     47\u001b[0m     \u001b[0;32mdef\u001b[0m \u001b[0mfetch\u001b[0m\u001b[0;34m(\u001b[0m\u001b[0mself\u001b[0m\u001b[0;34m,\u001b[0m \u001b[0mpossibly_batched_index\u001b[0m\u001b[0;34m)\u001b[0m\u001b[0;34m:\u001b[0m\u001b[0;34m\u001b[0m\u001b[0;34m\u001b[0m\u001b[0m\n\u001b[1;32m     48\u001b[0m         \u001b[0;32mif\u001b[0m \u001b[0mself\u001b[0m\u001b[0;34m.\u001b[0m\u001b[0mauto_collation\u001b[0m\u001b[0;34m:\u001b[0m\u001b[0;34m\u001b[0m\u001b[0;34m\u001b[0m\u001b[0m\n\u001b[0;32m---> 49\u001b[0;31m             \u001b[0mdata\u001b[0m \u001b[0;34m=\u001b[0m \u001b[0;34m[\u001b[0m\u001b[0mself\u001b[0m\u001b[0;34m.\u001b[0m\u001b[0mdataset\u001b[0m\u001b[0;34m[\u001b[0m\u001b[0midx\u001b[0m\u001b[0;34m]\u001b[0m \u001b[0;32mfor\u001b[0m \u001b[0midx\u001b[0m \u001b[0;32min\u001b[0m \u001b[0mpossibly_batched_index\u001b[0m\u001b[0;34m]\u001b[0m\u001b[0;34m\u001b[0m\u001b[0;34m\u001b[0m\u001b[0m\n\u001b[0m\u001b[1;32m     50\u001b[0m         \u001b[0;32melse\u001b[0m\u001b[0;34m:\u001b[0m\u001b[0;34m\u001b[0m\u001b[0;34m\u001b[0m\u001b[0m\n\u001b[1;32m     51\u001b[0m             \u001b[0mdata\u001b[0m \u001b[0;34m=\u001b[0m \u001b[0mself\u001b[0m\u001b[0;34m.\u001b[0m\u001b[0mdataset\u001b[0m\u001b[0;34m[\u001b[0m\u001b[0mpossibly_batched_index\u001b[0m\u001b[0;34m]\u001b[0m\u001b[0;34m\u001b[0m\u001b[0;34m\u001b[0m\u001b[0m\n",
      "\u001b[0;32m/tmp/ipykernel_3217270/3848954507.py\u001b[0m in \u001b[0;36m__getitem__\u001b[0;34m(self, index)\u001b[0m\n\u001b[1;32m     12\u001b[0m \u001b[0;34m\u001b[0m\u001b[0m\n\u001b[1;32m     13\u001b[0m     \u001b[0;32mdef\u001b[0m \u001b[0m__getitem__\u001b[0m\u001b[0;34m(\u001b[0m\u001b[0mself\u001b[0m\u001b[0;34m,\u001b[0m \u001b[0mindex\u001b[0m\u001b[0;34m)\u001b[0m\u001b[0;34m:\u001b[0m\u001b[0;34m\u001b[0m\u001b[0;34m\u001b[0m\u001b[0m\n\u001b[0;32m---> 14\u001b[0;31m         \u001b[0;32mreturn\u001b[0m \u001b[0mself\u001b[0m\u001b[0;34m.\u001b[0m\u001b[0mtransforms\u001b[0m\u001b[0;34m(\u001b[0m\u001b[0mself\u001b[0m\u001b[0;34m.\u001b[0m\u001b[0mimage_files\u001b[0m\u001b[0;34m[\u001b[0m\u001b[0mindex\u001b[0m\u001b[0;34m]\u001b[0m\u001b[0;34m)\u001b[0m\u001b[0;34m,\u001b[0m \u001b[0mself\u001b[0m\u001b[0;34m.\u001b[0m\u001b[0mlabels\u001b[0m\u001b[0;34m[\u001b[0m\u001b[0mindex\u001b[0m\u001b[0;34m]\u001b[0m\u001b[0;34m\u001b[0m\u001b[0;34m\u001b[0m\u001b[0m\n\u001b[0m\u001b[1;32m     15\u001b[0m \u001b[0;34m\u001b[0m\u001b[0m\n\u001b[1;32m     16\u001b[0m \u001b[0;34m\u001b[0m\u001b[0m\n",
      "\u001b[0;32m/opt/conda/lib/python3.8/site-packages/monai/transforms/compose.py\u001b[0m in \u001b[0;36m__call__\u001b[0;34m(self, input_)\u001b[0m\n\u001b[1;32m    171\u001b[0m     \u001b[0;32mdef\u001b[0m \u001b[0m__call__\u001b[0m\u001b[0;34m(\u001b[0m\u001b[0mself\u001b[0m\u001b[0;34m,\u001b[0m \u001b[0minput_\u001b[0m\u001b[0;34m)\u001b[0m\u001b[0;34m:\u001b[0m\u001b[0;34m\u001b[0m\u001b[0;34m\u001b[0m\u001b[0m\n\u001b[1;32m    172\u001b[0m         \u001b[0;32mfor\u001b[0m \u001b[0m_transform\u001b[0m \u001b[0;32min\u001b[0m \u001b[0mself\u001b[0m\u001b[0;34m.\u001b[0m\u001b[0mtransforms\u001b[0m\u001b[0;34m:\u001b[0m\u001b[0;34m\u001b[0m\u001b[0;34m\u001b[0m\u001b[0m\n\u001b[0;32m--> 173\u001b[0;31m             \u001b[0minput_\u001b[0m \u001b[0;34m=\u001b[0m \u001b[0mapply_transform\u001b[0m\u001b[0;34m(\u001b[0m\u001b[0m_transform\u001b[0m\u001b[0;34m,\u001b[0m \u001b[0minput_\u001b[0m\u001b[0;34m,\u001b[0m \u001b[0mself\u001b[0m\u001b[0;34m.\u001b[0m\u001b[0mmap_items\u001b[0m\u001b[0;34m,\u001b[0m \u001b[0mself\u001b[0m\u001b[0;34m.\u001b[0m\u001b[0munpack_items\u001b[0m\u001b[0;34m,\u001b[0m \u001b[0mself\u001b[0m\u001b[0;34m.\u001b[0m\u001b[0mlog_stats\u001b[0m\u001b[0;34m)\u001b[0m\u001b[0;34m\u001b[0m\u001b[0;34m\u001b[0m\u001b[0m\n\u001b[0m\u001b[1;32m    174\u001b[0m         \u001b[0;32mreturn\u001b[0m \u001b[0minput_\u001b[0m\u001b[0;34m\u001b[0m\u001b[0;34m\u001b[0m\u001b[0m\n\u001b[1;32m    175\u001b[0m \u001b[0;34m\u001b[0m\u001b[0m\n",
      "\u001b[0;32m/opt/conda/lib/python3.8/site-packages/monai/transforms/transform.py\u001b[0m in \u001b[0;36mapply_transform\u001b[0;34m(transform, data, map_items, unpack_items, log_stats)\u001b[0m\n\u001b[1;32m    112\u001b[0m             \u001b[0;32melse\u001b[0m\u001b[0;34m:\u001b[0m\u001b[0;34m\u001b[0m\u001b[0;34m\u001b[0m\u001b[0m\n\u001b[1;32m    113\u001b[0m                 \u001b[0m_log_stats\u001b[0m\u001b[0;34m(\u001b[0m\u001b[0mdata\u001b[0m\u001b[0;34m=\u001b[0m\u001b[0mdata\u001b[0m\u001b[0;34m)\u001b[0m\u001b[0;34m\u001b[0m\u001b[0;34m\u001b[0m\u001b[0m\n\u001b[0;32m--> 114\u001b[0;31m         \u001b[0;32mraise\u001b[0m \u001b[0mRuntimeError\u001b[0m\u001b[0;34m(\u001b[0m\u001b[0;34mf\"applying transform {transform}\"\u001b[0m\u001b[0;34m)\u001b[0m \u001b[0;32mfrom\u001b[0m \u001b[0me\u001b[0m\u001b[0;34m\u001b[0m\u001b[0;34m\u001b[0m\u001b[0m\n\u001b[0m\u001b[1;32m    115\u001b[0m \u001b[0;34m\u001b[0m\u001b[0m\n\u001b[1;32m    116\u001b[0m \u001b[0;34m\u001b[0m\u001b[0m\n",
      "\u001b[0;31mRuntimeError\u001b[0m: applying transform <monai.transforms.io.array.LoadImage object at 0x7f9033e3d6a0>"
     ]
    }
   ],
   "source": [
    "%%time \n",
    "# train (and evaluate) the network, Ignite-style!\n",
    "train_epochs = 1\n",
    "state = trainer.run(train_loader, train_epochs)\n",
    "\n",
    "best_rocauc = max(metric_values)\n",
    "print(f\"train completed, best_metric: {best_rocauc:.4f} at epoch: {metric_values.index(best_rocauc)}\")"
   ]
  },
  {
   "cell_type": "markdown",
   "metadata": {},
   "source": [
    "### Plot the loss and metric\n",
    "Once we're done training we want to visualize our Loss and Accuracy."
   ]
  },
  {
   "cell_type": "code",
   "execution_count": 18,
   "metadata": {
    "colab": {
     "base_uri": "https://localhost:8080/",
     "height": 404
    },
    "id": "wU9U-gVkbzg-",
    "outputId": "d8af376d-9f88-4d1a-a761-8c4e0964ef78"
   },
   "outputs": [
    {
     "data": {
      "image/png": "[encoded data removed]",
      "text/plain": [
       "<Figure size 864x432 with 2 Axes>"
      ]
     },
     "metadata": {
      "needs_background": "light"
     },
     "output_type": "display_data"
    }
   ],
   "source": [
    "plt.figure(\"train\", (12, 6))\n",
    "plt.subplot(1, 2, 1)\n",
    "plt.title(\"Epoch Average Loss\")\n",
    "x = [i + 1 for i in range(len(epoch_loss_values))]\n",
    "y = epoch_loss_values\n",
    "plt.xlabel(\"epoch\")\n",
    "plt.plot(x, y)\n",
    "plt.subplot(1, 2, 2)\n",
    "plt.title(\"Val AUC\")\n",
    "x = [(i + 1) for i in range(len(metric_values))]\n",
    "y = metric_values\n",
    "plt.xlabel(\"epoch\")\n",
    "plt.plot(x, y)\n",
    "plt.show()"
   ]
  },
  {
   "cell_type": "markdown",
   "metadata": {},
   "source": [
    "##  Evaluate your model and understand the results\n",
    "### Evaluate the model on the test dataset\n",
    "\n",
    "After training and validation, we now have the best model as determined by the validation dataset. But now we need to evaluate the model on the test dataset to check whether the final model is robust and not over-fitting. We'll use these predictions to generate a classification report."
   ]
  },
  {
   "cell_type": "code",
   "execution_count": 19,
   "metadata": {
    "colab": {
     "base_uri": "https://localhost:8080/"
    },
    "id": "7V-xt-w8cXvp",
    "outputId": "0f8d7a44-62fd-4c03-aeb7-ea44195892e1"
   },
   "outputs": [],
   "source": [
    "net.load_state_dict(torch.load(os.path.join(root_dir, \"mednist_model_best.pth\")))\n",
    "net.eval()\n",
    "y_true = list()\n",
    "y_pred = list()\n",
    "\n",
    "with torch.no_grad():\n",
    "    for test_data in test_loader:\n",
    "        test_images, test_labels = (\n",
    "            test_data[0].to(device),\n",
    "            test_data[1].to(device),\n",
    "        )\n",
    "        pred = net(test_images).argmax(dim=1)\n",
    "        \n",
    "        for i in range(len(pred)):\n",
    "            y_true.append(test_labels[i].item())\n",
    "            y_pred.append(pred[i].item())"
   ]
  },
  {
   "cell_type": "markdown",
   "metadata": {},
   "source": [
    "### Some light analytics - classification report\n",
    "\n",
    "We'll utilize scikit-learn's classification report to get the precision, recall, and f1-score for each category."
   ]
  },
  {
   "cell_type": "code",
   "execution_count": 20,
   "metadata": {
    "colab": {
     "base_uri": "https://localhost:8080/"
    },
    "id": "S4yunihWcbZo",
    "outputId": "3175d8de-3708-4791-82bc-e52f2011ee0f"
   },
   "outputs": [
    {
     "name": "stdout",
     "output_type": "stream",
     "text": [
      "              precision    recall  f1-score   support\n",
      "\n",
      "   AbdomenCT     0.9561    0.9230    0.9393      1039\n",
      "   BreastMRI     0.9793    0.9890    0.9841       910\n",
      "         CXR     0.9808    0.9828    0.9818       987\n",
      "     ChestCT     0.9866    0.9990    0.9928      1033\n",
      "        Hand     0.9821    0.9648    0.9734       967\n",
      "      HeadCT     0.9305    0.9562    0.9432      1050\n",
      "\n",
      "    accuracy                         0.9686      5986\n",
      "   macro avg     0.9692    0.9691    0.9691      5986\n",
      "weighted avg     0.9687    0.9686    0.9685      5986\n",
      "\n"
     ]
    }
   ],
   "source": [
    "from sklearn.metrics import classification_report\n",
    "print(classification_report(y_true, y_pred, target_names=class_names, digits=4))"
   ]
  },
  {
   "cell_type": "markdown",
   "metadata": {},
   "source": [
    "### Some light analytics - confusion matrix\n",
    "\n",
    "Let's also create a confusion matrix to get a better understanding of the failure cases"
   ]
  },
  {
   "cell_type": "code",
   "execution_count": 21,
   "metadata": {
    "colab": {
     "base_uri": "https://localhost:8080/",
     "height": 322
    },
    "id": "Q0pDrlA2cfZx",
    "outputId": "3d36b18c-ee50-4d6c-d8c5-ee056b165110"
   },
   "outputs": [
    {
     "name": "stderr",
     "output_type": "stream",
     "text": [
      "FixedFormatter should only be used together with FixedLocator\n",
      "FixedFormatter should only be used together with FixedLocator\n"
     ]
    },
    {
     "data": {
      "image/png": "[encoded data removed]",
      "text/plain": [
       "<Figure size 432x288 with 2 Axes>"
      ]
     },
     "metadata": {
      "needs_background": "light"
     },
     "output_type": "display_data"
    }
   ],
   "source": [
    "from sklearn.metrics import confusion_matrix\n",
    "cmat = confusion_matrix(y_true, y_pred)\n",
    "fig = plt.figure()\n",
    "ax = fig.add_subplot(111)\n",
    "cax = ax.matshow(confusion_matrix(y_true, y_pred), cmap=\"terrain\", interpolation='nearest')\n",
    "fig.colorbar(cax)\n",
    "\n",
    "ax.set_xticklabels(['']+class_names, rotation=270)\n",
    "ax.set_yticklabels(['']+class_names)\n",
    "\n",
    "plt.show()"
   ]
  },
  {
   "cell_type": "markdown",
   "metadata": {},
   "source": [
    "## Caution !!!\n",
    "### please shutdown all kernels with [Kernel] menu >  [Shutdown All Kernel]  before launch next notebook\n",
    "\n",
    "## Navigation\n",
    "- [01_getting started](./01_getting.ipynb)\n",
    "\n",
    "- [02_pipeline_01](./02_pipeline_01.ipynb)\n",
    "- [02_pipeline_02 ](./02_pipeline_02.ipynb)\n",
    "- [02_pipeline_03 Next ](./02_pipeline_03.ipynb)\n",
    "- [02_pipeline_04](./02_pipeline_04.ipynb)\n",
    "\n",
    "- [03_brain_gan ](./03_brain_gan_01.ipynb)\n",
    "\n",
    "- [04_spleen_segment](./04_spleen_segment.ipynb) \n",
    "\n",
    "- [05_challenge_cardiac baseline](./05_challenge_cardiac_baseline.ipynb) \n",
    "\n",
    "- [05_challenge_cardiac workspace](./05_challenge_cardiac_workspace.ipynb) \n",
    "\n",
    "<img src=\"https://github.com/Project-MONAI/MONAIBootcamp2021/raw/2f28b64f814a03703667c8ea18cc84f53d6795e4/day1/monai.png\" width=400>"
   ]
  }
 ],
 "metadata": {
  "accelerator": "GPU",
  "colab": {
   "machine_shape": "hm",
   "name": "Monai_bootcamp_01_03.ipynb",
   "provenance": []
  },
  "kernelspec": {
   "display_name": "Python 3 (ipykernel)",
   "language": "python",
   "name": "python3"
  },
  "language_info": {
   "codemirror_mode": {
    "name": "ipython",
    "version": 3
   },
   "file_extension": ".py",
   "mimetype": "text/x-python",
   "name": "python",
   "nbconvert_exporter": "python",
   "pygments_lexer": "ipython3",
   "version": "3.8.12"
  }
 },
 "nbformat": 4,
 "nbformat_minor": 4
}
